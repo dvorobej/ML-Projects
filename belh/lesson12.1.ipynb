{
 "cells": [
  {
   "cell_type": "code",
   "execution_count": 2,
   "metadata": {},
   "outputs": [
    {
     "name": "stdout",
     "output_type": "stream",
     "text": [
      "Collecting keras\n",
      "  Downloading https://files.pythonhosted.org/packages/f8/ba/2d058dcf1b85b9c212cc58264c98a4a7dd92c989b798823cc5690d062bb2/Keras-2.2.5-py2.py3-none-any.whl (336kB)\n",
      "Requirement already satisfied: pyyaml in c:\\users\\windows10x64\\anaconda3\\lib\\site-packages (from keras) (5.1)\n",
      "Requirement already satisfied: scipy>=0.14 in c:\\users\\windows10x64\\anaconda3\\lib\\site-packages (from keras) (1.2.1)\n",
      "Requirement already satisfied: keras-preprocessing>=1.1.0 in c:\\users\\windows10x64\\anaconda3\\lib\\site-packages (from keras) (1.1.0)\n",
      "Requirement already satisfied: h5py in c:\\users\\windows10x64\\anaconda3\\lib\\site-packages (from keras) (2.9.0)\n",
      "Requirement already satisfied: six>=1.9.0 in c:\\users\\windows10x64\\anaconda3\\lib\\site-packages (from keras) (1.12.0)\n",
      "Requirement already satisfied: numpy>=1.9.1 in c:\\users\\windows10x64\\anaconda3\\lib\\site-packages (from keras) (1.16.2)\n",
      "Requirement already satisfied: keras-applications>=1.0.8 in c:\\users\\windows10x64\\anaconda3\\lib\\site-packages (from keras) (1.0.8)\n",
      "Installing collected packages: keras\n",
      "Successfully installed keras-2.2.5\n",
      "Note: you may need to restart the kernel to use updated packages.\n"
     ]
    }
   ],
   "source": [
    "pip install keras\n"
   ]
  },
  {
   "cell_type": "markdown",
   "metadata": {},
   "source": [
    "классическая русская литература\n",
    "==="
   ]
  },
  {
   "cell_type": "code",
   "execution_count": 3,
   "metadata": {},
   "outputs": [
    {
     "ename": "FileNotFoundError",
     "evalue": "[WinError 3] Системе не удается найти указанный путь: './books/'",
     "output_type": "error",
     "traceback": [
      "\u001b[1;31m---------------------------------------------------------------------------\u001b[0m",
      "\u001b[1;31mFileNotFoundError\u001b[0m                         Traceback (most recent call last)",
      "\u001b[1;32m<ipython-input-3-54a12dab7615>\u001b[0m in \u001b[0;36m<module>\u001b[1;34m\u001b[0m\n\u001b[0;32m      3\u001b[0m \u001b[1;33m\u001b[0m\u001b[0m\n\u001b[0;32m      4\u001b[0m \u001b[0mpath\u001b[0m \u001b[1;33m=\u001b[0m \u001b[1;34m'./books/'\u001b[0m\u001b[1;33m\u001b[0m\u001b[1;33m\u001b[0m\u001b[0m\n\u001b[1;32m----> 5\u001b[1;33m \u001b[0mbooks\u001b[0m \u001b[1;33m=\u001b[0m \u001b[0mos\u001b[0m\u001b[1;33m.\u001b[0m\u001b[0mlistdir\u001b[0m\u001b[1;33m(\u001b[0m\u001b[0mpath\u001b[0m\u001b[1;33m)\u001b[0m\u001b[1;33m\u001b[0m\u001b[1;33m\u001b[0m\u001b[0m\n\u001b[0m\u001b[0;32m      6\u001b[0m \u001b[0mall_text\u001b[0m \u001b[1;33m=\u001b[0m \u001b[1;33m[\u001b[0m\u001b[1;33m]\u001b[0m\u001b[1;33m\u001b[0m\u001b[1;33m\u001b[0m\u001b[0m\n\u001b[0;32m      7\u001b[0m \u001b[1;32mfor\u001b[0m \u001b[0mb\u001b[0m \u001b[1;32min\u001b[0m \u001b[0mbooks\u001b[0m\u001b[1;33m:\u001b[0m\u001b[1;33m\u001b[0m\u001b[1;33m\u001b[0m\u001b[0m\n",
      "\u001b[1;31mFileNotFoundError\u001b[0m: [WinError 3] Системе не удается найти указанный путь: './books/'"
     ]
    }
   ],
   "source": [
    "import os\n",
    "import re\n",
    "\n",
    "path = './books/'\n",
    "books = os.listdir(path)\n",
    "all_text = []\n",
    "for b in books:\n",
    "    with open(path + b) as file:\n",
    "        all_text.append(re.findall(r'\\w+', file.read().lower()))"
   ]
  },
  {
   "cell_type": "code",
   "execution_count": 2,
   "metadata": {},
   "outputs": [],
   "source": [
    "from gensim.models.phrases import Phraser, Phrases\n",
    "bigram = Phrases(all_text)\n",
    "bigram_transformer = Phraser(bigram)"
   ]
  },
  {
   "cell_type": "code",
   "execution_count": 3,
   "metadata": {},
   "outputs": [],
   "source": [
    "def text_geneterot_bigram():\n",
    "    for text in all_text:\n",
    "        yield bigram_transformer[[w for w in text]]"
   ]
  },
  {
   "cell_type": "code",
   "execution_count": 4,
   "metadata": {},
   "outputs": [
    {
     "data": {
      "text/plain": [
       "['антон_павлович',\n",
       " 'павлович_чехов',\n",
       " 'чехов_75000',\n",
       " '75000_ночью',\n",
       " 'ночью_часов',\n",
       " 'часов_в',\n",
       " 'в_12',\n",
       " '12_по',\n",
       " 'по_тверскому',\n",
       " 'тверскому_бульвару']"
      ]
     },
     "execution_count": 4,
     "metadata": {},
     "output_type": "execute_result"
    }
   ],
   "source": [
    "[i.decode() for i in list(bigram.vocab.keys()) if '_' in i.decode()][:10]"
   ]
  },
  {
   "cell_type": "code",
   "execution_count": 5,
   "metadata": {},
   "outputs": [
    {
     "data": {
      "text/plain": [
       "(14514215, 54294365)"
      ]
     },
     "execution_count": 5,
     "metadata": {},
     "output_type": "execute_result"
    }
   ],
   "source": [
    "from gensim.models.word2vec import Word2Vec\n",
    "model = Word2Vec(size=100, window=7, min_count=10, workers=10)\n",
    "model.build_vocab(all_text)\n",
    "model.train(all_text, total_examples=model.corpus_count, epochs=model.epochs)"
   ]
  },
  {
   "cell_type": "code",
   "execution_count": 8,
   "metadata": {},
   "outputs": [
    {
     "name": "stderr",
     "output_type": "stream",
     "text": [
      "C:\\Users\\Bogdan\\Anaconda3\\lib\\site-packages\\ipykernel_launcher.py:1: DeprecationWarning: Call to deprecated `most_similar` (Method will be removed in 4.0.0, use self.wv.most_similar() instead).\n",
      "  \"\"\"Entry point for launching an IPython kernel.\n"
     ]
    },
    {
     "data": {
      "text/plain": [
       "[('николаевич', 0.9008417129516602),\n",
       " ('наркисович', 0.8905894160270691),\n",
       " ('мамин', 0.8871534466743469),\n",
       " ('щедрин', 0.8834531307220459),\n",
       " ('сибиряк', 0.883063554763794),\n",
       " ('феофилактович', 0.8829348087310791),\n",
       " ('писемский', 0.8807162046432495),\n",
       " ('толстой', 0.8763442635536194),\n",
       " ('достоевский', 0.8746312856674194),\n",
       " ('салтыков', 0.8715686798095703)]"
      ]
     },
     "execution_count": 8,
     "metadata": {},
     "output_type": "execute_result"
    }
   ],
   "source": [
    "model.most_similar('лев')"
   ]
  },
  {
   "cell_type": "code",
   "execution_count": 9,
   "metadata": {},
   "outputs": [
    {
     "name": "stderr",
     "output_type": "stream",
     "text": [
      "C:\\Users\\Bogdan\\Anaconda3\\lib\\site-packages\\ipykernel_launcher.py:1: DeprecationWarning: Call to deprecated `most_similar_cosmul` (Method will be removed in 4.0.0, use self.wv.most_similar_cosmul() instead).\n",
      "  \"\"\"Entry point for launching an IPython kernel.\n"
     ]
    },
    {
     "data": {
      "text/plain": [
       "[('доверчив', 57.866973876953125),\n",
       " ('содроганием', 56.412391662597656),\n",
       " ('повеселевшим', 54.266902923583984),\n",
       " ('тунгусов', 46.57536697387695),\n",
       " ('изумленными', 46.16642379760742),\n",
       " ('райнером', 44.752418518066406),\n",
       " ('агафьей', 44.71990966796875),\n",
       " ('скрутить', 43.30238723754883),\n",
       " ('огорченно', 41.83283233642578),\n",
       " ('посмотрят', 41.450599670410156)]"
      ]
     },
     "execution_count": 9,
     "metadata": {},
     "output_type": "execute_result"
    }
   ],
   "source": [
    "model.most_similar_cosmul(\"лев\", \"человек\")"
   ]
  },
  {
   "cell_type": "code",
   "execution_count": 10,
   "metadata": {},
   "outputs": [
    {
     "name": "stderr",
     "output_type": "stream",
     "text": [
      "C:\\Users\\Bogdan\\Anaconda3\\lib\\site-packages\\ipykernel_launcher.py:1: DeprecationWarning: Call to deprecated `most_similar` (Method will be removed in 4.0.0, use self.wv.most_similar() instead).\n",
      "  \"\"\"Entry point for launching an IPython kernel.\n"
     ]
    },
    {
     "data": {
      "text/plain": [
       "[('народ', 0.7387912273406982),\n",
       " ('солдат', 0.6814917922019958),\n",
       " ('лес', 0.656775712966919),\n",
       " ('камень', 0.6259007453918457),\n",
       " ('медведь', 0.6084969639778137),\n",
       " ('мужик', 0.604680061340332),\n",
       " ('вырос', 0.6010502576828003),\n",
       " ('снег', 0.5940864086151123),\n",
       " ('обоз', 0.5894851088523865),\n",
       " ('дуб', 0.5872336626052856)]"
      ]
     },
     "execution_count": 10,
     "metadata": {},
     "output_type": "execute_result"
    }
   ],
   "source": [
    "model.most_similar(positive=['человек', 'вода'], negative=['женщина'])"
   ]
  },
  {
   "cell_type": "markdown",
   "metadata": {},
   "source": [
    "Dump Wiki\n",
    "==="
   ]
  },
  {
   "cell_type": "markdown",
   "metadata": {},
   "source": [
    "[dumps](https://dumps.wikimedia.org/ruwiki/latest/)"
   ]
  },
  {
   "cell_type": "code",
   "execution_count": 1,
   "metadata": {},
   "outputs": [],
   "source": [
    "from gensim.corpora.wikicorpus import WikiCorpus\n",
    "from gensim.models.phrases import Phraser, Phrases\n",
    "from gensim.models.word2vec import Word2Vec\n",
    "from time import time\n",
    "import warnings\n",
    "warnings.filterwarnings(action='ignore', category=UserWarning, module='gensim')\n",
    "\n",
    "wiki = WikiCorpus('ruwiki-latest-pages-articles.xml.bz2', dictionary=False)"
   ]
  },
  {
   "cell_type": "code",
   "execution_count": 2,
   "metadata": {},
   "outputs": [
    {
     "name": "stdout",
     "output_type": "stream",
     "text": [
      "4023.204165458679 point one\n",
      "9213.639261960983 point two\n",
      "14975.569536924362 point three\n",
      "20311.496700763702 finish\n"
     ]
    }
   ],
   "source": [
    "start = time()\n",
    "\n",
    "bigram = Phrases(wiki.get_texts())\n",
    "bigram_transformer = Phraser(bigram)\n",
    "\n",
    "def text_geneterot_bigram():\n",
    "    for text in wiki.get_texts():\n",
    "        yield bigram_transformer[text]\n",
    "print(time() - start, 'point one')\n",
    "        \n",
    "    \n",
    "trigram = Phrases(text_geneterot_bigram())\n",
    "trigram_transformer = Phraser(trigram)\n",
    "def text_geneterot_trigram():\n",
    "    for text in wiki.get_texts():\n",
    "        yield trigram_transformer[bigram_transformer[text]]\n",
    "print(time() - start, 'point two')\n",
    "\n",
    "\n",
    "model = Word2Vec(size=100, window=7, min_count=10, workers=10)\n",
    "model.build_vocab(text_geneterot_trigram())\n",
    "print(time() - start, 'point three')\n",
    "model.train(text_geneterot_trigram(), total_examples=model.corpus_count, epochs=model.epochs)\n",
    "print(time() - start, 'finish')"
   ]
  },
  {
   "cell_type": "code",
   "execution_count": 3,
   "metadata": {},
   "outputs": [],
   "source": [
    "import pickle\n",
    "pickle.dump(model, open('word2vec', 'wb'))"
   ]
  },
  {
   "cell_type": "code",
   "execution_count": 7,
   "metadata": {},
   "outputs": [
    {
     "data": {
      "text/plain": [
       "[('королева', 0.7384017705917358),\n",
       " ('империя', 0.7043378353118896),\n",
       " ('императрица', 0.6738594174385071),\n",
       " ('принцесса', 0.6579424142837524),\n",
       " ('правительница', 0.655333399772644),\n",
       " ('королевой', 0.6071252822875977),\n",
       " ('герцогиня', 0.5955508351325989),\n",
       " ('королева_елизавета', 0.5924015045166016),\n",
       " ('королевская_семья', 0.5916932821273804),\n",
       " ('венецианская_республика', 0.5910322070121765)]"
      ]
     },
     "execution_count": 7,
     "metadata": {},
     "output_type": "execute_result"
    }
   ],
   "source": [
    "model.wv.most_similar(positive=['король','женщина'], negative=['мужчина'])"
   ]
  },
  {
   "cell_type": "code",
   "execution_count": 8,
   "metadata": {},
   "outputs": [
    {
     "data": {
      "text/plain": [
       "[('учёная', 0.729953408241272),\n",
       " ('доктор_филологических_наук', 0.7261648774147034),\n",
       " ('филолог', 0.6973267793655396),\n",
       " ('доктор_философских_наук', 0.6920692324638367),\n",
       " ('поэтесса', 0.6864198446273804),\n",
       " ('доктор_философии', 0.682542085647583),\n",
       " ('американский_математик', 0.6808996200561523),\n",
       " ('переводчица', 0.6743535995483398),\n",
       " ('кандидат_филологических_наук', 0.6712615489959717),\n",
       " ('этномузыковед', 0.6689277291297913)]"
      ]
     },
     "execution_count": 8,
     "metadata": {},
     "output_type": "execute_result"
    }
   ],
   "source": [
    "model.wv.most_similar(positive=['математик','женщина'], negative=['мужчина'])"
   ]
  },
  {
   "cell_type": "code",
   "execution_count": 9,
   "metadata": {},
   "outputs": [
    {
     "data": {
      "text/plain": [
       "[('париж', 0.7040236592292786),\n",
       " ('жак', 0.6824785470962524),\n",
       " ('фр', 0.6766302585601807),\n",
       " ('жан', 0.6739745736122131),\n",
       " ('жорж', 0.6730591654777527),\n",
       " ('анри', 0.6725378036499023),\n",
       " ('марсель', 0.6620060205459595),\n",
       " ('пьер', 0.6486740112304688),\n",
       " ('поль', 0.6456040143966675),\n",
       " ('париж_франция', 0.6314656734466553)]"
      ]
     },
     "execution_count": 9,
     "metadata": {},
     "output_type": "execute_result"
    }
   ],
   "source": [
    "model.wv.most_similar(positive=['москва','франция'], negative=['россия'])"
   ]
  },
  {
   "cell_type": "code",
   "execution_count": 18,
   "metadata": {},
   "outputs": [
    {
     "data": {
      "text/plain": [
       "[('светлое_будущее', 0.7709049582481384),\n",
       " ('одиночество', 0.7440266609191895),\n",
       " ('счастье', 0.7315576076507568),\n",
       " ('радость', 0.7288451194763184),\n",
       " ('совесть', 0.725634753704071),\n",
       " ('бессмертие', 0.7078778147697449),\n",
       " ('печаль', 0.7054910659790039),\n",
       " ('страсть', 0.7044861316680908),\n",
       " ('красота', 0.7037808895111084),\n",
       " ('добра', 0.6997663974761963)]"
      ]
     },
     "execution_count": 18,
     "metadata": {},
     "output_type": "execute_result"
    }
   ],
   "source": [
    "model.wv.most_similar(positive=['любовь', \"мир\"])"
   ]
  },
  {
   "cell_type": "code",
   "execution_count": 16,
   "metadata": {},
   "outputs": [
    {
     "data": {
      "text/plain": [
       "[('главный_герой', 0.7804614305496216),\n",
       " ('воин', 0.738084077835083),\n",
       " ('героя', 0.7122530937194824),\n",
       " ('героем', 0.7051619291305542),\n",
       " ('главный_злодей', 0.6971005201339722),\n",
       " ('главный_герой_романа', 0.6700918078422546),\n",
       " ('враг', 0.6672258377075195),\n",
       " ('персонаж', 0.662002444267273),\n",
       " ('злодей', 0.6607800126075745),\n",
       " ('герою', 0.6597226858139038)]"
      ]
     },
     "execution_count": 16,
     "metadata": {},
     "output_type": "execute_result"
    }
   ],
   "source": [
    "model.wv.most_similar(positive=['герой'])"
   ]
  },
  {
   "cell_type": "code",
   "execution_count": 16,
   "metadata": {},
   "outputs": [
    {
     "data": {
      "text/plain": [
       "[('светлое_будущее', 0.7709049582481384),\n",
       " ('одиночество', 0.7440266609191895),\n",
       " ('счастье', 0.7315576076507568),\n",
       " ('радость', 0.7288451194763184),\n",
       " ('совесть', 0.725634753704071),\n",
       " ('бессмертие', 0.7078778147697449),\n",
       " ('печаль', 0.7054910659790039),\n",
       " ('страсть', 0.7044861316680908),\n",
       " ('красота', 0.7037808895111084),\n",
       " ('добра', 0.6997663974761963)]"
      ]
     },
     "execution_count": 16,
     "metadata": {},
     "output_type": "execute_result"
    }
   ],
   "source": [
    "import pickle\n",
    "test = pickle.load(open('word2vec', 'rb'))\n",
    "test.wv.most_similar(positive=['любовь', \"мир\"])"
   ]
  },
  {
   "cell_type": "markdown",
   "metadata": {},
   "source": [
    "[ссылка на проект](https://github.com/Bogdankozlovskiy/word2vec3.5)"
   ]
  },
  {
   "cell_type": "markdown",
   "metadata": {},
   "source": [
    "***"
   ]
  },
  {
   "cell_type": "code",
   "execution_count": 4,
   "metadata": {},
   "outputs": [],
   "source": [
    "import numpy as np\n",
    "timesteps = 100\n",
    "input_features = 32\n",
    "output_features = 64\n",
    "\n",
    "inputs = np.random.random((timesteps, input_features))\n",
    "state_t = np.zeros((output_features,))\n",
    "\n",
    "W = np.random.random((output_features, input_features))\n",
    "U = np.random.random((output_features, output_features))\n",
    "b = np.random.random((output_features,))\n",
    "\n",
    "successive_outputs = []\n",
    "for input_t in inputs:\n",
    "    output_t = np.tanh(np.dot(W, input_t) + np.dot(U, state_t) + b)\n",
    "    successive_outputs.append(output_t)\n",
    "    state_t = output_t\n",
    "\n",
    "final_output_sequence = np.concatenate(successive_outputs, axis=0)"
   ]
  },
  {
   "cell_type": "code",
   "execution_count": 6,
   "metadata": {},
   "outputs": [
    {
     "ename": "TypeError",
     "evalue": "load() got multiple values for keyword argument 'allow_pickle'",
     "output_type": "error",
     "traceback": [
      "\u001b[1;31m---------------------------------------------------------------------------\u001b[0m",
      "\u001b[1;31mTypeError\u001b[0m                                 Traceback (most recent call last)",
      "\u001b[1;32m<ipython-input-6-09f916ff93bf>\u001b[0m in \u001b[0;36m<module>\u001b[1;34m\u001b[0m\n\u001b[0;32m     11\u001b[0m \u001b[0mbatch_size\u001b[0m \u001b[1;33m=\u001b[0m \u001b[1;36m32\u001b[0m\u001b[1;33m\u001b[0m\u001b[1;33m\u001b[0m\u001b[0m\n\u001b[0;32m     12\u001b[0m \u001b[1;33m\u001b[0m\u001b[0m\n\u001b[1;32m---> 13\u001b[1;33m \u001b[1;33m(\u001b[0m\u001b[0mx_train\u001b[0m\u001b[1;33m,\u001b[0m \u001b[0my_train\u001b[0m\u001b[1;33m)\u001b[0m\u001b[1;33m,\u001b[0m \u001b[1;33m(\u001b[0m\u001b[0mx_test\u001b[0m\u001b[1;33m,\u001b[0m \u001b[0my_test\u001b[0m\u001b[1;33m)\u001b[0m \u001b[1;33m=\u001b[0m \u001b[0mimdb\u001b[0m\u001b[1;33m.\u001b[0m\u001b[0mload_data\u001b[0m\u001b[1;33m(\u001b[0m\u001b[0mnum_words\u001b[0m\u001b[1;33m=\u001b[0m\u001b[0mmax_features\u001b[0m\u001b[1;33m)\u001b[0m\u001b[1;33m\u001b[0m\u001b[1;33m\u001b[0m\u001b[0m\n\u001b[0m\u001b[0;32m     14\u001b[0m \u001b[0mnp\u001b[0m\u001b[1;33m.\u001b[0m\u001b[0mload\u001b[0m \u001b[1;33m=\u001b[0m \u001b[0mnp_load_old\u001b[0m\u001b[1;33m\u001b[0m\u001b[1;33m\u001b[0m\u001b[0m\n\u001b[0;32m     15\u001b[0m \u001b[1;33m\u001b[0m\u001b[0m\n",
      "\u001b[1;32m~\\Anaconda3\\lib\\site-packages\\keras\\datasets\\imdb.py\u001b[0m in \u001b[0;36mload_data\u001b[1;34m(path, num_words, skip_top, maxlen, seed, start_char, oov_char, index_from, **kwargs)\u001b[0m\n\u001b[0;32m     56\u001b[0m                     \u001b[0morigin\u001b[0m\u001b[1;33m=\u001b[0m\u001b[1;34m'https://s3.amazonaws.com/text-datasets/imdb.npz'\u001b[0m\u001b[1;33m,\u001b[0m\u001b[1;33m\u001b[0m\u001b[1;33m\u001b[0m\u001b[0m\n\u001b[0;32m     57\u001b[0m                     file_hash='599dadb1135973df5b59232a0e9a887c')\n\u001b[1;32m---> 58\u001b[1;33m     \u001b[1;32mwith\u001b[0m \u001b[0mnp\u001b[0m\u001b[1;33m.\u001b[0m\u001b[0mload\u001b[0m\u001b[1;33m(\u001b[0m\u001b[0mpath\u001b[0m\u001b[1;33m,\u001b[0m \u001b[0mallow_pickle\u001b[0m\u001b[1;33m=\u001b[0m\u001b[1;32mTrue\u001b[0m\u001b[1;33m)\u001b[0m \u001b[1;32mas\u001b[0m \u001b[0mf\u001b[0m\u001b[1;33m:\u001b[0m\u001b[1;33m\u001b[0m\u001b[1;33m\u001b[0m\u001b[0m\n\u001b[0m\u001b[0;32m     59\u001b[0m         \u001b[0mx_train\u001b[0m\u001b[1;33m,\u001b[0m \u001b[0mlabels_train\u001b[0m \u001b[1;33m=\u001b[0m \u001b[0mf\u001b[0m\u001b[1;33m[\u001b[0m\u001b[1;34m'x_train'\u001b[0m\u001b[1;33m]\u001b[0m\u001b[1;33m,\u001b[0m \u001b[0mf\u001b[0m\u001b[1;33m[\u001b[0m\u001b[1;34m'y_train'\u001b[0m\u001b[1;33m]\u001b[0m\u001b[1;33m\u001b[0m\u001b[1;33m\u001b[0m\u001b[0m\n\u001b[0;32m     60\u001b[0m         \u001b[0mx_test\u001b[0m\u001b[1;33m,\u001b[0m \u001b[0mlabels_test\u001b[0m \u001b[1;33m=\u001b[0m \u001b[0mf\u001b[0m\u001b[1;33m[\u001b[0m\u001b[1;34m'x_test'\u001b[0m\u001b[1;33m]\u001b[0m\u001b[1;33m,\u001b[0m \u001b[0mf\u001b[0m\u001b[1;33m[\u001b[0m\u001b[1;34m'y_test'\u001b[0m\u001b[1;33m]\u001b[0m\u001b[1;33m\u001b[0m\u001b[1;33m\u001b[0m\u001b[0m\n",
      "\u001b[1;32m<ipython-input-5-9fcd8718afcc>\u001b[0m in \u001b[0;36m<lambda>\u001b[1;34m(*a, **k)\u001b[0m\n\u001b[0;32m      5\u001b[0m \u001b[1;33m\u001b[0m\u001b[0m\n\u001b[0;32m      6\u001b[0m \u001b[0mnp_load_old\u001b[0m \u001b[1;33m=\u001b[0m \u001b[0mnp\u001b[0m\u001b[1;33m.\u001b[0m\u001b[0mload\u001b[0m\u001b[1;33m\u001b[0m\u001b[1;33m\u001b[0m\u001b[0m\n\u001b[1;32m----> 7\u001b[1;33m \u001b[0mnp\u001b[0m\u001b[1;33m.\u001b[0m\u001b[0mload\u001b[0m \u001b[1;33m=\u001b[0m \u001b[1;32mlambda\u001b[0m \u001b[1;33m*\u001b[0m\u001b[0ma\u001b[0m\u001b[1;33m,\u001b[0m\u001b[1;33m**\u001b[0m\u001b[0mk\u001b[0m\u001b[1;33m:\u001b[0m \u001b[0mnp_load_old\u001b[0m\u001b[1;33m(\u001b[0m\u001b[1;33m*\u001b[0m\u001b[0ma\u001b[0m\u001b[1;33m,\u001b[0m \u001b[0mallow_pickle\u001b[0m\u001b[1;33m=\u001b[0m\u001b[1;32mTrue\u001b[0m\u001b[1;33m,\u001b[0m \u001b[1;33m**\u001b[0m\u001b[0mk\u001b[0m\u001b[1;33m)\u001b[0m\u001b[1;33m\u001b[0m\u001b[1;33m\u001b[0m\u001b[0m\n\u001b[0m\u001b[0;32m      8\u001b[0m \u001b[1;33m\u001b[0m\u001b[0m\n\u001b[0;32m      9\u001b[0m \u001b[0mmax_features\u001b[0m \u001b[1;33m=\u001b[0m \u001b[1;36m10\u001b[0m \u001b[1;33m**\u001b[0m \u001b[1;36m4\u001b[0m\u001b[1;33m\u001b[0m\u001b[1;33m\u001b[0m\u001b[0m\n",
      "\u001b[1;31mTypeError\u001b[0m: load() got multiple values for keyword argument 'allow_pickle'"
     ]
    }
   ],
   "source": [
    "from keras.models import Sequential\n",
    "from keras.layers import Embedding, SimpleRNN, Embedding, Dense\n",
    "from keras.preprocessing import sequence\n",
    "from keras.datasets import imdb\n",
    "\n",
    "#np_load_old = np.load\n",
    "#np.load = lambda *a,**k: np_load_old(*a, allow_pickle=True, **k)\n",
    "\n",
    "max_features = 10 ** 4\n",
    "maxlen = 500\n",
    "batch_size = 32\n",
    "\n",
    "(x_train, y_train), (x_test, y_test) = imdb.load_data(num_words=max_features)\n",
    "np.load = np_load_old\n",
    "\n",
    "x_train = sequence.pad_sequences(x_train, maxlen=maxlen)\n",
    "x_test = sequence.pad_sequences(x_test, maxlen=maxlen)"
   ]
  },
  {
   "cell_type": "code",
   "execution_count": 5,
   "metadata": {},
   "outputs": [],
   "source": [
    "model = Sequential()\n",
    "model.add(Embedding(max_features, 32))\n",
    "model.add(SimpleRNN(32))\n",
    "model.add(Dense(1, activation='sigmoid'))"
   ]
  },
  {
   "cell_type": "code",
   "execution_count": 7,
   "metadata": {},
   "outputs": [],
   "source": [
    "model.compile(optimizer='rmsprop', loss='binary_crossentropy', metrics=['acc'])"
   ]
  },
  {
   "cell_type": "code",
   "execution_count": 8,
   "metadata": {
    "scrolled": true
   },
   "outputs": [
    {
     "name": "stderr",
     "output_type": "stream",
     "text": [
      "W0818 18:00:27.532576  7056 deprecation_wrapper.py:119] From C:\\Users\\Bogdan\\Anaconda3\\lib\\site-packages\\keras\\backend\\tensorflow_backend.py:986: The name tf.assign_add is deprecated. Please use tf.compat.v1.assign_add instead.\n",
      "\n"
     ]
    },
    {
     "name": "stdout",
     "output_type": "stream",
     "text": [
      "Train on 20000 samples, validate on 5000 samples\n",
      "Epoch 1/10\n",
      "20000/20000 [==============================] - 179s 9ms/step - loss: 0.5038 - acc: 0.7435 - val_loss: 0.3667 - val_acc: 0.8520\n",
      "Epoch 2/10\n",
      "20000/20000 [==============================] - 169s 8ms/step - loss: 0.3368 - acc: 0.8632 - val_loss: 0.3256 - val_acc: 0.8760\n",
      "Epoch 3/10\n",
      "20000/20000 [==============================] - 167s 8ms/step - loss: 0.2764 - acc: 0.8918 - val_loss: 0.3150 - val_acc: 0.8764\n",
      "Epoch 4/10\n",
      "20000/20000 [==============================] - 172s 9ms/step - loss: 0.2434 - acc: 0.9058 - val_loss: 0.3257 - val_acc: 0.8632\n",
      "Epoch 5/10\n",
      "20000/20000 [==============================] - 169s 8ms/step - loss: 0.2550 - acc: 0.9054 - val_loss: 0.3275 - val_acc: 0.8750\n",
      "Epoch 6/10\n",
      "20000/20000 [==============================] - 169s 8ms/step - loss: 0.2052 - acc: 0.9233 - val_loss: 0.3512 - val_acc: 0.8526\n",
      "Epoch 7/10\n",
      "20000/20000 [==============================] - 169s 8ms/step - loss: 0.1818 - acc: 0.9321 - val_loss: 0.3726 - val_acc: 0.8510\n",
      "Epoch 8/10\n",
      "20000/20000 [==============================] - 171s 9ms/step - loss: 0.1517 - acc: 0.9465 - val_loss: 0.4226 - val_acc: 0.8212\n",
      "Epoch 9/10\n",
      "20000/20000 [==============================] - 170s 9ms/step - loss: 0.1359 - acc: 0.9489 - val_loss: 0.4145 - val_acc: 0.8290\n",
      "Epoch 10/10\n",
      "20000/20000 [==============================] - 170s 8ms/step - loss: 0.1105 - acc: 0.9584 - val_loss: 0.3988 - val_acc: 0.8390\n"
     ]
    }
   ],
   "source": [
    "history = model.fit(x_train, y_train, epochs=10, batch_size=batch_size, validation_split=0.2)"
   ]
  },
  {
   "cell_type": "code",
   "execution_count": 9,
   "metadata": {},
   "outputs": [],
   "source": [
    "from matplotlib import pyplot as plt\n",
    "%matplotlib inline"
   ]
  },
  {
   "cell_type": "code",
   "execution_count": 16,
   "metadata": {},
   "outputs": [
    {
     "data": {
      "image/png": "[encoded data removed]",
      "text/plain": [
       "<Figure size 432x288 with 1 Axes>"
      ]
     },
     "metadata": {
      "needs_background": "light"
     },
     "output_type": "display_data"
    }
   ],
   "source": [
    "plt.plot(range(1, 11), history.history['loss'], label='loss')\n",
    "plt.plot(range(1, 11), history.history['val_loss'], label='val_loss')\n",
    "plt.legend()\n",
    "plt.xlabel('epochs')\n",
    "plt.ylabel('loss')\n",
    "plt.grid(True)"
   ]
  },
  {
   "cell_type": "code",
   "execution_count": 17,
   "metadata": {},
   "outputs": [
    {
     "data": {
      "image/png": "[encoded data removed]",
      "text/plain": [
       "<Figure size 432x288 with 1 Axes>"
      ]
     },
     "metadata": {
      "needs_background": "light"
     },
     "output_type": "display_data"
    }
   ],
   "source": [
    "plt.plot(range(1, 11), history.history['acc'], label='acc')\n",
    "plt.plot(range(1, 11), history.history['val_acc'], label='val_acc')\n",
    "plt.legend()\n",
    "plt.xlabel('epochs')\n",
    "plt.ylabel('acc')\n",
    "plt.grid(True)"
   ]
  },
  {
   "cell_type": "markdown",
   "metadata": {},
   "source": [
    "***"
   ]
  },
  {
   "cell_type": "markdown",
   "metadata": {},
   "source": [
    "LSTM(Long Short Time Memory)\n",
    "==="
   ]
  },
  {
   "cell_type": "code",
   "execution_count": 9,
   "metadata": {},
   "outputs": [],
   "source": [
    "from keras.layers import LSTM\n",
    "from matplotlib import pyplot as plt\n",
    "\n",
    "model = Sequential()\n",
    "model.add(Embedding(max_features, 32))\n",
    "model.add(LSTM(32))\n",
    "model.add(Dense(1, activation='sigmoid'))\n",
    "\n",
    "model.compile(optimizer='rmsprop', loss='binary_crossentropy', metrics=['acc'])"
   ]
  },
  {
   "cell_type": "code",
   "execution_count": 7,
   "metadata": {},
   "outputs": [
    {
     "name": "stderr",
     "output_type": "stream",
     "text": [
      "W0819 18:29:30.639488  7748 deprecation_wrapper.py:119] From C:\\Users\\Bogdan\\Anaconda3\\lib\\site-packages\\keras\\backend\\tensorflow_backend.py:986: The name tf.assign_add is deprecated. Please use tf.compat.v1.assign_add instead.\n",
      "\n"
     ]
    },
    {
     "name": "stdout",
     "output_type": "stream",
     "text": [
      "Train on 20000 samples, validate on 5000 samples\n",
      "Epoch 1/10\n",
      "20000/20000 [==============================] - 715s 36ms/step - loss: 0.4203 - acc: 0.8084 - val_loss: 0.3176 - val_acc: 0.8674\n",
      "Epoch 2/10\n",
      "20000/20000 [==============================] - 711s 36ms/step - loss: 0.2782 - acc: 0.8931 - val_loss: 0.2989 - val_acc: 0.8738\n",
      "Epoch 3/10\n",
      "20000/20000 [==============================] - 712s 36ms/step - loss: 0.2225 - acc: 0.9186 - val_loss: 0.2895 - val_acc: 0.8824\n",
      "Epoch 4/10\n",
      "20000/20000 [==============================] - 712s 36ms/step - loss: 0.1997 - acc: 0.9260 - val_loss: 0.3155 - val_acc: 0.8788\n",
      "Epoch 5/10\n",
      "20000/20000 [==============================] - 709s 35ms/step - loss: 0.1851 - acc: 0.9326 - val_loss: 0.2733 - val_acc: 0.8920\n",
      "Epoch 6/10\n",
      "20000/20000 [==============================] - 714s 36ms/step - loss: 0.1694 - acc: 0.9382 - val_loss: 0.2755 - val_acc: 0.8890\n",
      "Epoch 7/10\n",
      "20000/20000 [==============================] - 709s 35ms/step - loss: 0.1540 - acc: 0.9451 - val_loss: 0.2929 - val_acc: 0.8896\n",
      "Epoch 8/10\n",
      "20000/20000 [==============================] - 710s 35ms/step - loss: 0.1434 - acc: 0.9493 - val_loss: 0.3175 - val_acc: 0.8840\n",
      "Epoch 9/10\n",
      "20000/20000 [==============================] - 711s 36ms/step - loss: 0.1362 - acc: 0.9516 - val_loss: 0.2998 - val_acc: 0.8810\n",
      "Epoch 10/10\n",
      "20000/20000 [==============================] - 712s 36ms/step - loss: 0.1291 - acc: 0.9544 - val_loss: 0.3027 - val_acc: 0.8906\n"
     ]
    }
   ],
   "source": [
    "history = model.fit(x_train, y_train, epochs=10, batch_size=batch_size, validation_split=0.2)"
   ]
  },
  {
   "cell_type": "code",
   "execution_count": 10,
   "metadata": {},
   "outputs": [
    {
     "data": {
      "image/png": "[encoded data removed]",
      "text/plain": [
       "<Figure size 432x288 with 1 Axes>"
      ]
     },
     "metadata": {
      "needs_background": "light"
     },
     "output_type": "display_data"
    }
   ],
   "source": [
    "plt.plot(range(1, 11), history.history['loss'], label='loss')\n",
    "plt.plot(range(1, 11), history.history['val_loss'], label='val_loss')\n",
    "plt.legend()\n",
    "plt.xlabel('epochs')\n",
    "plt.ylabel('loss')\n",
    "plt.grid(True)"
   ]
  },
  {
   "cell_type": "code",
   "execution_count": 11,
   "metadata": {},
   "outputs": [
    {
     "data": {
      "image/png": "[encoded data removed]",
      "text/plain": [
       "<Figure size 432x288 with 1 Axes>"
      ]
     },
     "metadata": {
      "needs_background": "light"
     },
     "output_type": "display_data"
    }
   ],
   "source": [
    "plt.plot(range(1, 11), history.history['acc'], label='acc')\n",
    "plt.plot(range(1, 11), history.history['val_acc'], label='val_acc')\n",
    "plt.legend()\n",
    "plt.xlabel('epochs')\n",
    "plt.ylabel('acc')\n",
    "plt.grid(True)"
   ]
  },
  {
   "cell_type": "markdown",
   "metadata": {},
   "source": [
    "## Борьба с переобучением"
   ]
  },
  {
   "cell_type": "markdown",
   "metadata": {},
   "source": [
    "Помими стандартных подходов для борьбы с переобучением как регуляризация и Dropout, в рекурентных сетях есть recurrent_dropout  - определяет долю прореживания рекурентных значений"
   ]
  },
  {
   "cell_type": "markdown",
   "metadata": {},
   "source": [
    "### Наложение нескольких рекурентных слоев"
   ]
  },
  {
   "cell_type": "code",
   "execution_count": 5,
   "metadata": {},
   "outputs": [],
   "source": [
    "from keras.models import Sequential\n",
    "from keras.layers import SimpleRNN, Dense\n",
    "from keras.optimizers import Adam\n",
    "\n",
    "\n",
    "model = Sequential()\n",
    "model.add(Embedding(max_features, 32))\n",
    "model.add(SimpleRNN(32, return_sequences=True))\n",
    "model.add(SimpleRNN(32, activation='relu'))\n",
    "model.add(Dense(1, activation='sigmoid'))"
   ]
  },
  {
   "cell_type": "code",
   "execution_count": 7,
   "metadata": {},
   "outputs": [],
   "source": [
    "model.compile(optimizer=Adam(), loss='binary_crossentropy', metrics=['acc'])"
   ]
  },
  {
   "cell_type": "code",
   "execution_count": 7,
   "metadata": {},
   "outputs": [
    {
     "name": "stderr",
     "output_type": "stream",
     "text": [
      "W0821 16:16:12.105794  6472 deprecation_wrapper.py:119] From C:\\Users\\Bogdan\\Anaconda3\\lib\\site-packages\\keras\\backend\\tensorflow_backend.py:986: The name tf.assign_add is deprecated. Please use tf.compat.v1.assign_add instead.\n",
      "\n"
     ]
    },
    {
     "name": "stdout",
     "output_type": "stream",
     "text": [
      "Train on 25000 samples, validate on 25000 samples\n",
      "Epoch 1/5\n",
      "25000/25000 [==============================] - 523s 21ms/step - loss: 0.6367 - acc: 0.5993 - val_loss: 0.5281 - val_acc: 0.7418\n",
      "Epoch 2/5\n",
      "25000/25000 [==============================] - 514s 21ms/step - loss: 0.4470 - acc: 0.7942 - val_loss: 0.4877 - val_acc: 0.7793\n",
      "Epoch 3/5\n",
      "25000/25000 [==============================] - 518s 21ms/step - loss: 0.3548 - acc: 0.8454 - val_loss: 0.4154 - val_acc: 0.8145\n",
      "Epoch 4/5\n",
      "25000/25000 [==============================] - 534s 21ms/step - loss: 0.2880 - acc: 0.8799 - val_loss: 0.4018 - val_acc: 0.8258\n",
      "Epoch 5/5\n",
      "25000/25000 [==============================] - 515s 21ms/step - loss: 0.1925 - acc: 0.9263 - val_loss: 0.4372 - val_acc: 0.8302\n"
     ]
    }
   ],
   "source": [
    "history = model.fit(x_train, y_train, epochs=5, batch_size=batch_size, validation_data=(x_test, y_test))"
   ]
  },
  {
   "cell_type": "code",
   "execution_count": 10,
   "metadata": {},
   "outputs": [
    {
     "data": {
      "image/png": "[encoded data removed]",
      "text/plain": [
       "<Figure size 432x288 with 1 Axes>"
      ]
     },
     "metadata": {
      "needs_background": "light"
     },
     "output_type": "display_data"
    }
   ],
   "source": [
    "from matplotlib import pyplot as plt\n",
    "%matplotlib inline\n",
    "\n",
    "plt.plot(range(1, 6), history.history['loss'], label='loss')\n",
    "plt.plot(range(1, 6), history.history['val_loss'], label='val_loss')\n",
    "plt.legend()\n",
    "plt.xlabel('epochs')\n",
    "plt.ylabel('loss')\n",
    "plt.grid(True)"
   ]
  },
  {
   "cell_type": "code",
   "execution_count": 11,
   "metadata": {},
   "outputs": [
    {
     "data": {
      "image/png": "[encoded data removed]",
      "text/plain": [
       "<Figure size 432x288 with 1 Axes>"
      ]
     },
     "metadata": {
      "needs_background": "light"
     },
     "output_type": "display_data"
    }
   ],
   "source": [
    "plt.plot(range(1, 6), history.history['acc'], label='acc')\n",
    "plt.plot(range(1, 6), history.history['val_acc'], label='val_acc')\n",
    "plt.legend()\n",
    "plt.xlabel('epochs')\n",
    "plt.ylabel('acc')\n",
    "plt.grid(True)"
   ]
  },
  {
   "cell_type": "code",
   "execution_count": null,
   "metadata": {},
   "outputs": [
    {
     "name": "stdout",
     "output_type": "stream",
     "text": [
      "Train on 25000 samples, validate on 25000 samples\n",
      "Epoch 1/5\n",
      "24992/25000 [============================>.] - ETA: 0s - loss: 0.7048 - acc: 0.4992"
     ]
    }
   ],
   "source": [
    "from keras.models import Sequential\n",
    "from keras.layers import SimpleRNN, Dense\n",
    "from keras.optimizers import Adam\n",
    "\n",
    "\n",
    "model = Sequential()\n",
    "model.add(Embedding(max_features, 32))\n",
    "model.add(SimpleRNN(32, return_sequences=True, dropout=0.1, recurrent_dropout=0.3))\n",
    "model.add(SimpleRNN(32))\n",
    "model.add(Dense(1, activation='sigmoid'))\n",
    "\n",
    "model.compile(optimizer=Adam(), loss='binary_crossentropy', metrics=['acc'])\n",
    "\n",
    "history2 = model.fit(x_train, y_train, epochs=5, batch_size=batch_size, validation_data=(x_test, y_test))"
   ]
  },
  {
   "cell_type": "code",
   "execution_count": null,
   "metadata": {},
   "outputs": [],
   "source": [
    "plt.plot(range(1, 6), history.history['loss'], label='loss')\n",
    "plt.plot(range(1, 6), history.history['val_loss'], label='val_loss')\n",
    "plt.legend()\n",
    "plt.xlabel('epochs')\n",
    "plt.ylabel('loss')\n",
    "plt.grid(True)"
   ]
  },
  {
   "cell_type": "code",
   "execution_count": null,
   "metadata": {},
   "outputs": [],
   "source": [
    "plt.plot(range(1, 6), history.history['acc'], label='acc')\n",
    "plt.plot(range(1, 6), history.history['val_acc'], label='val_acc')\n",
    "plt.legend()\n",
    "plt.xlabel('epochs')\n",
    "plt.ylabel('acc')\n",
    "plt.grid(True)"
   ]
  },
  {
   "cell_type": "code",
   "execution_count": null,
   "metadata": {},
   "outputs": [],
   "source": []
  }
 ],
 "metadata": {
  "kernelspec": {
   "display_name": "Python 3",
   "language": "python",
   "name": "python3"
  },
  "language_info": {
   "codemirror_mode": {
    "name": "ipython",
    "version": 3
   },
   "file_extension": ".py",
   "mimetype": "text/x-python",
   "name": "python",
   "nbconvert_exporter": "python",
   "pygments_lexer": "ipython3",
   "version": "3.7.3"
  }
 },
 "nbformat": 4,
 "nbformat_minor": 2
}

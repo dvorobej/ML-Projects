{
 "cells": [
  {
   "cell_type": "markdown",
   "metadata": {},
   "source": [
    "# Neuron"
   ]
  },
  {
   "cell_type": "markdown",
   "metadata": {},
   "source": [
    "* Человеческий мозг имеет чрезвычайно сложную топологию, и поэтому принято строить его приближенную модель на основе идеализированной нейронной сети *прямого распростронения*, состоящей из дискретных слоев где каждый слой присоединен к следующему. Такое строение, как правило, требует наличия слоя входов в сеть (которые получают входящие сигналы и передает их дальше без изменений), один или несколько \"скрытых\" слоев (каждый из них состоит из нейронов, которые принимают выходящие сигналы предидущего слоя, выполняют некие вычисления и передают результат в следующий слой) и слоя выходного из сети(который гинерирует окончательный результат)"
   ]
  },
  {
   "cell_type": "markdown",
   "metadata": {},
   "source": [
    "Но о всем по порядку\n",
    "==="
   ]
  },
  {
   "cell_type": "markdown",
   "metadata": {},
   "source": [
    "*Простейшая модель нейронной сети - это однослойный перцептрон, который представляет собой приблеженную математическую модель одиночного нейрона состоящего из n бинарных входящих сигналов или значений. Он вычесляет взвешенную сумму входящих сигналов и активизируется, если эта сумма больше или равна нулю*"
   ]
  },
  {
   "cell_type": "code",
   "execution_count": 1,
   "metadata": {},
   "outputs": [],
   "source": [
    "from matplotlib import pyplot as plt\n",
    "from tqdm import tqdm\n",
    "%matplotlib inline\n",
    "import numpy as np\n",
    "from math import exp"
   ]
  },
  {
   "cell_type": "code",
   "execution_count": 2,
   "metadata": {},
   "outputs": [],
   "source": [
    "def step_function(x):   #Типо Relu  но нет))\n",
    "    return 1 if x >= 0 else 0"
   ]
  },
  {
   "cell_type": "code",
   "execution_count": 3,
   "metadata": {},
   "outputs": [],
   "source": [
    "def perceptron_output(weights, bias, x):\n",
    "    calc = np.dot(weights, x) + bias\n",
    "    return step_function(calc)"
   ]
  },
  {
   "cell_type": "markdown",
   "metadata": {},
   "source": [
    "*при правильных весах можно решить задачу \"И\" (возвращает  1 есле оба входа равны 1)*"
   ]
  },
  {
   "cell_type": "code",
   "execution_count": 4,
   "metadata": {},
   "outputs": [],
   "source": [
    "weights = [2, 2]\n",
    "bias = -3"
   ]
  },
  {
   "cell_type": "code",
   "execution_count": 5,
   "metadata": {},
   "outputs": [
    {
     "name": "stdout",
     "output_type": "stream",
     "text": [
      "x y predict\n",
      "0 0       0\n",
      "1 0       0\n",
      "0 1       0\n",
      "1 1       1\n"
     ]
    }
   ],
   "source": [
    "print('x','y','predict')\n",
    "print(\"{:d}{:2d}{:8d}\".format(0, 0, perceptron_output(weights, bias, [0, 0])))\n",
    "print(\"{:d}{:2d}{:8d}\".format(1, 0, perceptron_output(weights, bias, [1, 0])))\n",
    "print(\"{:d}{:2d}{:8d}\".format(0, 1, perceptron_output(weights, bias, [0, 1])))\n",
    "print(\"{:d}{:2d}{:8d}\".format(1, 1, perceptron_output(weights, bias, [1, 1])))"
   ]
  },
  {
   "cell_type": "markdown",
   "metadata": {},
   "source": [
    "*Задача \"ИЛИ\"*"
   ]
  },
  {
   "cell_type": "code",
   "execution_count": 6,
   "metadata": {},
   "outputs": [],
   "source": [
    "weights = [2, 2]\n",
    "bias = -1"
   ]
  },
  {
   "cell_type": "code",
   "execution_count": 7,
   "metadata": {},
   "outputs": [
    {
     "name": "stdout",
     "output_type": "stream",
     "text": [
      "x y predict\n",
      "0 0       0\n",
      "1 0       1\n",
      "0 1       1\n",
      "1 1       1\n"
     ]
    }
   ],
   "source": [
    "print('x','y','predict')\n",
    "print(\"{:d}{:2d}{:8d}\".format(0, 0, perceptron_output(weights, bias, [0, 0])))\n",
    "print(\"{:d}{:2d}{:8d}\".format(1, 0, perceptron_output(weights, bias, [1, 0])))\n",
    "print(\"{:d}{:2d}{:8d}\".format(0, 1, perceptron_output(weights, bias, [0, 1])))\n",
    "print(\"{:d}{:2d}{:8d}\".format(1, 1, perceptron_output(weights, bias, [1, 1])))"
   ]
  },
  {
   "cell_type": "markdown",
   "metadata": {},
   "source": [
    "*Задача \"НЕ\"*"
   ]
  },
  {
   "cell_type": "code",
   "execution_count": 8,
   "metadata": {},
   "outputs": [],
   "source": [
    "weights = [-2]\n",
    "bias = 1"
   ]
  },
  {
   "cell_type": "code",
   "execution_count": 9,
   "metadata": {},
   "outputs": [
    {
     "name": "stdout",
     "output_type": "stream",
     "text": [
      "x predict\n",
      "0 1\n",
      "1 0\n"
     ]
    }
   ],
   "source": [
    "print('x','predict')\n",
    "print(\"{:d}{:2d}\".format(0, perceptron_output(weights, bias, [0])))\n",
    "print(\"{:d}{:2d}\".format(1, perceptron_output(weights, bias, [1])))"
   ]
  },
  {
   "cell_type": "markdown",
   "metadata": {},
   "source": [
    "*Но что не под силу перцептрону в одиночку - так решить задачу \"Исключающее ИЛИ\"*\n",
    "Ведь эта задача линейно НЕразделимая, а мы как с вами помним перцептрон по своей архитерктуре похож на логистичекую регрессию которая тоже в сво очередь не могла решать линейно не разделимые точки"
   ]
  },
  {
   "cell_type": "code",
   "execution_count": 10,
   "metadata": {},
   "outputs": [],
   "source": [
    "def sigmoid(t):\n",
    "    return 1 / (1 + exp(-t))"
   ]
  },
  {
   "cell_type": "code",
   "execution_count": 11,
   "metadata": {},
   "outputs": [
    {
     "data": {
      "image/png": "[encoded data removed]",
      "text/plain": [
       "<Figure size 432x288 with 1 Axes>"
      ]
     },
     "metadata": {
      "needs_background": "light"
     },
     "output_type": "display_data"
    }
   ],
   "source": [
    "x = [i/10 for i in range(-100, 100)]\n",
    "y = [sigmoid(i) for i in x]\n",
    "plt.plot(x, y)\n",
    "plt.grid(True)"
   ]
  },
  {
   "cell_type": "code",
   "execution_count": 12,
   "metadata": {},
   "outputs": [],
   "source": [
    "def neuron_output(weights, inputs):\n",
    "    return sigmoid(np.dot(weights, inputs))"
   ]
  },
  {
   "cell_type": "code",
   "execution_count": 13,
   "metadata": {},
   "outputs": [],
   "source": [
    "def feed_forward(neuron_network, input_vector):\n",
    "    \"\"\"Прнимает нейронную сеть как список списков и вектор входящих сигналов\n",
    "    возвращает результат прямого распространения входящих сигналов\"\"\"\n",
    "    outputs = []\n",
    "    for layer in neuron_network:\n",
    "        input_with_bias = input_vector + [1] #добавить величину смещения\n",
    "        output = [neuron_output(neuron, input_with_bias) for neuron in layer]\n",
    "        outputs.append(output)\n",
    "        # входом для следующего слоя становятся \n",
    "        # вектор результатов текущего слоя\n",
    "        input_vector = output\n",
    "    return outputs"
   ]
  },
  {
   "cell_type": "markdown",
   "metadata": {},
   "source": [
    "***"
   ]
  },
  {
   "cell_type": "code",
   "execution_count": 14,
   "metadata": {},
   "outputs": [],
   "source": [
    "and_ = [[[20, 20, -30]]] # И"
   ]
  },
  {
   "cell_type": "code",
   "execution_count": 15,
   "metadata": {},
   "outputs": [
    {
     "name": "stdout",
     "output_type": "stream",
     "text": [
      "x y predict\n",
      "0 0       0\n",
      "0 1       0\n",
      "1 0       0\n",
      "1 1       1\n"
     ]
    }
   ],
   "source": [
    "print('x','y','predict')\n",
    "for x in [0, 1]:\n",
    "    for y in [0, 1]:\n",
    "        #функция feed_forward возвращает выходные сигналы каждого нейрона\n",
    "        #feed_forward[-1] - это выходящие сигналы нейронов слоя выходов из сети\n",
    "        print(\"{:d}{:2d}{:8d}\".format(x, y, round(feed_forward(and_, [x, y])[-1][-1])))"
   ]
  },
  {
   "cell_type": "markdown",
   "metadata": {},
   "source": [
    "***"
   ]
  },
  {
   "cell_type": "code",
   "execution_count": 16,
   "metadata": {},
   "outputs": [],
   "source": [
    "or_ = [[[20, 20, -10]]] #ИЛИ"
   ]
  },
  {
   "cell_type": "code",
   "execution_count": 17,
   "metadata": {},
   "outputs": [
    {
     "name": "stdout",
     "output_type": "stream",
     "text": [
      "x y predict\n",
      "0 0       0\n",
      "0 1       1\n",
      "1 0       1\n",
      "1 1       1\n"
     ]
    }
   ],
   "source": [
    "print('x','y','predict')\n",
    "for x in [0, 1]:\n",
    "    for y in [0, 1]:\n",
    "        #функция feed_forward возвращает выходные сигналы каждого нейрона\n",
    "        #feed_forward[-1] - это выходящие сигналы нейронов слоя выходов из сети\n",
    "        print(\"{:d}{:2d}{:8d}\".format(x, y, round(feed_forward(or_, [x, y])[-1][-1])))"
   ]
  },
  {
   "cell_type": "markdown",
   "metadata": {},
   "source": [
    "***"
   ]
  },
  {
   "cell_type": "code",
   "execution_count": 18,
   "metadata": {},
   "outputs": [],
   "source": [
    "no_ = [[[-20, 10]]] #НЕ"
   ]
  },
  {
   "cell_type": "code",
   "execution_count": 19,
   "metadata": {},
   "outputs": [
    {
     "name": "stdout",
     "output_type": "stream",
     "text": [
      "x y predict\n",
      "0       1\n",
      "1       0\n"
     ]
    }
   ],
   "source": [
    "print('x','y','predict')\n",
    "for x in [0, 1]:\n",
    "    #функция feed_forward возвращает выходные сигналы каждого нейрона\n",
    "    #feed_forward[-1] - это выходящие сигналы нейронов слоя выходов из сети\n",
    "    print(\"{:d}{:8d}\".format(x, round(feed_forward(no_, [x])[-1][-1])))"
   ]
  },
  {
   "cell_type": "markdown",
   "metadata": {},
   "source": [
    "***"
   ]
  },
  {
   "cell_type": "code",
   "execution_count": 20,
   "metadata": {},
   "outputs": [],
   "source": [
    "test_ = [[[-60, 60, -30]]] # first zero second one"
   ]
  },
  {
   "cell_type": "code",
   "execution_count": 21,
   "metadata": {},
   "outputs": [
    {
     "name": "stdout",
     "output_type": "stream",
     "text": [
      "x y predict\n",
      "0 0       0\n",
      "0 1       1\n",
      "1 0       0\n",
      "1 1       0\n"
     ]
    }
   ],
   "source": [
    "print('x','y','predict')\n",
    "for x in [0, 1]:\n",
    "    for y in [0, 1]:\n",
    "        #функция feed_forward возвращает выходные сигналы каждого нейрона\n",
    "        #feed_forward[-1] - это выходящие сигналы нейронов слоя выходов из сети\n",
    "        print(\"{:d}{:2d}{:8d}\".format(x, y, round(feed_forward(test_, [x, y])[-1][-1])))"
   ]
  },
  {
   "cell_type": "markdown",
   "metadata": {},
   "source": [
    "***"
   ]
  },
  {
   "cell_type": "code",
   "execution_count": 22,
   "metadata": {},
   "outputs": [],
   "source": [
    "xor_network = [        # Exception or\n",
    "    [[20, 20, -30],    # and\n",
    "     [20, 20, -10]],   # or\n",
    "    [[-60, 60, -30]]]  # first zero second one"
   ]
  },
  {
   "cell_type": "code",
   "execution_count": 23,
   "metadata": {},
   "outputs": [
    {
     "name": "stdout",
     "output_type": "stream",
     "text": [
      "x y predict\n",
      "0 0       0\n",
      "0 1       1\n",
      "1 0       1\n",
      "1 1       0\n"
     ]
    }
   ],
   "source": [
    "print('x','y','predict')\n",
    "for x in [0, 1]:\n",
    "    for y in [0, 1]:\n",
    "        #функция feed_forward возвращает выходные сигналы каждого нейрона\n",
    "        #feed_forward[-1] - это выходящие сигналы нейронов слоя выходов из сети\n",
    "        print(\"{:d}{:2d}{:8d}\".format(x, y, round(feed_forward(xor_network, [x, y])[-1][-1])))"
   ]
  },
  {
   "cell_type": "markdown",
   "metadata": {},
   "source": [
    "***"
   ]
  },
  {
   "cell_type": "markdown",
   "metadata": {},
   "source": [
    "Как правило, нейронные сети не создают вручную, потому что с их помощью решают задачи гораздо более масштабные - к примеру, задачи распознования изображений может быть решена с применением сотен или даже тысяч нейронов, а также потому, что обычно невозможно продумать до конца какие значения должны генерировать нейроны.\n",
    "Вместо этого нейронные сети *обучают* при помощи данных. Одним из популярных решений этой задачи является прменение алгоритма *Обратного распростанения ошибки*, который имеет определенную аналогию с алгоритмом градиентного спуска."
   ]
  },
  {
   "cell_type": "markdown",
   "metadata": {},
   "source": [
    "* Выполнить прямой проход по сети, применив функцию feed_forward к входящему вектору, чтобы вычеслить выходящие сигналы всех нейронов сети"
   ]
  },
  {
   "cell_type": "markdown",
   "metadata": {},
   "source": [
    "* В результате в каждом выходном нейроне генерируется ошибка - разница между его выходящим и целевым значением"
   ]
  },
  {
   "cell_type": "markdown",
   "metadata": {},
   "source": [
    "* Вычеслить градиент этой ошибки как функцию весов нейрона и затем скорректировать его веса в направлении, которое минимизирует ошибку"
   ]
  },
  {
   "cell_type": "markdown",
   "metadata": {},
   "source": [
    "* Распростронить ошибки выходящих сигналов на нейроны скрытого слоя, выполнив обратный проход по сети с вычислением ошибок для нейронов скрытого слоя"
   ]
  },
  {
   "cell_type": "markdown",
   "metadata": {},
   "source": [
    "* Вычислить градиенты этих ошибок и скоректировать веса нейронов скрытого слоя так же, как в П.3"
   ]
  },
  {
   "cell_type": "code",
   "execution_count": 24,
   "metadata": {},
   "outputs": [],
   "source": [
    "# на входе: сеть, вектор входов, цель\n",
    "def backpropagate(network, input_vector, targets):\n",
    "    #выходы из скрытых слоев и выходы из сети\n",
    "    hidden_outputs, outputs = feed_forward(network, input_vector)#скрытый слой,  выходной слой\n",
    "    # output * (1 - output) - производная симогиды\n",
    "    # (output - target) - Error\n",
    "    # output - выход нейрона (сигмоидальной функции)\n",
    "    output_deltas = [output * (1 - output) * (output - target) for output, target in zip(outputs, targets)]\n",
    "    \n",
    "    #понейронно скоректировать веса для слоя выходов (network[-1])\n",
    "    for i, output_neuron in enumerate(network[-1]):\n",
    "        #взять i-ый нейрон слоя выхода\n",
    "        for j, hidden_output in enumerate(hidden_outputs + [1]):\n",
    "            # скоректировать j-й вес на основе\n",
    "            # дельты i-го нейрона и его j-го входящего значения\n",
    "            output_neuron[j] -= output_deltas[i] * hidden_output\n",
    "        # распростронить ошибку на скрытый слой, двигаясь в обратную сторону\n",
    "        hidden_deltas = [hidden_output * (1 - hidden_output) * np.dot(output_deltas, [n[i] for n in output_layer])\n",
    "                        for i, hidden_output in enumerate(hidden_outputs)]\n",
    "    \n",
    "    #понейронно скоректировать веса для скрытого слоя (network[0])\n",
    "    for i, hidden_neuron in enumerate(network[0]):\n",
    "        for j, input_ in enumerate(input_vector + [1]):\n",
    "            hidden_neuron[j] -= hidden_deltas[i] * input_"
   ]
  },
  {
   "cell_type": "code",
   "execution_count": 25,
   "metadata": {},
   "outputs": [],
   "source": [
    "targets = [[1 if i == j else 0 for i in range(10)] for j in range(10)]"
   ]
  },
  {
   "cell_type": "code",
   "execution_count": 26,
   "metadata": {},
   "outputs": [
    {
     "name": "stdout",
     "output_type": "stream",
     "text": [
      "[1, 0, 0, 0, 0, 0, 0, 0, 0, 0] 0\n",
      "[0, 1, 0, 0, 0, 0, 0, 0, 0, 0] 1\n",
      "[0, 0, 1, 0, 0, 0, 0, 0, 0, 0] 2\n",
      "[0, 0, 0, 1, 0, 0, 0, 0, 0, 0] 3\n",
      "[0, 0, 0, 0, 1, 0, 0, 0, 0, 0] 4\n",
      "[0, 0, 0, 0, 0, 1, 0, 0, 0, 0] 5\n",
      "[0, 0, 0, 0, 0, 0, 1, 0, 0, 0] 6\n",
      "[0, 0, 0, 0, 0, 0, 0, 1, 0, 0] 7\n",
      "[0, 0, 0, 0, 0, 0, 0, 0, 1, 0] 8\n",
      "[0, 0, 0, 0, 0, 0, 0, 0, 0, 1] 9\n"
     ]
    }
   ],
   "source": [
    "for index, val in enumerate(targets):\n",
    "    print(val, index)"
   ]
  },
  {
   "cell_type": "code",
   "execution_count": 27,
   "metadata": {},
   "outputs": [],
   "source": [
    "import random\n",
    "random.seed(0)\n",
    "input_size = 25     #25 входных нейронов (псевдо нейроны)\n",
    "num_hidden = 6      #5 скрытых нефронов\n",
    "output_size = 10    #10 в выходном слое\n",
    "hidden_layer = [[random.random() for _ in range(input_size + 1)] for _ in range(num_hidden)]\n",
    "output_layer = [[random.random() for _ in range(num_hidden + 1)] for _ in range(output_size)]\n",
    "network = [hidden_layer, output_layer]"
   ]
  },
  {
   "cell_type": "code",
   "execution_count": 28,
   "metadata": {},
   "outputs": [],
   "source": [
    "inputs = [[1,1,1,1,1,\n",
    "           1,0,0,0,1,\n",
    "           1,0,0,0,1, #0\n",
    "           1,0,0,0,1,\n",
    "           1,1,1,1,1],\n",
    "          \n",
    "          [0,0,0,1,1,\n",
    "           0,0,0,0,1,\n",
    "           0,0,0,0,1,#1\n",
    "           0,0,0,0,1,\n",
    "           0,0,0,0,1],\n",
    "          \n",
    "          [1,1,1,1,1,\n",
    "           0,0,0,0,1,\n",
    "           1,1,1,1,1,#2\n",
    "           1,0,0,0,0,\n",
    "           1,1,1,1,1],\n",
    "          \n",
    "          [1,1,1,1,1,\n",
    "           0,0,0,0,1,\n",
    "           1,1,1,1,1,#3\n",
    "           0,0,0,0,1,\n",
    "           1,1,1,1,1],\n",
    "          \n",
    "          [1,0,0,0,1,\n",
    "           1,0,0,0,1,\n",
    "           1,1,1,1,1,#4\n",
    "           0,0,0,0,1,\n",
    "           0,0,0,0,1],\n",
    "          \n",
    "          [1,1,1,1,1,\n",
    "           1,0,0,0,0,\n",
    "           1,1,1,1,1,#5\n",
    "           0,0,0,0,1,\n",
    "           1,1,1,1,1],\n",
    "          \n",
    "          [1,1,1,1,1,\n",
    "           1,0,0,0,0,\n",
    "           1,1,1,1,1,#6\n",
    "           1,0,0,0,1,\n",
    "           1,1,1,1,1],\n",
    "          \n",
    "          [1,1,1,1,1,\n",
    "           0,0,0,1,0,\n",
    "           0,0,1,0,0,#7\n",
    "           0,1,0,0,0,\n",
    "           1,0,0,0,0],\n",
    "          \n",
    "          [1,1,1,1,1,\n",
    "           1,0,0,0,1,\n",
    "           1,1,1,1,1,#8\n",
    "           1,0,0,0,1,\n",
    "           1,1,1,1,1],\n",
    "          \n",
    "          [1,1,1,1,1,\n",
    "           1,0,0,0,1,\n",
    "           1,1,1,1,1,#9\n",
    "           0,0,0,0,1,\n",
    "           1,1,1,1,1]]"
   ]
  },
  {
   "cell_type": "code",
   "execution_count": 29,
   "metadata": {},
   "outputs": [
    {
     "name": "stderr",
     "output_type": "stream",
     "text": [
      "100%|███████████████████████████████████████████████████████████████████████████| 10000/10000 [00:54<00:00, 184.69it/s]\n"
     ]
    }
   ],
   "source": [
    "for _ in tqdm(range(10 ** 4)): # 10000 эпох обечения\n",
    "    for input_vector, target_vector in zip(inputs, targets):\n",
    "        backpropagate(network, input_vector, target_vector)"
   ]
  },
  {
   "cell_type": "code",
   "execution_count": 30,
   "metadata": {},
   "outputs": [],
   "source": [
    "def predict(input_):\n",
    "    return [round(i) for i in feed_forward(network, input_)[-1]]"
   ]
  },
  {
   "cell_type": "code",
   "execution_count": 31,
   "metadata": {},
   "outputs": [
    {
     "name": "stdout",
     "output_type": "stream",
     "text": [
      "[1, 0, 0, 0, 0, 0, 0, 0, 0, 0] 0\n",
      "[0, 1, 0, 0, 0, 0, 0, 0, 0, 0] 1\n",
      "[0, 0, 0, 0, 0, 0, 0, 0, 0, 0] 2\n",
      "[0, 0, 0, 1, 0, 0, 0, 0, 0, 0] 3\n",
      "[0, 0, 0, 0, 1, 0, 0, 0, 0, 0] 4\n",
      "[0, 0, 0, 0, 0, 1, 0, 0, 0, 0] 5\n",
      "[0, 0, 0, 0, 0, 0, 0, 0, 0, 0] 6\n",
      "[0, 0, 0, 0, 0, 0, 0, 1, 0, 0] 7\n",
      "[0, 0, 0, 0, 0, 0, 0, 0, 1, 0] 8\n",
      "[0, 0, 0, 0, 0, 0, 0, 0, 0, 0] 9\n"
     ]
    }
   ],
   "source": [
    "for i in range(10):\n",
    "    print(predict(inputs[i]), i)"
   ]
  },
  {
   "cell_type": "code",
   "execution_count": 32,
   "metadata": {},
   "outputs": [
    {
     "data": {
      "image/png": "[encoded data removed]",
      "text/plain": [
       "<Figure size 1440x1440 with 6 Axes>"
      ]
     },
     "metadata": {
      "needs_background": "light"
     },
     "output_type": "display_data"
    },
    {
     "data": {
      "text/plain": [
       "'чем темнее пиксель - тем выше значекние веса, заштрихованный пиксель - отрицателен'"
      ]
     },
     "execution_count": 32,
     "metadata": {},
     "output_type": "execute_result"
    }
   ],
   "source": [
    "import matplotlib\n",
    "fig, axes = plt.subplots(2, 3, figsize=(20, 20))\n",
    "axes = axes.flatten()\n",
    "\n",
    "def patch(x, y, hatch, color):\n",
    "    \"\"\"вернуть объект 'path' библиотеки matplotlib с указанными\n",
    "    координатами, шаблоном штриховки и цветом\"\"\"\n",
    "    return matplotlib.patches.Rectangle((x - 0.5, y - 0.5), 1, 1, hatch=hatch, fill=False, color=color)\n",
    "\n",
    "for num, ax in enumerate(axes):\n",
    "    weights = network[0][num]\n",
    "    abs_weights = [abs(i) for i in weights]\n",
    "    grid = [abs_weights[row:(row + 5)] for row in range(0, 25, 5)]\n",
    "    ax.imshow(grid, cmap = matplotlib.cm.binary)\n",
    "\n",
    "    for i in range(5):\n",
    "        for j in range(5):\n",
    "            if weights[5 * i + j] < 0:\n",
    "                ax.add_patch(patch(j, i, '/', 'white'))\n",
    "                ax.add_patch(patch(j, i, '\\\\', 'black'))\n",
    "                \n",
    "    ax.set_title('network[0][{:}]'.format(num))\n",
    "    ax.set_xlabel(\"Смещение: {:}\".format(weights[-1]))\n",
    "plt.show()\n",
    "\"\"\"чем темнее пиксель - тем выше значекние веса, заштрихованный пиксель - отрицателен\"\"\""
   ]
  },
  {
   "cell_type": "code",
   "execution_count": 33,
   "metadata": {},
   "outputs": [
    {
     "data": {
      "text/plain": [
       "7"
      ]
     },
     "execution_count": 33,
     "metadata": {},
     "output_type": "execute_result"
    }
   ],
   "source": [
    "len(network[1][0])"
   ]
  },
  {
   "cell_type": "code",
   "execution_count": 34,
   "metadata": {},
   "outputs": [
    {
     "data": {
      "image/png": "[encoded data removed]",
      "text/plain": [
       "<Figure size 1440x1440 with 10 Axes>"
      ]
     },
     "metadata": {
      "needs_background": "light"
     },
     "output_type": "display_data"
    },
    {
     "data": {
      "text/plain": [
       "'чем темнее пиксель - тем выше значекние веса, заштрихованный пиксель - отрицателен'"
      ]
     },
     "execution_count": 34,
     "metadata": {},
     "output_type": "execute_result"
    }
   ],
   "source": [
    "fig, axes = plt.subplots(2, 5, figsize=(20, 20))\n",
    "axes = axes.flatten()\n",
    "\n",
    "def patch(x, y, hatch, color):\n",
    "    \"\"\"вернуть объект 'path' библиотеки matplotlib с указанными\n",
    "    координатами, шаблоном штриховки и цветом\"\"\"\n",
    "    return matplotlib.patches.Rectangle((x - 0.5, y - 0.5), 1, 1, hatch=hatch, fill=False, color=color)\n",
    "\n",
    "for num, ax in enumerate(axes):\n",
    "    weights = network[1][num]\n",
    "    abs_weights = [abs(i) for i in weights]\n",
    "    grid = [abs_weights[row:(row + 1)] for row in range(0, 6)]\n",
    "    ax.imshow(grid, cmap = matplotlib.cm.binary)\n",
    "\n",
    "    for i in range(6):\n",
    "            if weights[i] < 0:\n",
    "                ax.add_patch(patch(0, i, '/', 'white'))\n",
    "                ax.add_patch(patch(0, i, '\\\\', 'black'))\n",
    "                \n",
    "    ax.set_title('network[1][{:}]'.format(num))\n",
    "    ax.set_xlabel(\"Смещение: {:}\".format(weights[-1]))\n",
    "plt.show()\n",
    "\"\"\"чем темнее пиксель - тем выше значекние веса, заштрихованный пиксель - отрицателен\"\"\""
   ]
  },
  {
   "cell_type": "code",
   "execution_count": 35,
   "metadata": {},
   "outputs": [],
   "source": [
    "from sklearn.datasets import load_digits\n",
    "x = load_digits().data\n",
    "y = load_digits().target"
   ]
  },
  {
   "cell_type": "code",
   "execution_count": 36,
   "metadata": {},
   "outputs": [],
   "source": [
    "newtarget = [[0 for i in range(10)] for i in y]\n",
    "for i, t in enumerate(newtarget):\n",
    "    t[y[i]] = 1"
   ]
  },
  {
   "cell_type": "code",
   "execution_count": 37,
   "metadata": {},
   "outputs": [],
   "source": [
    "random.seed(0)\n",
    "input_size = 64     #64 входных нейронов (псевдо нейроны)\n",
    "num_hidden = 6      #6 скрытых нейронов\n",
    "output_size = 10    #10 в выходном слое\n",
    "hidden_layer = [[random.random() for _ in range(input_size + 1)] for _ in range(num_hidden)]\n",
    "output_layer = [[random.random() for _ in range(num_hidden + 1)] for _ in range(output_size)]\n",
    "network = [hidden_layer, output_layer]"
   ]
  },
  {
   "cell_type": "code",
   "execution_count": 38,
   "metadata": {},
   "outputs": [
    {
     "data": {
      "text/plain": [
       "(1797, 64)"
      ]
     },
     "execution_count": 38,
     "metadata": {},
     "output_type": "execute_result"
    }
   ],
   "source": [
    "x.shape"
   ]
  },
  {
   "cell_type": "code",
   "execution_count": 39,
   "metadata": {},
   "outputs": [
    {
     "data": {
      "text/plain": [
       "(1797, 1)"
      ]
     },
     "execution_count": 39,
     "metadata": {},
     "output_type": "execute_result"
    }
   ],
   "source": [
    "np.ones(1797).reshape((-1,1)).shape"
   ]
  },
  {
   "cell_type": "code",
   "execution_count": 40,
   "metadata": {},
   "outputs": [],
   "source": [
    "x = np.hstack((x, np.ones(1797).reshape((-1,1))))"
   ]
  },
  {
   "cell_type": "code",
   "execution_count": 41,
   "metadata": {},
   "outputs": [
    {
     "name": "stderr",
     "output_type": "stream",
     "text": [
      "100%|████████████████████████████████████████████████████████████████████████████████| 100/100 [01:44<00:00,  1.02s/it]\n"
     ]
    }
   ],
   "source": [
    "for _ in tqdm(range(10 ** 2)): # 100 эпох обечения\n",
    "    for input_vector, target_vector in zip(x, newtarget):\n",
    "        backpropagate(network, input_vector, target_vector)"
   ]
  },
  {
   "cell_type": "code",
   "execution_count": 42,
   "metadata": {},
   "outputs": [
    {
     "name": "stdout",
     "output_type": "stream",
     "text": [
      "[0, 0, 0, 0, 0, 0, 0, 0, 0, 0]\n",
      "[0, 0, 0, 0, 0, 0, 0, 0, 0, 0]\n",
      "[0, 0, 0, 0, 0, 0, 0, 0, 0, 0]\n",
      "[0, 0, 0, 0, 0, 0, 0, 0, 0, 0]\n",
      "[0, 0, 0, 0, 0, 0, 0, 0, 0, 0]\n",
      "[0, 0, 0, 0, 0, 0, 0, 0, 0, 0]\n",
      "[0, 0, 0, 0, 0, 0, 0, 0, 0, 0]\n",
      "[0, 0, 0, 0, 0, 0, 0, 0, 0, 0]\n",
      "[0, 0, 0, 0, 0, 0, 0, 0, 0, 0]\n",
      "[0, 0, 0, 0, 0, 0, 0, 0, 0, 0]\n",
      "[0, 0, 0, 0, 0, 0, 0, 0, 0, 0]\n",
      "[0, 0, 0, 0, 0, 0, 0, 0, 0, 0]\n",
      "[0, 0, 0, 0, 0, 0, 0, 0, 0, 0]\n",
      "[0, 0, 0, 0, 0, 0, 0, 0, 0, 0]\n",
      "[0, 0, 0, 0, 0, 0, 0, 0, 0, 0]\n",
      "[0, 0, 0, 0, 0, 0, 0, 0, 0, 0]\n",
      "[0, 0, 0, 0, 0, 0, 0, 0, 0, 0]\n",
      "[0, 0, 0, 0, 0, 0, 0, 0, 0, 0]\n",
      "[0, 0, 0, 0, 0, 0, 0, 0, 0, 0]\n",
      "[0, 0, 0, 0, 0, 0, 0, 0, 0, 0]\n",
      "[0, 0, 0, 0, 0, 0, 0, 0, 0, 0]\n",
      "[0, 0, 0, 0, 0, 0, 0, 0, 0, 0]\n",
      "[0, 0, 0, 0, 0, 0, 0, 0, 0, 0]\n",
      "[0, 0, 0, 0, 0, 0, 0, 0, 0, 0]\n",
      "[0, 0, 0, 0, 0, 0, 0, 0, 0, 0]\n",
      "[0, 0, 0, 0, 0, 0, 0, 0, 0, 0]\n",
      "[0, 0, 0, 0, 0, 0, 0, 0, 0, 0]\n",
      "[0, 0, 0, 0, 0, 0, 0, 0, 0, 0]\n",
      "[0, 0, 0, 0, 0, 0, 0, 0, 0, 0]\n",
      "[0, 0, 0, 0, 0, 0, 0, 0, 0, 0]\n",
      "[0, 0, 0, 0, 0, 0, 0, 0, 0, 0]\n",
      "[0, 0, 0, 0, 0, 0, 0, 0, 0, 0]\n",
      "[0, 0, 0, 0, 0, 0, 0, 0, 0, 0]\n",
      "[0, 0, 0, 0, 0, 0, 0, 0, 0, 0]\n",
      "[0, 0, 0, 0, 0, 0, 0, 0, 0, 0]\n",
      "[0, 0, 0, 0, 0, 0, 0, 0, 0, 0]\n",
      "[0, 0, 0, 0, 0, 0, 0, 0, 0, 0]\n",
      "[0, 0, 0, 0, 0, 0, 0, 0, 0, 0]\n",
      "[0, 0, 0, 0, 0, 0, 0, 0, 0, 0]\n",
      "[0, 0, 0, 0, 0, 0, 0, 0, 0, 0]\n",
      "[0, 0, 0, 0, 0, 0, 0, 0, 0, 0]\n",
      "[0, 0, 0, 0, 0, 0, 0, 0, 0, 0]\n",
      "[0, 0, 0, 0, 0, 0, 0, 0, 0, 0]\n",
      "[0, 0, 0, 0, 0, 0, 0, 0, 0, 0]\n",
      "[0, 0, 0, 0, 0, 0, 0, 0, 0, 0]\n",
      "[0, 0, 0, 0, 0, 0, 0, 0, 0, 0]\n",
      "[0, 0, 0, 0, 0, 0, 0, 0, 0, 0]\n",
      "[0, 0, 0, 0, 0, 0, 0, 0, 0, 0]\n",
      "[0, 0, 0, 0, 0, 0, 0, 0, 0, 0]\n",
      "[0, 0, 0, 0, 0, 0, 0, 0, 0, 0]\n"
     ]
    }
   ],
   "source": [
    "for i in range(50):#не хвататет глубины\n",
    "    print(predict(x[i]))"
   ]
  },
  {
   "cell_type": "code",
   "execution_count": 43,
   "metadata": {},
   "outputs": [],
   "source": [
    "from sklearn.neural_network import MLPClassifier\n",
    "from sklearn.model_selection import train_test_split"
   ]
  },
  {
   "cell_type": "code",
   "execution_count": 44,
   "metadata": {},
   "outputs": [],
   "source": [
    "x_train,x_test,y_train,y_test = train_test_split(x,y)"
   ]
  },
  {
   "cell_type": "code",
   "execution_count": 45,
   "metadata": {},
   "outputs": [],
   "source": [
    "model = MLPClassifier(activation='logistic')"
   ]
  },
  {
   "cell_type": "code",
   "execution_count": 46,
   "metadata": {},
   "outputs": [
    {
     "name": "stderr",
     "output_type": "stream",
     "text": [
      "C:\\Users\\Bogdan\\Anaconda3\\lib\\site-packages\\sklearn\\neural_network\\multilayer_perceptron.py:562: ConvergenceWarning: Stochastic Optimizer: Maximum iterations (200) reached and the optimization hasn't converged yet.\n",
      "  % self.max_iter, ConvergenceWarning)\n"
     ]
    },
    {
     "data": {
      "text/plain": [
       "MLPClassifier(activation='logistic', alpha=0.0001, batch_size='auto',\n",
       "       beta_1=0.9, beta_2=0.999, early_stopping=False, epsilon=1e-08,\n",
       "       hidden_layer_sizes=(100,), learning_rate='constant',\n",
       "       learning_rate_init=0.001, max_iter=200, momentum=0.9,\n",
       "       n_iter_no_change=10, nesterovs_momentum=True, power_t=0.5,\n",
       "       random_state=None, shuffle=True, solver='adam', tol=0.0001,\n",
       "       validation_fraction=0.1, verbose=False, warm_start=False)"
      ]
     },
     "execution_count": 46,
     "metadata": {},
     "output_type": "execute_result"
    }
   ],
   "source": [
    "model.fit(x_train, y_train)"
   ]
  },
  {
   "cell_type": "code",
   "execution_count": 47,
   "metadata": {},
   "outputs": [
    {
     "data": {
      "text/plain": [
       "0.9777777777777777"
      ]
     },
     "execution_count": 47,
     "metadata": {},
     "output_type": "execute_result"
    }
   ],
   "source": [
    "model.score(x_test,y_test)"
   ]
  },
  {
   "cell_type": "code",
   "execution_count": 50,
   "metadata": {},
   "outputs": [
    {
     "name": "stdout",
     "output_type": "stream",
     "text": [
      "65\n",
      "100\n"
     ]
    }
   ],
   "source": [
    "print(len(model.coefs_[0]))\n",
    "print(len(model.coefs_[1]))"
   ]
  },
  {
   "cell_type": "code",
   "execution_count": 52,
   "metadata": {},
   "outputs": [
    {
     "data": {
      "text/plain": [
       "1"
      ]
     },
     "execution_count": 52,
     "metadata": {},
     "output_type": "execute_result"
    }
   ],
   "source": [
    "model.predict(x[1].reshape((1,-1)))[0]"
   ]
  },
  {
   "cell_type": "code",
   "execution_count": 53,
   "metadata": {},
   "outputs": [
    {
     "data": {
      "text/plain": [
       "1"
      ]
     },
     "execution_count": 53,
     "metadata": {},
     "output_type": "execute_result"
    }
   ],
   "source": [
    "y[1]"
   ]
  },
  {
   "cell_type": "code",
   "execution_count": 54,
   "metadata": {},
   "outputs": [],
   "source": [
    "random.seed(0)\n",
    "input_size = 64     #64 входных нейронов (псевдо нейроны)\n",
    "num_hidden = 10      #10 скрытых нейронов\n",
    "output_size = 10    #10 в выходном слое\n",
    "hidden_layer = [[random.random() for _ in range(input_size + 1)] for _ in range(num_hidden)]\n",
    "output_layer = [[random.random() for _ in range(num_hidden + 1)] for _ in range(output_size)]\n",
    "network = [hidden_layer, output_layer]"
   ]
  },
  {
   "cell_type": "code",
   "execution_count": 55,
   "metadata": {},
   "outputs": [
    {
     "name": "stderr",
     "output_type": "stream",
     "text": [
      "100%|████████████████████████████████████████████████████████████████████████████████| 100/100 [02:57<00:00,  1.76s/it]\n"
     ]
    }
   ],
   "source": [
    "for _ in tqdm(range(10 ** 2)): # 100 эпох обечения\n",
    "    for input_vector, target_vector in zip(x, newtarget):\n",
    "        backpropagate(network, input_vector, target_vector)"
   ]
  },
  {
   "cell_type": "code",
   "execution_count": 56,
   "metadata": {},
   "outputs": [
    {
     "name": "stdout",
     "output_type": "stream",
     "text": [
      "[0, 0, 0, 0, 0, 0, 0, 0, 0, 0]\n",
      "[0, 0, 0, 0, 0, 0, 0, 0, 0, 0]\n",
      "[0, 0, 0, 0, 0, 0, 0, 0, 0, 0]\n",
      "[0, 0, 0, 0, 0, 0, 0, 0, 0, 0]\n",
      "[0, 0, 0, 0, 0, 0, 0, 0, 0, 0]\n",
      "[0, 0, 0, 0, 0, 0, 0, 0, 0, 0]\n",
      "[0, 0, 0, 0, 0, 0, 0, 0, 0, 0]\n",
      "[0, 0, 0, 0, 0, 0, 0, 0, 0, 0]\n",
      "[0, 0, 0, 0, 0, 0, 0, 0, 0, 0]\n",
      "[0, 0, 0, 0, 0, 0, 0, 0, 0, 0]\n",
      "[0, 0, 0, 0, 0, 0, 0, 0, 0, 0]\n",
      "[0, 0, 0, 0, 0, 0, 0, 0, 0, 0]\n",
      "[0, 0, 0, 0, 0, 0, 0, 0, 0, 0]\n",
      "[0, 0, 0, 0, 0, 0, 0, 0, 0, 0]\n",
      "[0, 0, 0, 0, 0, 0, 0, 0, 0, 0]\n",
      "[0, 0, 0, 0, 0, 0, 0, 0, 0, 0]\n",
      "[0, 0, 0, 0, 0, 0, 0, 0, 0, 0]\n",
      "[0, 0, 0, 0, 0, 0, 0, 0, 0, 0]\n",
      "[0, 0, 0, 0, 0, 0, 0, 0, 0, 0]\n",
      "[0, 0, 0, 0, 0, 0, 0, 0, 0, 0]\n",
      "[0, 0, 0, 0, 0, 0, 0, 0, 0, 0]\n",
      "[0, 0, 0, 0, 0, 0, 0, 0, 0, 0]\n",
      "[0, 0, 0, 0, 0, 0, 0, 0, 0, 0]\n",
      "[0, 0, 0, 0, 0, 0, 0, 0, 0, 0]\n",
      "[0, 0, 0, 0, 0, 0, 0, 0, 0, 0]\n",
      "[0, 0, 0, 0, 0, 0, 0, 0, 0, 0]\n",
      "[0, 0, 0, 0, 0, 0, 0, 0, 0, 0]\n",
      "[0, 0, 0, 0, 0, 0, 0, 0, 0, 0]\n",
      "[0, 0, 0, 0, 0, 0, 0, 0, 0, 0]\n",
      "[0, 0, 0, 0, 0, 0, 0, 0, 0, 0]\n",
      "[0, 0, 0, 0, 0, 0, 0, 0, 0, 0]\n",
      "[0, 0, 0, 0, 0, 0, 0, 0, 0, 0]\n",
      "[0, 0, 0, 0, 0, 0, 0, 0, 0, 0]\n",
      "[0, 0, 0, 0, 0, 0, 0, 0, 0, 0]\n",
      "[0, 0, 0, 0, 0, 0, 0, 0, 0, 0]\n",
      "[0, 0, 0, 0, 0, 0, 0, 0, 0, 0]\n",
      "[0, 0, 0, 0, 0, 0, 0, 0, 0, 0]\n",
      "[0, 0, 0, 0, 0, 0, 0, 0, 0, 0]\n",
      "[0, 0, 0, 0, 0, 0, 0, 0, 0, 0]\n",
      "[0, 0, 0, 0, 0, 0, 0, 0, 0, 0]\n",
      "[0, 0, 0, 0, 0, 0, 0, 0, 0, 0]\n",
      "[0, 0, 0, 0, 0, 0, 0, 0, 0, 0]\n",
      "[0, 0, 0, 0, 0, 0, 0, 0, 0, 0]\n",
      "[0, 0, 0, 0, 0, 0, 0, 0, 0, 0]\n",
      "[0, 0, 0, 0, 0, 0, 0, 0, 0, 0]\n",
      "[0, 0, 0, 0, 0, 0, 0, 0, 0, 0]\n",
      "[0, 0, 0, 0, 0, 0, 0, 0, 0, 0]\n",
      "[0, 0, 0, 0, 0, 0, 0, 0, 0, 0]\n",
      "[0, 0, 0, 0, 0, 0, 0, 0, 0, 0]\n",
      "[0, 0, 0, 0, 0, 0, 0, 0, 0, 0]\n"
     ]
    }
   ],
   "source": [
    "for i in range(50):#наша модель слишком простая\n",
    "    print(predict(x[i]))"
   ]
  },
  {
   "cell_type": "code",
   "execution_count": 57,
   "metadata": {},
   "outputs": [],
   "source": [
    "model2 = MLPClassifier(hidden_layer_sizes=(10,10), activation='logistic')"
   ]
  },
  {
   "cell_type": "code",
   "execution_count": 58,
   "metadata": {},
   "outputs": [
    {
     "name": "stderr",
     "output_type": "stream",
     "text": [
      "C:\\Users\\Bogdan\\Anaconda3\\lib\\site-packages\\sklearn\\neural_network\\multilayer_perceptron.py:562: ConvergenceWarning: Stochastic Optimizer: Maximum iterations (200) reached and the optimization hasn't converged yet.\n",
      "  % self.max_iter, ConvergenceWarning)\n"
     ]
    },
    {
     "data": {
      "text/plain": [
       "MLPClassifier(activation='logistic', alpha=0.0001, batch_size='auto',\n",
       "       beta_1=0.9, beta_2=0.999, early_stopping=False, epsilon=1e-08,\n",
       "       hidden_layer_sizes=(10, 10), learning_rate='constant',\n",
       "       learning_rate_init=0.001, max_iter=200, momentum=0.9,\n",
       "       n_iter_no_change=10, nesterovs_momentum=True, power_t=0.5,\n",
       "       random_state=None, shuffle=True, solver='adam', tol=0.0001,\n",
       "       validation_fraction=0.1, verbose=False, warm_start=False)"
      ]
     },
     "execution_count": 58,
     "metadata": {},
     "output_type": "execute_result"
    }
   ],
   "source": [
    "model2.fit(x_train, y_train)"
   ]
  },
  {
   "cell_type": "code",
   "execution_count": 59,
   "metadata": {},
   "outputs": [
    {
     "data": {
      "text/plain": [
       "0.8844444444444445"
      ]
     },
     "execution_count": 59,
     "metadata": {},
     "output_type": "execute_result"
    }
   ],
   "source": [
    "model2.score(x_test,y_test)"
   ]
  },
  {
   "cell_type": "code",
   "execution_count": 60,
   "metadata": {},
   "outputs": [
    {
     "name": "stdout",
     "output_type": "stream",
     "text": [
      "65\n",
      "10\n",
      "10\n"
     ]
    }
   ],
   "source": [
    "print(len(model2.coefs_[0]))\n",
    "print(len(model2.coefs_[1]))\n",
    "print(len(model2.coefs_[2]))"
   ]
  },
  {
   "cell_type": "code",
   "execution_count": null,
   "metadata": {},
   "outputs": [],
   "source": []
  }
 ],
 "metadata": {
  "kernelspec": {
   "display_name": "Python 3",
   "language": "python",
   "name": "python3"
  },
  "language_info": {
   "codemirror_mode": {
    "name": "ipython",
    "version": 3
   },
   "file_extension": ".py",
   "mimetype": "text/x-python",
   "name": "python",
   "nbconvert_exporter": "python",
   "pygments_lexer": "ipython3",
   "version": "3.7.3"
  }
 },
 "nbformat": 4,
 "nbformat_minor": 2
}

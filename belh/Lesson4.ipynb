{
 "cells": [
  {
   "cell_type": "markdown",
   "metadata": {},
   "source": [
    "Linear Regression\n",
    "==="
   ]
  },
  {
   "cell_type": "markdown",
   "metadata": {},
   "source": [
    "\\begin{equation*}\n",
    "a_{1}*x_{12} + a_{2}*x_{12} + b=y_1\\\\\n",
    "a_{1}*x_{21} + a_{2}*x_{22} + b=y_2\\\\\n",
    "a_{1}*x_{31} + a_{2}*x_{32} + b=y_3\n",
    "\\end{equation*}"
   ]
  },
  {
   "cell_type": "markdown",
   "metadata": {},
   "source": [
    "* *можно преобразовать в вид...*"
   ]
  },
  {
   "cell_type": "markdown",
   "metadata": {},
   "source": [
    "\\begin{equation*}\n",
    "\\begin{vmatrix}\n",
    "x_{11}&x_{12}&1\\\\\n",
    "x_{21}&x_{22}&1\\\\\n",
    "x_{31}&x_{32}&1\n",
    "\\end{vmatrix}\\times\n",
    "\\begin{vmatrix}\n",
    "a_1\\\\\n",
    "a_2\\\\\n",
    "b\n",
    "\\end{vmatrix}=\n",
    "\\begin{vmatrix}\n",
    "y_1\\\\\n",
    "y_2\\\\\n",
    "y_3\n",
    "\\end{vmatrix}\n",
    "\\end{equation*}"
   ]
  },
  {
   "cell_type": "markdown",
   "metadata": {},
   "source": [
    "* *Вспомним немного правил*\n",
    ">единичная матрица - матрица, у которой вдоль главной диагонали единицы, все остальное 0.\n",
    ">При умножении любой матрицы на единичную, матрица не изменится"
   ]
  },
  {
   "cell_type": "markdown",
   "metadata": {},
   "source": [
    "\\begin{equation*}\n",
    "\\begin{vmatrix}\n",
    "1&0&0&0\\\\\n",
    "0&1&0&0\\\\\n",
    "0&0&1&0\\\\\n",
    "0&0&0&1\n",
    "\\end{vmatrix}\\times\n",
    "\\begin{vmatrix}\n",
    "1&2&3&4\\\\\n",
    "5&6&7&8\\\\\n",
    "1&2&3&4\\\\\n",
    "5&6&7&8\n",
    "\\end{vmatrix}=\n",
    "\\begin{vmatrix}\n",
    "1&2&3&4\\\\\n",
    "5&6&7&8\\\\\n",
    "1&2&3&4\\\\\n",
    "5&6&7&8\n",
    "\\end{vmatrix}\n",
    "\\end{equation*}"
   ]
  },
  {
   "cell_type": "markdown",
   "metadata": {},
   "source": [
    ">Правило умножения"
   ]
  },
  {
   "cell_type": "markdown",
   "metadata": {},
   "source": [
    "\\begin{equation*}\n",
    "\\begin{vmatrix}\n",
    "1&2&3\\\\\n",
    "4&5&6\\\\\n",
    "7&8&9\n",
    "\\end{vmatrix}\\times\n",
    "\\begin{vmatrix}\n",
    "7&8&9\\\\\n",
    "1&2&3\\\\\n",
    "4&5&6\\\\\n",
    "\\end{vmatrix}≠\n",
    "\\begin{vmatrix}\n",
    "7&8&9\\\\\n",
    "1&2&3\\\\\n",
    "4&5&6\\\\\n",
    "\\end{vmatrix}\\times\n",
    "\\begin{vmatrix}\n",
    "1&2&3\\\\\n",
    "4&5&6\\\\\n",
    "7&8&9\n",
    "\\end{vmatrix}\n",
    "\\end{equation*}"
   ]
  },
  {
   "cell_type": "markdown",
   "metadata": {},
   "source": [
    ">Транспонирование"
   ]
  },
  {
   "cell_type": "markdown",
   "metadata": {},
   "source": [
    "\\begin{equation*}\n",
    "\\begin{vmatrix}\n",
    "1&2&3\\\\\n",
    "4&5&6\\\\\n",
    "7&8&9\n",
    "\\end{vmatrix}^T=\n",
    "\\begin{vmatrix}\n",
    "1&4&7\\\\\n",
    "2&5&8\\\\\n",
    "3&6&9\n",
    "\\end{vmatrix}\n",
    "\\end{equation*}"
   ]
  },
  {
   "cell_type": "markdown",
   "metadata": {},
   "source": [
    ">Обратная матрица (бывает только у квадратных матриц)"
   ]
  },
  {
   "cell_type": "markdown",
   "metadata": {},
   "source": [
    "\\begin{equation*}\n",
    "\\begin{vmatrix}\n",
    "1&2&3\\\\\n",
    "4&5&6\\\\\n",
    "7&8&9\n",
    "\\end{vmatrix}^{-1}\\times\n",
    "\\begin{vmatrix}\n",
    "1&2&3\\\\\n",
    "4&5&6\\\\\n",
    "7&8&9\n",
    "\\end{vmatrix}=\n",
    "\\begin{vmatrix}\n",
    "1&0&0\\\\\n",
    "0&1&0\\\\\n",
    "0&0&1\\\\\n",
    "\\end{vmatrix}\n",
    "\\end{equation*}"
   ]
  },
  {
   "cell_type": "markdown",
   "metadata": {},
   "source": [
    "* *Тогда решение примет вид...*"
   ]
  },
  {
   "cell_type": "markdown",
   "metadata": {},
   "source": [
    "\\begin{equation*}\n",
    "\\begin{vmatrix}\n",
    "x_{11}&x_{12}&1\\\\\n",
    "x_{21}&x_{22}&1\\\\\n",
    "x_{31}&x_{32}&1\n",
    "\\end{vmatrix}^{-1}\\times\n",
    "\\begin{vmatrix}\n",
    "x_{11}&x_{12}&1\\\\\n",
    "x_{21}&x_{22}&1\\\\\n",
    "x_{31}&x_{32}&1\n",
    "\\end{vmatrix}\\times\n",
    "\\begin{vmatrix}\n",
    "a_1\\\\\n",
    "a_2\\\\\n",
    "b\n",
    "\\end{vmatrix}=\n",
    "\\begin{vmatrix}\n",
    "x_{11}&x_{12}&1\\\\\n",
    "x_{21}&x_{22}&1\\\\\n",
    "x_{31}&x_{32}&1\n",
    "\\end{vmatrix}^{-1}\\times\n",
    "\\begin{vmatrix}\n",
    "y_1\\\\\n",
    "y_2\\\\\n",
    "y_3\n",
    "\\end{vmatrix}\n",
    "\\end{equation*}\n",
    "***\n",
    "\\begin{equation*}\n",
    "\\begin{vmatrix}\n",
    "1&0&0\\\\\n",
    "0&1&0\\\\\n",
    "0&0&1\n",
    "\\end{vmatrix}\\times\n",
    "\\begin{vmatrix}\n",
    "a_1\\\\\n",
    "a_2\\\\\n",
    "b\n",
    "\\end{vmatrix}=\n",
    "\\begin{vmatrix}\n",
    "x_{11}&x_{12}&1\\\\\n",
    "x_{21}&x_{22}&1\\\\\n",
    "x_{31}&x_{32}&1\n",
    "\\end{vmatrix}^{-1}\\times\n",
    "\\begin{vmatrix}\n",
    "y_1\\\\\n",
    "y_2\\\\\n",
    "y_3\n",
    "\\end{vmatrix}\n",
    "\\end{equation*}\n",
    "***\n",
    "\\begin{equation*}\n",
    "\\begin{vmatrix}\n",
    "a_1\\\\\n",
    "a_2\\\\\n",
    "b\n",
    "\\end{vmatrix}=\n",
    "\\begin{vmatrix}\n",
    "x_{11}&x_{12}&1\\\\\n",
    "x_{21}&x_{22}&1\\\\\n",
    "x_{31}&x_{32}&1\n",
    "\\end{vmatrix}^{-1}\\times\n",
    "\\begin{vmatrix}\n",
    "y_1\\\\\n",
    "y_2\\\\\n",
    "y_3\n",
    "\\end{vmatrix}\n",
    "\\end{equation*}"
   ]
  },
  {
   "cell_type": "markdown",
   "metadata": {},
   "source": [
    "* *НО в жизни так не бывает, ведь данное решение будет работать только если матрица Х - квадратная, ведь обратная матрица бывает только у квадратных матриц*"
   ]
  },
  {
   "cell_type": "markdown",
   "metadata": {},
   "source": [
    "* *Другое решение...*"
   ]
  },
  {
   "cell_type": "markdown",
   "metadata": {},
   "source": [
    "\\begin{equation*}\n",
    "\\left({\n",
    "\\begin{vmatrix}\n",
    "x_{11}&x_{12}&1\\\\\n",
    "x_{21}&x_{22}&1\\\\\n",
    "x_{31}&x_{32}&1\\\\\n",
    "x_{41}&x_{42}&1\n",
    "\\end{vmatrix}^{T}\\times\n",
    "\\begin{vmatrix}\n",
    "x_{11}&x_{12}&1\\\\\n",
    "x_{21}&x_{22}&1\\\\\n",
    "x_{31}&x_{32}&1\\\\\n",
    "x_{41}&x_{42}&1\n",
    "\\end{vmatrix}}\\right)\\times\n",
    "\\begin{vmatrix}\n",
    "a_1\\\\\n",
    "a_2\\\\\n",
    "b\n",
    "\\end{vmatrix}=\n",
    "\\begin{vmatrix}\n",
    "x_{11}&x_{12}&1\\\\\n",
    "x_{21}&x_{22}&1\\\\\n",
    "x_{31}&x_{32}&1\\\\\n",
    "x_{41}&x_{42}&1\n",
    "\\end{vmatrix}^{T}\\times\n",
    "\\begin{vmatrix}\n",
    "y_1\\\\\n",
    "y_2\\\\\n",
    "y_3\\\\\n",
    "y_4\n",
    "\\end{vmatrix}\n",
    "\\end{equation*}\n",
    "***\n",
    "\\begin{equation*}\n",
    "\\left({\n",
    "\\begin{vmatrix}\n",
    "x_{11}&x_{12}&1\\\\\n",
    "x_{21}&x_{22}&1\\\\\n",
    "x_{31}&x_{32}&1\\\\\n",
    "x_{41}&x_{42}&1\n",
    "\\end{vmatrix}^{T}\\times\n",
    "\\begin{vmatrix}\n",
    "x_{11}&x_{12}&1\\\\\n",
    "x_{21}&x_{22}&1\\\\\n",
    "x_{31}&x_{32}&1\\\\\n",
    "x_{41}&x_{42}&1\n",
    "\\end{vmatrix}}\\right)^{-1}\\times\n",
    "\\left({\n",
    "\\begin{vmatrix}\n",
    "x_{11}&x_{12}&1\\\\\n",
    "x_{21}&x_{22}&1\\\\\n",
    "x_{31}&x_{32}&1\\\\\n",
    "x_{41}&x_{42}&1\n",
    "\\end{vmatrix}^{T}\\times\n",
    "\\begin{vmatrix}\n",
    "x_{11}&x_{12}&1\\\\\n",
    "x_{21}&x_{22}&1\\\\\n",
    "x_{31}&x_{32}&1\\\\\n",
    "x_{41}&x_{42}&1\n",
    "\\end{vmatrix}}\\right)\\times\n",
    "\\begin{vmatrix}\n",
    "a_1\\\\\n",
    "a_2\\\\\n",
    "b\n",
    "\\end{vmatrix}=\n",
    "\\left({\n",
    "\\begin{vmatrix}\n",
    "x_{11}&x_{12}&1\\\\\n",
    "x_{21}&x_{22}&1\\\\\n",
    "x_{31}&x_{32}&1\\\\\n",
    "x_{41}&x_{42}&1\n",
    "\\end{vmatrix}^{T}\\times\n",
    "\\begin{vmatrix}\n",
    "x_{11}&x_{12}&1\\\\\n",
    "x_{21}&x_{22}&1\\\\\n",
    "x_{31}&x_{32}&1\\\\\n",
    "x_{41}&x_{42}&1\n",
    "\\end{vmatrix}}\\right)^{-1}\\times\n",
    "\\begin{vmatrix}\n",
    "x_{11}&x_{12}&1\\\\\n",
    "x_{21}&x_{22}&1\\\\\n",
    "x_{31}&x_{32}&1\\\\\n",
    "x_{41}&x_{42}&1\n",
    "\\end{vmatrix}^{T}\\times\n",
    "\\begin{vmatrix}\n",
    "y_1\\\\\n",
    "y_2\\\\\n",
    "y_3\\\\\n",
    "y_4\n",
    "\\end{vmatrix}\n",
    "\\end{equation*}\n",
    "***\n",
    "\\begin{equation*}\n",
    "\\begin{vmatrix}\n",
    "1&0&0&0\\\\\n",
    "0&1&0&0\\\\\n",
    "0&0&1&0\\\\\n",
    "0&0&0&1\n",
    "\\end{vmatrix}\\times\n",
    "\\begin{vmatrix}\n",
    "a_1\\\\\n",
    "a_2\\\\\n",
    "b\n",
    "\\end{vmatrix}=\n",
    "\\left({\n",
    "\\begin{vmatrix}\n",
    "x_{11}&x_{12}&1\\\\\n",
    "x_{21}&x_{22}&1\\\\\n",
    "x_{31}&x_{32}&1\\\\\n",
    "x_{41}&x_{42}&1\n",
    "\\end{vmatrix}^{T}\\times\n",
    "\\begin{vmatrix}\n",
    "x_{11}&x_{12}&1\\\\\n",
    "x_{21}&x_{22}&1\\\\\n",
    "x_{31}&x_{32}&1\\\\\n",
    "x_{41}&x_{42}&1\n",
    "\\end{vmatrix}}\\right)^{-1}\\times\n",
    "\\begin{vmatrix}\n",
    "x_{11}&x_{12}&1\\\\\n",
    "x_{21}&x_{22}&1\\\\\n",
    "x_{31}&x_{32}&1\\\\\n",
    "x_{41}&x_{42}&1\n",
    "\\end{vmatrix}^{T}\\times\n",
    "\\begin{vmatrix}\n",
    "y_1\\\\\n",
    "y_2\\\\\n",
    "y_3\\\\\n",
    "y_4\n",
    "\\end{vmatrix}\n",
    "\\end{equation*}"
   ]
  },
  {
   "cell_type": "markdown",
   "metadata": {},
   "source": [
    "* *Ответ...*"
   ]
  },
  {
   "cell_type": "markdown",
   "metadata": {},
   "source": [
    "\\begin{equation*}\n",
    "\\begin{vmatrix}\n",
    "a_1\\\\\n",
    "a_2\\\\\n",
    "b\n",
    "\\end{vmatrix}=\n",
    "\\left({\n",
    "\\begin{vmatrix}\n",
    "x_{11}&x_{12}&1\\\\\n",
    "x_{21}&x_{22}&1\\\\\n",
    "x_{31}&x_{32}&1\\\\\n",
    "x_{41}&x_{42}&1\n",
    "\\end{vmatrix}^{T}\\times\n",
    "\\begin{vmatrix}\n",
    "x_{11}&x_{12}&1\\\\\n",
    "x_{21}&x_{22}&1\\\\\n",
    "x_{31}&x_{32}&1\\\\\n",
    "x_{41}&x_{42}&1\n",
    "\\end{vmatrix}}\\right)^{-1}\\times\n",
    "\\begin{vmatrix}\n",
    "x_{11}&x_{12}&1\\\\\n",
    "x_{21}&x_{22}&1\\\\\n",
    "x_{31}&x_{32}&1\\\\\n",
    "x_{41}&x_{42}&1\n",
    "\\end{vmatrix}^{T}\\times\n",
    "\\begin{vmatrix}\n",
    "y_1\\\\\n",
    "y_2\\\\\n",
    "y_3\\\\\n",
    "y_4\n",
    "\\end{vmatrix}\n",
    "\\end{equation*}"
   ]
  },
  {
   "cell_type": "markdown",
   "metadata": {},
   "source": [
    "* *Выражение справа от знака равно называю \"Hat\", ибо это то самое выражение, что одевает на \"y\" \"шляпу\" \"y^\"*\n",
    ">\"y^\" - это предсказаное значение"
   ]
  },
  {
   "cell_type": "markdown",
   "metadata": {},
   "source": [
    "\\begin{equation*}\n",
    "\\begin{vmatrix}\n",
    "x_{11}&x_{12}&1\\\\\n",
    "x_{21}&x_{22}&1\\\\\n",
    "x_{31}&x_{32}&1\\\\\n",
    "x_{41}&x_{42}&1\n",
    "\\end{vmatrix}\\times\n",
    "\\left({\n",
    "\\begin{vmatrix}\n",
    "x_{11}&x_{12}&1\\\\\n",
    "x_{21}&x_{22}&1\\\\\n",
    "x_{31}&x_{32}&1\\\\\n",
    "x_{41}&x_{42}&1\n",
    "\\end{vmatrix}^{T}\\times\n",
    "\\begin{vmatrix}\n",
    "x_{11}&x_{12}&1\\\\\n",
    "x_{21}&x_{22}&1\\\\\n",
    "x_{31}&x_{32}&1\\\\\n",
    "x_{41}&x_{42}&1\n",
    "\\end{vmatrix}}\\right)^{-1}\\times\n",
    "\\begin{vmatrix}\n",
    "x_{11}&x_{12}&1\\\\\n",
    "x_{21}&x_{22}&1\\\\\n",
    "x_{31}&x_{32}&1\\\\\n",
    "x_{41}&x_{42}&1\n",
    "\\end{vmatrix}^{T}\\times\n",
    "\\begin{vmatrix}\n",
    "y_1\\\\\n",
    "y_2\\\\\n",
    "y_3\\\\\n",
    "y_4\n",
    "\\end{vmatrix}=\n",
    "\\begin{vmatrix}\n",
    "y^{hat}_1\\\\\n",
    "y^{hat}_2\\\\\n",
    "y^{hat}_3\\\\\n",
    "y^{hat}_4\n",
    "\\end{vmatrix}\n",
    "\\end{equation*}"
   ]
  },
  {
   "cell_type": "code",
   "execution_count": 1,
   "metadata": {},
   "outputs": [],
   "source": [
    "import numpy as np\n",
    "def LinearRegressionFun(x,y):\n",
    "    x_one = np.hstack((x, np.ones(x.shape[0]).reshape(-1, 1)))\n",
    "    hat = np.linalg.inv(x_one.T.dot(x_one)).dot(x_one.T).dot(y)\n",
    "    return hat"
   ]
  },
  {
   "cell_type": "code",
   "execution_count": 2,
   "metadata": {},
   "outputs": [],
   "source": [
    "from sklearn.datasets import load_boston"
   ]
  },
  {
   "cell_type": "code",
   "execution_count": 3,
   "metadata": {},
   "outputs": [
    {
     "name": "stdout",
     "output_type": "stream",
     "text": [
      "[-0.24862831  0.05850082 -0.41557782 27.39464678]\n"
     ]
    }
   ],
   "source": [
    "hat = LinearRegressionFun(load_boston().data[:,:3], load_boston().target)\n",
    "print(hat)"
   ]
  },
  {
   "cell_type": "code",
   "execution_count": 4,
   "metadata": {},
   "outputs": [],
   "source": [
    "from sklearn.metrics import r2_score\n",
    "from sklearn.linear_model import LinearRegression"
   ]
  },
  {
   "cell_type": "code",
   "execution_count": 5,
   "metadata": {},
   "outputs": [
    {
     "data": {
      "text/plain": [
       "0.29371357158118705"
      ]
     },
     "execution_count": 5,
     "metadata": {},
     "output_type": "execute_result"
    }
   ],
   "source": [
    "predict=[x_i.dot(hat) for x_i in np.hstack((load_boston().data[:,:3], np.ones(load_boston().data.shape[0]).reshape(-1, 1)))]\n",
    "r2_score(load_boston().target, predict)"
   ]
  },
  {
   "cell_type": "code",
   "execution_count": 6,
   "metadata": {},
   "outputs": [
    {
     "name": "stdout",
     "output_type": "stream",
     "text": [
      "[-0.24862831  0.05850082 -0.41557782]\n",
      "27.39464677628764\n",
      "0.29371357158118705\n"
     ]
    }
   ],
   "source": [
    "model = LinearRegression().fit(load_boston().data[:,:3], load_boston().target)\n",
    "print(model.coef_)\n",
    "print(model.intercept_)\n",
    "print(model.score(load_boston().data[:,:3], load_boston().target))"
   ]
  },
  {
   "cell_type": "markdown",
   "metadata": {},
   "source": [
    "***"
   ]
  },
  {
   "cell_type": "markdown",
   "metadata": {},
   "source": [
    "* *Анализ данных*"
   ]
  },
  {
   "cell_type": "code",
   "execution_count": 7,
   "metadata": {},
   "outputs": [],
   "source": [
    "def mean(x):\n",
    "    return sum(x)/len(x)"
   ]
  },
  {
   "cell_type": "code",
   "execution_count": 8,
   "metadata": {},
   "outputs": [],
   "source": [
    "#вектор отклонений от среднего\n",
    "def de_mean(x):\n",
    "    \"\"\"пересчитать х, вычитая его среднее (среднее результата будет 0)\"\"\"\n",
    "    x_bar = mean(x)  #\n",
    "    return [x_i - x_bar for x_i in x]"
   ]
  },
  {
   "cell_type": "code",
   "execution_count": 9,
   "metadata": {},
   "outputs": [],
   "source": [
    "sum_of_squares = lambda x: sum([i ** 2 for i in x])"
   ]
  },
  {
   "cell_type": "code",
   "execution_count": 10,
   "metadata": {},
   "outputs": [],
   "source": [
    "#дисперсия - это средняя сумма квадратов отклонения от среднего\n",
    "def variance(x):\n",
    "    \"\"\"предполагается, что вектор х состоит как минимум из 2-х элементов\"\"\"\n",
    "    n = len(x)\n",
    "    deviations = de_mean(x)\n",
    "    return sum_of_squares(deviations) / (n - 1)"
   ]
  },
  {
   "cell_type": "markdown",
   "metadata": {},
   "source": [
    "*В действительности, когда мы имеем дело с выборкой из более крупной выборки, переменная x_bar является лишь приблизительной оценкой среднегго, где(x_i - x_bar) ** 2 в среднем дает заниженную оценку квадрата отклонения от среднего для x_i. Поэтому делят не на n, а на (n - 1)"
   ]
  },
  {
   "cell_type": "code",
   "execution_count": 11,
   "metadata": {},
   "outputs": [],
   "source": [
    "from math import sqrt\n",
    "def standart_deviation(x):  #стандартное отклонение\n",
    "    return sqrt(variance(x))"
   ]
  },
  {
   "cell_type": "code",
   "execution_count": 12,
   "metadata": {},
   "outputs": [],
   "source": [
    "import numpy as np\n",
    "def covariance(x,y):# в отличии от дисперсии, которая измеряет отклонение одной переменной от ее среднего, ковариация \n",
    "    n = len(x)      #измеряет совместное отклонение двух переменных от своих средних\n",
    "    return np.dot(de_mean(x), de_mean(y)) / (n - 1)"
   ]
  },
  {
   "cell_type": "code",
   "execution_count": 13,
   "metadata": {},
   "outputs": [],
   "source": [
    "def correlation(x, y):  #безразмерная величина, ее значене всегда лежит от -1(идеальная антикорреляция) до 1(наоборот)\n",
    "    stdex_x = standart_deviation(x)\n",
    "    stdev_y = standart_deviation(y)\n",
    "    if stdex_x > 0 and stdev_y > 0:\n",
    "        return covariance(x, y) / stdex_x / stdev_y\n",
    "    else:\n",
    "        return 0"
   ]
  },
  {
   "cell_type": "code",
   "execution_count": 14,
   "metadata": {},
   "outputs": [],
   "source": [
    "from sklearn.datasets import load_boston"
   ]
  },
  {
   "cell_type": "code",
   "execution_count": 15,
   "metadata": {},
   "outputs": [
    {
     "data": {
      "text/plain": [
       "0.3604453424505447"
      ]
     },
     "execution_count": 15,
     "metadata": {},
     "output_type": "execute_result"
    }
   ],
   "source": [
    "correlation(load_boston().data[:,1], load_boston().target)"
   ]
  },
  {
   "cell_type": "markdown",
   "metadata": {},
   "source": [
    "***"
   ]
  },
  {
   "cell_type": "markdown",
   "metadata": {},
   "source": [
    "* *Одиночная регрессия*"
   ]
  },
  {
   "cell_type": "markdown",
   "metadata": {},
   "source": [
    "\\begin{equation*}\n",
    "y = w*x_i + \\beta\n",
    "\\end{equation*}"
   ]
  },
  {
   "cell_type": "code",
   "execution_count": 16,
   "metadata": {},
   "outputs": [],
   "source": [
    "def predict(beta, w, x_i):\n",
    "    return w * x_i + beta"
   ]
  },
  {
   "cell_type": "code",
   "execution_count": 17,
   "metadata": {},
   "outputs": [],
   "source": [
    "def error(beta,w, x_i, y_i):\n",
    "    return y_i - predict(beta, w, x_i)"
   ]
  },
  {
   "cell_type": "code",
   "execution_count": 18,
   "metadata": {},
   "outputs": [],
   "source": [
    "def sum_of_squared_errors(beta, w, x, y):\n",
    "    return sum(error(beta, w, x_i, y_i) ** 2 for x_i, y_i in zip(x, y))"
   ]
  },
  {
   "cell_type": "code",
   "execution_count": 19,
   "metadata": {},
   "outputs": [],
   "source": [
    "#подгонка метода наименьших квадратов\n",
    "def least_squares_fit(x, y):\n",
    "    w = correlation(x, y) * (standart_deviation(y) / standart_deviation(x))\n",
    "    beta = mean(y) - w * mean(x)\n",
    "    return beta, w"
   ]
  },
  {
   "cell_type": "markdown",
   "metadata": {},
   "source": [
    "*Выбор коэфициента beta говорит, что при наличии среднего значения независимой переменной х, мы прогнозируем среднее значение зависимой переменной у*"
   ]
  },
  {
   "cell_type": "markdown",
   "metadata": {},
   "source": [
    "*В случае, когда х и у идеально коррелированы,увеличение на единиццу стандартного отклонения в х приводят к росту на единицу стандартного отклонения у в прогнозе. Когда они идеально антикоррелированы, увеличение в х ведет к снижению в прогнозе. И когда корреляция нулевая, то w=0 и, следовательно, изменения в х совершенно не влияют на прогноз*"
   ]
  },
  {
   "cell_type": "code",
   "execution_count": 20,
   "metadata": {},
   "outputs": [
    {
     "name": "stdout",
     "output_type": "stream",
     "text": [
      "20.91757911779984 0.14213999415535564\n"
     ]
    }
   ],
   "source": [
    "beta, w = least_squares_fit(load_boston().data[:,1], load_boston().target)\n",
    "print(beta, w)"
   ]
  },
  {
   "cell_type": "code",
   "execution_count": 21,
   "metadata": {},
   "outputs": [],
   "source": [
    "def total_sum_squares(y):\n",
    "    return sum(v ** 2 for v in de_mean(y))"
   ]
  },
  {
   "cell_type": "code",
   "execution_count": 22,
   "metadata": {},
   "outputs": [],
   "source": [
    "def r_squared(beta, w, x, y):\n",
    "    return 1.0 - (sum_of_squared_errors(beta, w, x, y) / total_sum_squares(y))"
   ]
  },
  {
   "cell_type": "code",
   "execution_count": 23,
   "metadata": {},
   "outputs": [
    {
     "data": {
      "text/plain": [
       "0.12992084489428912"
      ]
     },
     "execution_count": 23,
     "metadata": {},
     "output_type": "execute_result"
    }
   ],
   "source": [
    "r_squared(beta, w, load_boston().data[:,1], load_boston().target)"
   ]
  },
  {
   "cell_type": "code",
   "execution_count": 27,
   "metadata": {},
   "outputs": [
    {
     "data": {
      "text/plain": [
       "0.12992084489428957"
      ]
     },
     "execution_count": 27,
     "metadata": {},
     "output_type": "execute_result"
    }
   ],
   "source": [
    "r2_score(load_boston().target, [predict(beta, w, i) for i in load_boston().data[:,1]])"
   ]
  },
  {
   "cell_type": "code",
   "execution_count": 24,
   "metadata": {},
   "outputs": [],
   "source": [
    "from sklearn.linear_model import LinearRegression"
   ]
  },
  {
   "cell_type": "code",
   "execution_count": 25,
   "metadata": {},
   "outputs": [],
   "source": [
    "model = LinearRegression().fit(load_boston().data[:,1].reshape(506,1), load_boston().target)"
   ]
  },
  {
   "cell_type": "code",
   "execution_count": 26,
   "metadata": {},
   "outputs": [
    {
     "data": {
      "text/plain": [
       "0.12992084489428946"
      ]
     },
     "execution_count": 26,
     "metadata": {},
     "output_type": "execute_result"
    }
   ],
   "source": [
    "model.score(load_boston().data[:,1].reshape(506,1), load_boston().target)"
   ]
  },
  {
   "cell_type": "code",
   "execution_count": 27,
   "metadata": {},
   "outputs": [
    {
     "data": {
      "text/plain": [
       "0.1421399941553544"
      ]
     },
     "execution_count": 27,
     "metadata": {},
     "output_type": "execute_result"
    }
   ],
   "source": [
    "model.coef_[0]"
   ]
  },
  {
   "cell_type": "code",
   "execution_count": 28,
   "metadata": {},
   "outputs": [
    {
     "data": {
      "text/plain": [
       "20.917579117799832"
      ]
     },
     "execution_count": 28,
     "metadata": {},
     "output_type": "execute_result"
    }
   ],
   "source": [
    "model.intercept_"
   ]
  },
  {
   "cell_type": "markdown",
   "metadata": {},
   "source": [
    "Gradiend down\n",
    "==="
   ]
  },
  {
   "cell_type": "code",
   "execution_count": 29,
   "metadata": {},
   "outputs": [],
   "source": [
    "def squared_error(x_i, y_i, theta):\n",
    "    \"\"\"квадратичная ошибка\"\"\"\n",
    "    beta, w = theta\n",
    "    return error(beta, w, x_i, y_i) ** 2"
   ]
  },
  {
   "cell_type": "code",
   "execution_count": 30,
   "metadata": {},
   "outputs": [],
   "source": [
    "def squared_error_gradient(x_i, y_i, theta):\n",
    "    beta, w = theta\n",
    "    return [-2 * error(beta, w, x_i, y_i), -2 * error(beta, w, x_i, y_i) * x_i]"
   ]
  },
  {
   "cell_type": "code",
   "execution_count": 31,
   "metadata": {},
   "outputs": [],
   "source": [
    "def safe(f):\n",
    "    def safe_f(*args, **kwargs):\n",
    "        try:\n",
    "            return f(*args, **kwargs)\n",
    "        except:\n",
    "            return float('inf')\n",
    "    return safe_f"
   ]
  },
  {
   "cell_type": "code",
   "execution_count": 32,
   "metadata": {},
   "outputs": [],
   "source": [
    "def negate(f):\n",
    "    return lambda *args, **kwargs: -f(*args, **kwargs)\n",
    "\n",
    "def negate_all(f):\n",
    "    return lambda *args, **kwars:[-y for y in f(*args, **kwars)]\n",
    "\n",
    "import random\n",
    "def in_random_order(data):\n",
    "    \"\"\"генератор, который возвращает элементы в случайном порядке\"\"\"\n",
    "    indexes = [i for i, _ in enumerate(data)]\n",
    "    random.shuffle(indexes)\n",
    "    for i in indexes:\n",
    "        yield data[i]\n",
    "        \n",
    "def vector_subtract(v, w):\n",
    "    \"\"\"вычитает соответствующие элементы\"\"\"\n",
    "    return[v_i - w_i for v_i, w_i in zip(v, w)]\n",
    "\n",
    "def scalar_multiplay(c, v):\n",
    "    \"\"\"с - это число, v - вектор\"\"\"\n",
    "    return [c * v_i for v_i in v]\n",
    "\n",
    "def stochastic(target_fn, gradient_fn, x, y, weight_0, learning_rate_0=0.01):\n",
    "    data = list(zip(x, y))\n",
    "    weight = weight_0\n",
    "    learning_rate = learning_rate_0\n",
    "    min_weight, min_value = None, float('inf')\n",
    "    iterations_with_no_improvement = 0\n",
    "    while iterations_with_no_improvement < 100:\n",
    "        value = sum(target_fn(x_i, y_i, weight) for x_i, y_i in data)\n",
    "        if value < min_value:\n",
    "            min_weight, min_value = weight, value\n",
    "            iterations_with_no_improvement = 0\n",
    "            learning_rate = learning_rate_0\n",
    "        else:\n",
    "            iterations_with_no_improvement += 1\n",
    "            learning_rate *= 0.9\n",
    "            for x_i, y_i in in_random_order(data):\n",
    "                gradient_i = gradient_fn(x_i, y_i, weight)\n",
    "                weight = vector_subtract(weight, scalar_multiplay(learning_rate, gradient_i))\n",
    "    return min_weight"
   ]
  },
  {
   "cell_type": "markdown",
   "metadata": {},
   "source": [
    "***"
   ]
  },
  {
   "cell_type": "code",
   "execution_count": 33,
   "metadata": {},
   "outputs": [
    {
     "name": "stdout",
     "output_type": "stream",
     "text": [
      "[0.8694277122603984, 0.7427697987784164]\n"
     ]
    },
    {
     "data": {
      "text/plain": [
       "[20.920324835470073, 0.14214084674084562]"
      ]
     },
     "execution_count": 33,
     "metadata": {},
     "output_type": "execute_result"
    }
   ],
   "source": [
    "#random.seed(0)\n",
    "weight = [random.random(), random.random()]\n",
    "print(weight)\n",
    "stochastic(squared_error, squared_error_gradient, load_boston().data[:,1], load_boston().target, weight, 0.0001)"
   ]
  },
  {
   "cell_type": "markdown",
   "metadata": {},
   "source": [
    "***"
   ]
  },
  {
   "cell_type": "markdown",
   "metadata": {},
   "source": [
    "Множественная регрессия\n",
    "==="
   ]
  },
  {
   "cell_type": "code",
   "execution_count": 34,
   "metadata": {},
   "outputs": [],
   "source": [
    "x = np.hstack((load_boston().data[:,:3], np.ones(load_boston().data.shape[0]).reshape(-1, 1)))\n",
    "y = load_boston().target"
   ]
  },
  {
   "cell_type": "code",
   "execution_count": 35,
   "metadata": {},
   "outputs": [
    {
     "data": {
      "text/plain": [
       "array([[6.320e-03, 1.800e+01, 2.310e+00, 1.000e+00],\n",
       "       [2.731e-02, 0.000e+00, 7.070e+00, 1.000e+00],\n",
       "       [2.729e-02, 0.000e+00, 7.070e+00, 1.000e+00],\n",
       "       [3.237e-02, 0.000e+00, 2.180e+00, 1.000e+00],\n",
       "       [6.905e-02, 0.000e+00, 2.180e+00, 1.000e+00]])"
      ]
     },
     "execution_count": 35,
     "metadata": {},
     "output_type": "execute_result"
    }
   ],
   "source": [
    "x[:5]"
   ]
  },
  {
   "cell_type": "markdown",
   "metadata": {},
   "source": [
    "***"
   ]
  },
  {
   "cell_type": "code",
   "execution_count": 49,
   "metadata": {},
   "outputs": [],
   "source": [
    "def sum_of_squared_errors(weight, x, y):\n",
    "    return sum(error(x_i, y_i, weight) ** 2 for x_i, y_i in zip(x, y))\n",
    "\n",
    "\n",
    "def total_sum_squares(y):\n",
    "    return sum(v ** 2 for v in de_mean(y))\n",
    "\n",
    "def mean(n):\n",
    "    return sum(n) / len(n)\n",
    "\n",
    "\n",
    "def de_mean(x):\n",
    "    \"\"\"пересчитать х, вычитая его среднее (среднее результата будет 0)\"\"\"\n",
    "    x_bar = mean(x)  #\n",
    "    return [x_i - x_bar for x_i in x]\n",
    "\n",
    "\n",
    "def r_squared(weight, x, y):\n",
    "    return 1.0 - (sum_of_squared_errors(weight, x, y) / total_sum_squares(y))\n",
    "##################################################################################################################\n",
    "\n",
    "def predict(x_i, weight):\n",
    "    \"\"\"предполагается, что последний элемент каждого x_i равен 1\"\"\"\n",
    "    return np.dot(x_i, weight)\n",
    "\n",
    "def error(x_i, y_i, weight):\n",
    "    return y_i - predict(x_i, weight)\n",
    "\n",
    "def squared_error(x_i, y_i, weight):\n",
    "    return error(x_i, y_i, weight) ** 2\n",
    "\n",
    "def squared_error_gradient(x_i, y_i, weight):\n",
    "    \"\"\"градиент (относительно beta) существующий i-му квадрату ошибки\"\"\"\n",
    "    return[-2 * x_ij * error(x_i, y_i, weight) for x_ij in x_i]\n",
    "\n",
    "def estimate_beta(x, y):\n",
    "    weight_initial = np.random.random(x[0].shape[0])\n",
    "    print(weight_initial)\n",
    "    return stochastic(squared_error,\n",
    "                    (squared_error_gradient),\n",
    "                     x, y, weight_initial, 0.0001)"
   ]
  },
  {
   "cell_type": "code",
   "execution_count": 39,
   "metadata": {},
   "outputs": [
    {
     "name": "stdout",
     "output_type": "stream",
     "text": [
      "[0.94316264 0.28531861 0.80254766 0.47404085]\n",
      "Wall time: 15.7 s\n"
     ]
    }
   ],
   "source": [
    "%%time\n",
    "w_simple = estimate_beta(x, y)"
   ]
  },
  {
   "cell_type": "code",
   "execution_count": 46,
   "metadata": {},
   "outputs": [
    {
     "name": "stdout",
     "output_type": "stream",
     "text": [
      "[-0.24616922817216516, 0.05865598968015797, -0.41631803413911567, 27.391088948888207]\n"
     ]
    }
   ],
   "source": [
    "print(w_simple)"
   ]
  },
  {
   "cell_type": "code",
   "execution_count": 41,
   "metadata": {},
   "outputs": [
    {
     "name": "stdout",
     "output_type": "stream",
     "text": [
      "predict is 27.483646314747645 target is 24.0\n",
      "predict is 24.440997565903277 target is 21.6\n",
      "predict is 24.44100248928784 target is 34.7\n",
      "predict is 26.475547136549 target is 33.4\n",
      "predict is 26.466517649259647 target is 36.2\n",
      "predict is 26.476167483003994 target is 28.7\n",
      "predict is 24.82613161006002 target is 22.9\n",
      "predict is 24.812282129283055 target is 27.1\n",
      "predict is 24.795865103456254 target is 16.5\n",
      "predict is 24.806007275656945 target is 18.9\n"
     ]
    }
   ],
   "source": [
    "for x_, y_ in zip(x[:10], y[:10]):\n",
    "    print(f\"predict is {predict(x_, w_simple)} target is {y_}\")"
   ]
  },
  {
   "cell_type": "code",
   "execution_count": 42,
   "metadata": {},
   "outputs": [
    {
     "data": {
      "text/plain": [
       "-1.878709545716882"
      ]
     },
     "execution_count": 42,
     "metadata": {},
     "output_type": "execute_result"
    }
   ],
   "source": [
    "sum([error(x_i,y_i,w_simple) for x_i,y_i in zip(x,y)])"
   ]
  },
  {
   "cell_type": "code",
   "execution_count": 50,
   "metadata": {},
   "outputs": [
    {
     "data": {
      "text/plain": [
       "0.29294141015187103"
      ]
     },
     "execution_count": 50,
     "metadata": {},
     "output_type": "execute_result"
    }
   ],
   "source": [
    "r_squared(w_simple, x, y)"
   ]
  },
  {
   "cell_type": "code",
   "execution_count": 51,
   "metadata": {},
   "outputs": [],
   "source": [
    "from sklearn.linear_model import LinearRegression"
   ]
  },
  {
   "cell_type": "code",
   "execution_count": 52,
   "metadata": {},
   "outputs": [],
   "source": [
    "model = LinearRegression().fit(x[:,:3],y)"
   ]
  },
  {
   "cell_type": "code",
   "execution_count": 53,
   "metadata": {},
   "outputs": [
    {
     "data": {
      "text/plain": [
       "27.403575667704786"
      ]
     },
     "execution_count": 53,
     "metadata": {},
     "output_type": "execute_result"
    }
   ],
   "source": [
    "model.intercept_"
   ]
  },
  {
   "cell_type": "code",
   "execution_count": 54,
   "metadata": {},
   "outputs": [
    {
     "data": {
      "text/plain": [
       "array([-0.24637652,  0.05846559, -0.41751147])"
      ]
     },
     "execution_count": 54,
     "metadata": {},
     "output_type": "execute_result"
    }
   ],
   "source": [
    "model.coef_"
   ]
  },
  {
   "cell_type": "code",
   "execution_count": 55,
   "metadata": {},
   "outputs": [],
   "source": [
    "w_model = np.array([-0.24637652,  0.05846559, -0.41751147,27.403575667704786])"
   ]
  },
  {
   "cell_type": "code",
   "execution_count": 56,
   "metadata": {},
   "outputs": [
    {
     "data": {
      "text/plain": [
       "1.8948316830247336e-05"
      ]
     },
     "execution_count": 56,
     "metadata": {},
     "output_type": "execute_result"
    }
   ],
   "source": [
    "sum([error(x_i, y_i, w_model) for x_i, y_i in zip(x,y)])"
   ]
  },
  {
   "cell_type": "code",
   "execution_count": 57,
   "metadata": {},
   "outputs": [
    {
     "data": {
      "text/plain": [
       "0.2929422799087962"
      ]
     },
     "execution_count": 57,
     "metadata": {},
     "output_type": "execute_result"
    }
   ],
   "source": [
    "r_squared(w_model,x,y)"
   ]
  },
  {
   "cell_type": "markdown",
   "metadata": {},
   "source": [
    "# Ridge\n",
    "## L2 regularization"
   ]
  },
  {
   "cell_type": "code",
   "execution_count": 58,
   "metadata": {},
   "outputs": [],
   "source": [
    "#штраф в гребневой регрессии\n",
    "#alpha- это ГИПЕРПАРАМЕТР, контролирующий насколько жестким будет штраф\n",
    "def ridge_penalty(weight, alpha):\n",
    "    return alpha * np.dot(weight[:-1], weight[:-1])"
   ]
  },
  {
   "cell_type": "code",
   "execution_count": 59,
   "metadata": {},
   "outputs": [],
   "source": [
    "#квадратичная ошибка гребневой регрессии\n",
    "def squared_error_ridge(x_i, y_i, weight, alpha):\n",
    "    \"\"\"оценить ошибку плюс штраф для бета\"\"\"\n",
    "    return error(x_i, y_i, weight) ** 2 + ridge_penalty(weight, alpha)"
   ]
  },
  {
   "cell_type": "code",
   "execution_count": 60,
   "metadata": {},
   "outputs": [],
   "source": [
    "def ridge_penalty_gradient(weight, alpha):\n",
    "    \"\"\"градиент только гребневого штрафа\"\"\"\n",
    "    return [2 * alpha * weight_j for weight_j in weight[:-1]] + [0]"
   ]
  },
  {
   "cell_type": "code",
   "execution_count": 61,
   "metadata": {},
   "outputs": [],
   "source": [
    "def vector_add(v ,w):\n",
    "    \"\"\"складывает соответствующие элементы\"\"\"\n",
    "    return [v_i + w_i for v_i, w_i in zip(v, w)]"
   ]
  },
  {
   "cell_type": "code",
   "execution_count": 62,
   "metadata": {},
   "outputs": [],
   "source": [
    "def sqared_error_ridge_gradient(x_i, y_i, weight, alpha):\n",
    "    \"\"\"градиент, соответствующий i-й квадратичной ошибке, включая гребневую штраф\"\"\"\n",
    "    return vector_add(squared_error_gradient(x_i, y_i, weight), ridge_penalty_gradient(weight, alpha))"
   ]
  },
  {
   "cell_type": "code",
   "execution_count": 65,
   "metadata": {},
   "outputs": [],
   "source": [
    "#оценить beta гребневой регрессии\n",
    "from functools import partial\n",
    "def estimate_beta_ridge(x, y, alpha):\n",
    "    \"\"\"применить градиентный спуск для подгонки гребневой регрессии со штрафом alpha\"\"\"\n",
    "    weight_initial = np.random.random(len(x[0]))\n",
    "    print(weight_initial)\n",
    "    return stochastic(partial(squared_error_ridge, alpha=alpha),\n",
    "                    partial(sqared_error_ridge_gradient, alpha=alpha),\n",
    "                              x, y, weight_initial, 0.00001)"
   ]
  },
  {
   "cell_type": "code",
   "execution_count": 66,
   "metadata": {},
   "outputs": [
    {
     "name": "stdout",
     "output_type": "stream",
     "text": [
      "[0.47459979 0.44267506 0.35831117 0.49976146]\n",
      "Wall time: 1min 34s\n"
     ]
    }
   ],
   "source": [
    "%%time\n",
    "w_ridge = estimate_beta_ridge(x, y, 8)"
   ]
  },
  {
   "cell_type": "code",
   "execution_count": 67,
   "metadata": {},
   "outputs": [
    {
     "name": "stdout",
     "output_type": "stream",
     "text": [
      "[-0.23835980028379636, 0.07038860173229587, -0.34014268765702826, 26.37241739341234]\n"
     ]
    }
   ],
   "source": [
    "print(w_ridge)"
   ]
  },
  {
   "cell_type": "code",
   "execution_count": 68,
   "metadata": {},
   "outputs": [
    {
     "name": "stdout",
     "output_type": "stream",
     "text": [
      "preict is - 26.852176182168137  y is 24.0\n",
      "preict is - 23.9610989855314  y is 21.6\n",
      "preict is - 23.961103752727407  y is 34.7\n",
      "preict is - 25.623190627584833  y is 33.4\n",
      "preict is - 25.614447590110423  y is 36.2\n",
      "preict is - 25.62379129428155  y is 28.7\n",
      "preict is - 24.55430717643817  y is 22.9\n",
      "preict is - 24.540897054074204  y is 27.1\n",
      "preict is - 24.52500083899328  y is 16.5\n",
      "preict is - 24.534821262764968  y is 18.9\n"
     ]
    }
   ],
   "source": [
    "for x_i, y_i in zip(x[:10], y):\n",
    "    print(f\"preict is - {predict(x_i, w_ridge)}  y is {y_i}\")"
   ]
  },
  {
   "cell_type": "code",
   "execution_count": 69,
   "metadata": {},
   "outputs": [
    {
     "data": {
      "text/plain": [
       "2.641505123099881"
      ]
     },
     "execution_count": 69,
     "metadata": {},
     "output_type": "execute_result"
    }
   ],
   "source": [
    "sum([error(x_i, y_i, w_ridge) for x_i, y_i in zip(x, y)])"
   ]
  },
  {
   "cell_type": "code",
   "execution_count": 70,
   "metadata": {},
   "outputs": [
    {
     "data": {
      "text/plain": [
       "30318.123233971237"
      ]
     },
     "execution_count": 70,
     "metadata": {},
     "output_type": "execute_result"
    }
   ],
   "source": [
    "sum_of_squared_errors(w_ridge, x,y)"
   ]
  },
  {
   "cell_type": "code",
   "execution_count": 71,
   "metadata": {},
   "outputs": [
    {
     "data": {
      "text/plain": [
       "0.2902445556336597"
      ]
     },
     "execution_count": 71,
     "metadata": {},
     "output_type": "execute_result"
    }
   ],
   "source": [
    "r_squared(w_ridge, x,y)"
   ]
  },
  {
   "cell_type": "code",
   "execution_count": 72,
   "metadata": {},
   "outputs": [],
   "source": [
    "from sklearn.linear_model import Ridge"
   ]
  },
  {
   "cell_type": "code",
   "execution_count": 73,
   "metadata": {},
   "outputs": [],
   "source": [
    "model_r = Ridge(alpha=8).fit(x[:,:-1],y)"
   ]
  },
  {
   "cell_type": "code",
   "execution_count": 74,
   "metadata": {},
   "outputs": [
    {
     "data": {
      "text/plain": [
       "27.401129704259777"
      ]
     },
     "execution_count": 74,
     "metadata": {},
     "output_type": "execute_result"
    }
   ],
   "source": [
    "model_r.intercept_"
   ]
  },
  {
   "cell_type": "code",
   "execution_count": 75,
   "metadata": {},
   "outputs": [
    {
     "data": {
      "text/plain": [
       "array([-0.24636911,  0.058494  , -0.41732321])"
      ]
     },
     "execution_count": 75,
     "metadata": {},
     "output_type": "execute_result"
    }
   ],
   "source": [
    "model_r.coef_"
   ]
  },
  {
   "cell_type": "code",
   "execution_count": 76,
   "metadata": {},
   "outputs": [],
   "source": [
    "model_rw = list(model.coef_)\n",
    "model_rw.append(model.intercept_)"
   ]
  },
  {
   "cell_type": "code",
   "execution_count": 77,
   "metadata": {},
   "outputs": [
    {
     "name": "stdout",
     "output_type": "stream",
     "text": [
      "[-0.24637652063511997, 0.058465592817829815, -0.4175114693077929, 27.403575667704786]\n"
     ]
    }
   ],
   "source": [
    "print(model_rw)"
   ]
  },
  {
   "cell_type": "code",
   "execution_count": 78,
   "metadata": {},
   "outputs": [
    {
     "data": {
      "text/plain": [
       "-7.174705274337612e-12"
      ]
     },
     "execution_count": 78,
     "metadata": {},
     "output_type": "execute_result"
    }
   ],
   "source": [
    "sum([error(x_i, y_i, model_rw) for x_i, y_i in zip(x,y)])"
   ]
  },
  {
   "cell_type": "code",
   "execution_count": 79,
   "metadata": {},
   "outputs": [
    {
     "data": {
      "text/plain": [
       "30202.886446886256"
      ]
     },
     "execution_count": 79,
     "metadata": {},
     "output_type": "execute_result"
    }
   ],
   "source": [
    "sum_of_squared_errors(model_rw, x,y)"
   ]
  },
  {
   "cell_type": "code",
   "execution_count": 80,
   "metadata": {},
   "outputs": [
    {
     "data": {
      "text/plain": [
       "0.29294227990879573"
      ]
     },
     "execution_count": 80,
     "metadata": {},
     "output_type": "execute_result"
    }
   ],
   "source": [
    "r_squared(model_rw, x,y)"
   ]
  },
  {
   "cell_type": "code",
   "execution_count": 81,
   "metadata": {},
   "outputs": [
    {
     "name": "stdout",
     "output_type": "stream",
     "text": [
      "[-0.23835980028379636, 0.07038860173229587, -0.34014268765702826, 26.37241739341234]\n",
      "[-0.24616922817216516, 0.05865598968015797, -0.41631803413911567, 27.391088948888207]\n"
     ]
    }
   ],
   "source": [
    "print(w_ridge)\n",
    "print(w_simple)"
   ]
  },
  {
   "cell_type": "markdown",
   "metadata": {},
   "source": [
    "# Lasso\n",
    "## L1 regularization"
   ]
  },
  {
   "cell_type": "code",
   "execution_count": 82,
   "metadata": {},
   "outputs": [],
   "source": [
    "#штраф лассо-регрессии\n",
    "def lasso_penalty(beta, alpha):\n",
    "    return alpha * sum(abs(beta_i) for beta_i in beta[1:])"
   ]
  },
  {
   "cell_type": "markdown",
   "metadata": {},
   "source": [
    "***"
   ]
  },
  {
   "cell_type": "markdown",
   "metadata": {},
   "source": [
    "Examples\n",
    "==="
   ]
  },
  {
   "cell_type": "code",
   "execution_count": 83,
   "metadata": {},
   "outputs": [],
   "source": [
    "from sklearn.model_selection import GridSearchCV\n",
    "from sklearn.linear_model import Ridge, Lasso, LinearRegression\n",
    "from matplotlib import pyplot as plt\n",
    "import numpy as np\n",
    "from sklearn.datasets import load_boston\n",
    "%matplotlib inline"
   ]
  },
  {
   "cell_type": "code",
   "execution_count": 84,
   "metadata": {},
   "outputs": [],
   "source": [
    "grid_r = GridSearchCV(estimator=Ridge(), param_grid={\"alpha\":np.linspace(50,0.01,50)})\n",
    "grid_r.fit(load_boston().data, load_boston().target);"
   ]
  },
  {
   "cell_type": "code",
   "execution_count": 85,
   "metadata": {},
   "outputs": [
    {
     "data": {
      "image/png": "[encoded data removed]",
      "text/plain": [
       "<Figure size 432x288 with 1 Axes>"
      ]
     },
     "metadata": {
      "needs_background": "light"
     },
     "output_type": "display_data"
    }
   ],
   "source": [
    "plt.plot(grid_r.cv_results_['param_alpha'].data, grid_r.cv_results_['mean_test_score']);"
   ]
  },
  {
   "cell_type": "code",
   "execution_count": 86,
   "metadata": {},
   "outputs": [],
   "source": [
    "grid_l = GridSearchCV(estimator=Lasso(), param_grid={\"alpha\":np.linspace(50,0.01,50)})\n",
    "grid_l.fit(load_boston().data, load_boston().target);"
   ]
  },
  {
   "cell_type": "code",
   "execution_count": 87,
   "metadata": {},
   "outputs": [
    {
     "data": {
      "image/png": "[encoded data removed]",
      "text/plain": [
       "<Figure size 432x288 with 1 Axes>"
      ]
     },
     "metadata": {
      "needs_background": "light"
     },
     "output_type": "display_data"
    }
   ],
   "source": [
    "plt.plot(grid_l.cv_results_['param_alpha'].data, grid_l.cv_results_['mean_test_score']);"
   ]
  },
  {
   "cell_type": "code",
   "execution_count": 88,
   "metadata": {},
   "outputs": [],
   "source": [
    "Y = load_boston().target\n",
    "X = load_boston().data"
   ]
  },
  {
   "cell_type": "code",
   "execution_count": 89,
   "metadata": {},
   "outputs": [],
   "source": [
    "Lasso01 = Lasso(alpha=0.1).fit(X,Y)\n",
    "Lasso1 = Lasso(alpha=1).fit(X,Y)\n",
    "Lasso10 = Lasso(alpha=10).fit(X, Y)\n",
    "\n",
    "Ridge01 = Ridge(alpha=0.1).fit(X,Y)\n",
    "Ridge1 = Ridge(alpha=1).fit(X,Y)\n",
    "Ridge10 = Ridge(alpha=10).fit(X,Y)\n",
    "\n",
    "LR = LinearRegression().fit(X,Y)"
   ]
  },
  {
   "cell_type": "code",
   "execution_count": 100,
   "metadata": {},
   "outputs": [
    {
     "data": {
      "application/javascript": [
       "/* Put everything inside the global mpl namespace */\n",
       "window.mpl = {};\n",
       "\n",
       "\n",
       "mpl.get_websocket_type = function() {\n",
       "    if (typeof(WebSocket) !== 'undefined') {\n",
       "        return WebSocket;\n",
       "    } else if (typeof(MozWebSocket) !== 'undefined') {\n",
       "        return MozWebSocket;\n",
       "    } else {\n",
       "        alert('Your browser does not have WebSocket support.' +\n",
       "              'Please try Chrome, Safari or Firefox ≥ 6. ' +\n",
       "              'Firefox 4 and 5 are also supported but you ' +\n",
       "              'have to enable WebSockets in about:config.');\n",
       "    };\n",
       "}\n",
       "\n",
       "mpl.figure = function(figure_id, websocket, ondownload, parent_element) {\n",
       "    this.id = figure_id;\n",
       "\n",
       "    this.ws = websocket;\n",
       "\n",
       "    this.supports_binary = (this.ws.binaryType != undefined);\n",
       "\n",
       "    if (!this.supports_binary) {\n",
       "        var warnings = document.getElementById(\"mpl-warnings\");\n",
       "        if (warnings) {\n",
       "            warnings.style.display = 'block';\n",
       "            warnings.textContent = (\n",
       "                \"This browser does not support binary websocket messages. \" +\n",
       "                    \"Performance may be slow.\");\n",
       "        }\n",
       "    }\n",
       "\n",
       "    this.imageObj = new Image();\n",
       "\n",
       "    this.context = undefined;\n",
       "    this.message = undefined;\n",
       "    this.canvas = undefined;\n",
       "    this.rubberband_canvas = undefined;\n",
       "    this.rubberband_context = undefined;\n",
       "    this.format_dropdown = undefined;\n",
       "\n",
       "    this.image_mode = 'full';\n",
       "\n",
       "    this.root = $('<div/>');\n",
       "    this._root_extra_style(this.root)\n",
       "    this.root.attr('style', 'display: inline-block');\n",
       "\n",
       "    $(parent_element).append(this.root);\n",
       "\n",
       "    this._init_header(this);\n",
       "    this._init_canvas(this);\n",
       "    this._init_toolbar(this);\n",
       "\n",
       "    var fig = this;\n",
       "\n",
       "    this.waiting = false;\n",
       "\n",
       "    this.ws.onopen =  function () {\n",
       "            fig.send_message(\"supports_binary\", {value: fig.supports_binary});\n",
       "            fig.send_message(\"send_image_mode\", {});\n",
       "            if (mpl.ratio != 1) {\n",
       "                fig.send_message(\"set_dpi_ratio\", {'dpi_ratio': mpl.ratio});\n",
       "            }\n",
       "            fig.send_message(\"refresh\", {});\n",
       "        }\n",
       "\n",
       "    this.imageObj.onload = function() {\n",
       "            if (fig.image_mode == 'full') {\n",
       "                // Full images could contain transparency (where diff images\n",
       "                // almost always do), so we need to clear the canvas so that\n",
       "                // there is no ghosting.\n",
       "                fig.context.clearRect(0, 0, fig.canvas.width, fig.canvas.height);\n",
       "            }\n",
       "            fig.context.drawImage(fig.imageObj, 0, 0);\n",
       "        };\n",
       "\n",
       "    this.imageObj.onunload = function() {\n",
       "        fig.ws.close();\n",
       "    }\n",
       "\n",
       "    this.ws.onmessage = this._make_on_message_function(this);\n",
       "\n",
       "    this.ondownload = ondownload;\n",
       "}\n",
       "\n",
       "mpl.figure.prototype._init_header = function() {\n",
       "    var titlebar = $(\n",
       "        '<div class=\"ui-dialog-titlebar ui-widget-header ui-corner-all ' +\n",
       "        'ui-helper-clearfix\"/>');\n",
       "    var titletext = $(\n",
       "        '<div class=\"ui-dialog-title\" style=\"width: 100%; ' +\n",
       "        'text-align: center; padding: 3px;\"/>');\n",
       "    titlebar.append(titletext)\n",
       "    this.root.append(titlebar);\n",
       "    this.header = titletext[0];\n",
       "}\n",
       "\n",
       "\n",
       "\n",
       "mpl.figure.prototype._canvas_extra_style = function(canvas_div) {\n",
       "\n",
       "}\n",
       "\n",
       "\n",
       "mpl.figure.prototype._root_extra_style = function(canvas_div) {\n",
       "\n",
       "}\n",
       "\n",
       "mpl.figure.prototype._init_canvas = function() {\n",
       "    var fig = this;\n",
       "\n",
       "    var canvas_div = $('<div/>');\n",
       "\n",
       "    canvas_div.attr('style', 'position: relative; clear: both; outline: 0');\n",
       "\n",
       "    function canvas_keyboard_event(event) {\n",
       "        return fig.key_event(event, event['data']);\n",
       "    }\n",
       "\n",
       "    canvas_div.keydown('key_press', canvas_keyboard_event);\n",
       "    canvas_div.keyup('key_release', canvas_keyboard_event);\n",
       "    this.canvas_div = canvas_div\n",
       "    this._canvas_extra_style(canvas_div)\n",
       "    this.root.append(canvas_div);\n",
       "\n",
       "    var canvas = $('<canvas/>');\n",
       "    canvas.addClass('mpl-canvas');\n",
       "    canvas.attr('style', \"left: 0; top: 0; z-index: 0; outline: 0\")\n",
       "\n",
       "    this.canvas = canvas[0];\n",
       "    this.context = canvas[0].getContext(\"2d\");\n",
       "\n",
       "    var backingStore = this.context.backingStorePixelRatio ||\n",
       "\tthis.context.webkitBackingStorePixelRatio ||\n",
       "\tthis.context.mozBackingStorePixelRatio ||\n",
       "\tthis.context.msBackingStorePixelRatio ||\n",
       "\tthis.context.oBackingStorePixelRatio ||\n",
       "\tthis.context.backingStorePixelRatio || 1;\n",
       "\n",
       "    mpl.ratio = (window.devicePixelRatio || 1) / backingStore;\n",
       "\n",
       "    var rubberband = $('<canvas/>');\n",
       "    rubberband.attr('style', \"position: absolute; left: 0; top: 0; z-index: 1;\")\n",
       "\n",
       "    var pass_mouse_events = true;\n",
       "\n",
       "    canvas_div.resizable({\n",
       "        start: function(event, ui) {\n",
       "            pass_mouse_events = false;\n",
       "        },\n",
       "        resize: function(event, ui) {\n",
       "            fig.request_resize(ui.size.width, ui.size.height);\n",
       "        },\n",
       "        stop: function(event, ui) {\n",
       "            pass_mouse_events = true;\n",
       "            fig.request_resize(ui.size.width, ui.size.height);\n",
       "        },\n",
       "    });\n",
       "\n",
       "    function mouse_event_fn(event) {\n",
       "        if (pass_mouse_events)\n",
       "            return fig.mouse_event(event, event['data']);\n",
       "    }\n",
       "\n",
       "    rubberband.mousedown('button_press', mouse_event_fn);\n",
       "    rubberband.mouseup('button_release', mouse_event_fn);\n",
       "    // Throttle sequential mouse events to 1 every 20ms.\n",
       "    rubberband.mousemove('motion_notify', mouse_event_fn);\n",
       "\n",
       "    rubberband.mouseenter('figure_enter', mouse_event_fn);\n",
       "    rubberband.mouseleave('figure_leave', mouse_event_fn);\n",
       "\n",
       "    canvas_div.on(\"wheel\", function (event) {\n",
       "        event = event.originalEvent;\n",
       "        event['data'] = 'scroll'\n",
       "        if (event.deltaY < 0) {\n",
       "            event.step = 1;\n",
       "        } else {\n",
       "            event.step = -1;\n",
       "        }\n",
       "        mouse_event_fn(event);\n",
       "    });\n",
       "\n",
       "    canvas_div.append(canvas);\n",
       "    canvas_div.append(rubberband);\n",
       "\n",
       "    this.rubberband = rubberband;\n",
       "    this.rubberband_canvas = rubberband[0];\n",
       "    this.rubberband_context = rubberband[0].getContext(\"2d\");\n",
       "    this.rubberband_context.strokeStyle = \"#000000\";\n",
       "\n",
       "    this._resize_canvas = function(width, height) {\n",
       "        // Keep the size of the canvas, canvas container, and rubber band\n",
       "        // canvas in synch.\n",
       "        canvas_div.css('width', width)\n",
       "        canvas_div.css('height', height)\n",
       "\n",
       "        canvas.attr('width', width * mpl.ratio);\n",
       "        canvas.attr('height', height * mpl.ratio);\n",
       "        canvas.attr('style', 'width: ' + width + 'px; height: ' + height + 'px;');\n",
       "\n",
       "        rubberband.attr('width', width);\n",
       "        rubberband.attr('height', height);\n",
       "    }\n",
       "\n",
       "    // Set the figure to an initial 600x600px, this will subsequently be updated\n",
       "    // upon first draw.\n",
       "    this._resize_canvas(600, 600);\n",
       "\n",
       "    // Disable right mouse context menu.\n",
       "    $(this.rubberband_canvas).bind(\"contextmenu\",function(e){\n",
       "        return false;\n",
       "    });\n",
       "\n",
       "    function set_focus () {\n",
       "        canvas.focus();\n",
       "        canvas_div.focus();\n",
       "    }\n",
       "\n",
       "    window.setTimeout(set_focus, 100);\n",
       "}\n",
       "\n",
       "mpl.figure.prototype._init_toolbar = function() {\n",
       "    var fig = this;\n",
       "\n",
       "    var nav_element = $('<div/>')\n",
       "    nav_element.attr('style', 'width: 100%');\n",
       "    this.root.append(nav_element);\n",
       "\n",
       "    // Define a callback function for later on.\n",
       "    function toolbar_event(event) {\n",
       "        return fig.toolbar_button_onclick(event['data']);\n",
       "    }\n",
       "    function toolbar_mouse_event(event) {\n",
       "        return fig.toolbar_button_onmouseover(event['data']);\n",
       "    }\n",
       "\n",
       "    for(var toolbar_ind in mpl.toolbar_items) {\n",
       "        var name = mpl.toolbar_items[toolbar_ind][0];\n",
       "        var tooltip = mpl.toolbar_items[toolbar_ind][1];\n",
       "        var image = mpl.toolbar_items[toolbar_ind][2];\n",
       "        var method_name = mpl.toolbar_items[toolbar_ind][3];\n",
       "\n",
       "        if (!name) {\n",
       "            // put a spacer in here.\n",
       "            continue;\n",
       "        }\n",
       "        var button = $('<button/>');\n",
       "        button.addClass('ui-button ui-widget ui-state-default ui-corner-all ' +\n",
       "                        'ui-button-icon-only');\n",
       "        button.attr('role', 'button');\n",
       "        button.attr('aria-disabled', 'false');\n",
       "        button.click(method_name, toolbar_event);\n",
       "        button.mouseover(tooltip, toolbar_mouse_event);\n",
       "\n",
       "        var icon_img = $('<span/>');\n",
       "        icon_img.addClass('ui-button-icon-primary ui-icon');\n",
       "        icon_img.addClass(image);\n",
       "        icon_img.addClass('ui-corner-all');\n",
       "\n",
       "        var tooltip_span = $('<span/>');\n",
       "        tooltip_span.addClass('ui-button-text');\n",
       "        tooltip_span.html(tooltip);\n",
       "\n",
       "        button.append(icon_img);\n",
       "        button.append(tooltip_span);\n",
       "\n",
       "        nav_element.append(button);\n",
       "    }\n",
       "\n",
       "    var fmt_picker_span = $('<span/>');\n",
       "\n",
       "    var fmt_picker = $('<select/>');\n",
       "    fmt_picker.addClass('mpl-toolbar-option ui-widget ui-widget-content');\n",
       "    fmt_picker_span.append(fmt_picker);\n",
       "    nav_element.append(fmt_picker_span);\n",
       "    this.format_dropdown = fmt_picker[0];\n",
       "\n",
       "    for (var ind in mpl.extensions) {\n",
       "        var fmt = mpl.extensions[ind];\n",
       "        var option = $(\n",
       "            '<option/>', {selected: fmt === mpl.default_extension}).html(fmt);\n",
       "        fmt_picker.append(option)\n",
       "    }\n",
       "\n",
       "    // Add hover states to the ui-buttons\n",
       "    $( \".ui-button\" ).hover(\n",
       "        function() { $(this).addClass(\"ui-state-hover\");},\n",
       "        function() { $(this).removeClass(\"ui-state-hover\");}\n",
       "    );\n",
       "\n",
       "    var status_bar = $('<span class=\"mpl-message\"/>');\n",
       "    nav_element.append(status_bar);\n",
       "    this.message = status_bar[0];\n",
       "}\n",
       "\n",
       "mpl.figure.prototype.request_resize = function(x_pixels, y_pixels) {\n",
       "    // Request matplotlib to resize the figure. Matplotlib will then trigger a resize in the client,\n",
       "    // which will in turn request a refresh of the image.\n",
       "    this.send_message('resize', {'width': x_pixels, 'height': y_pixels});\n",
       "}\n",
       "\n",
       "mpl.figure.prototype.send_message = function(type, properties) {\n",
       "    properties['type'] = type;\n",
       "    properties['figure_id'] = this.id;\n",
       "    this.ws.send(JSON.stringify(properties));\n",
       "}\n",
       "\n",
       "mpl.figure.prototype.send_draw_message = function() {\n",
       "    if (!this.waiting) {\n",
       "        this.waiting = true;\n",
       "        this.ws.send(JSON.stringify({type: \"draw\", figure_id: this.id}));\n",
       "    }\n",
       "}\n",
       "\n",
       "\n",
       "mpl.figure.prototype.handle_save = function(fig, msg) {\n",
       "    var format_dropdown = fig.format_dropdown;\n",
       "    var format = format_dropdown.options[format_dropdown.selectedIndex].value;\n",
       "    fig.ondownload(fig, format);\n",
       "}\n",
       "\n",
       "\n",
       "mpl.figure.prototype.handle_resize = function(fig, msg) {\n",
       "    var size = msg['size'];\n",
       "    if (size[0] != fig.canvas.width || size[1] != fig.canvas.height) {\n",
       "        fig._resize_canvas(size[0], size[1]);\n",
       "        fig.send_message(\"refresh\", {});\n",
       "    };\n",
       "}\n",
       "\n",
       "mpl.figure.prototype.handle_rubberband = function(fig, msg) {\n",
       "    var x0 = msg['x0'] / mpl.ratio;\n",
       "    var y0 = (fig.canvas.height - msg['y0']) / mpl.ratio;\n",
       "    var x1 = msg['x1'] / mpl.ratio;\n",
       "    var y1 = (fig.canvas.height - msg['y1']) / mpl.ratio;\n",
       "    x0 = Math.floor(x0) + 0.5;\n",
       "    y0 = Math.floor(y0) + 0.5;\n",
       "    x1 = Math.floor(x1) + 0.5;\n",
       "    y1 = Math.floor(y1) + 0.5;\n",
       "    var min_x = Math.min(x0, x1);\n",
       "    var min_y = Math.min(y0, y1);\n",
       "    var width = Math.abs(x1 - x0);\n",
       "    var height = Math.abs(y1 - y0);\n",
       "\n",
       "    fig.rubberband_context.clearRect(\n",
       "        0, 0, fig.canvas.width, fig.canvas.height);\n",
       "\n",
       "    fig.rubberband_context.strokeRect(min_x, min_y, width, height);\n",
       "}\n",
       "\n",
       "mpl.figure.prototype.handle_figure_label = function(fig, msg) {\n",
       "    // Updates the figure title.\n",
       "    fig.header.textContent = msg['label'];\n",
       "}\n",
       "\n",
       "mpl.figure.prototype.handle_cursor = function(fig, msg) {\n",
       "    var cursor = msg['cursor'];\n",
       "    switch(cursor)\n",
       "    {\n",
       "    case 0:\n",
       "        cursor = 'pointer';\n",
       "        break;\n",
       "    case 1:\n",
       "        cursor = 'default';\n",
       "        break;\n",
       "    case 2:\n",
       "        cursor = 'crosshair';\n",
       "        break;\n",
       "    case 3:\n",
       "        cursor = 'move';\n",
       "        break;\n",
       "    }\n",
       "    fig.rubberband_canvas.style.cursor = cursor;\n",
       "}\n",
       "\n",
       "mpl.figure.prototype.handle_message = function(fig, msg) {\n",
       "    fig.message.textContent = msg['message'];\n",
       "}\n",
       "\n",
       "mpl.figure.prototype.handle_draw = function(fig, msg) {\n",
       "    // Request the server to send over a new figure.\n",
       "    fig.send_draw_message();\n",
       "}\n",
       "\n",
       "mpl.figure.prototype.handle_image_mode = function(fig, msg) {\n",
       "    fig.image_mode = msg['mode'];\n",
       "}\n",
       "\n",
       "mpl.figure.prototype.updated_canvas_event = function() {\n",
       "    // Called whenever the canvas gets updated.\n",
       "    this.send_message(\"ack\", {});\n",
       "}\n",
       "\n",
       "// A function to construct a web socket function for onmessage handling.\n",
       "// Called in the figure constructor.\n",
       "mpl.figure.prototype._make_on_message_function = function(fig) {\n",
       "    return function socket_on_message(evt) {\n",
       "        if (evt.data instanceof Blob) {\n",
       "            /* FIXME: We get \"Resource interpreted as Image but\n",
       "             * transferred with MIME type text/plain:\" errors on\n",
       "             * Chrome.  But how to set the MIME type?  It doesn't seem\n",
       "             * to be part of the websocket stream */\n",
       "            evt.data.type = \"image/png\";\n",
       "\n",
       "            /* Free the memory for the previous frames */\n",
       "            if (fig.imageObj.src) {\n",
       "                (window.URL || window.webkitURL).revokeObjectURL(\n",
       "                    fig.imageObj.src);\n",
       "            }\n",
       "\n",
       "            fig.imageObj.src = (window.URL || window.webkitURL).createObjectURL(\n",
       "                evt.data);\n",
       "            fig.updated_canvas_event();\n",
       "            fig.waiting = false;\n",
       "            return;\n",
       "        }\n",
       "        else if (typeof evt.data === 'string' && evt.data.slice(0, 21) == \"data:image/png;base64\") {\n",
       "            fig.imageObj.src = evt.data;\n",
       "            fig.updated_canvas_event();\n",
       "            fig.waiting = false;\n",
       "            return;\n",
       "        }\n",
       "\n",
       "        var msg = JSON.parse(evt.data);\n",
       "        var msg_type = msg['type'];\n",
       "\n",
       "        // Call the  \"handle_{type}\" callback, which takes\n",
       "        // the figure and JSON message as its only arguments.\n",
       "        try {\n",
       "            var callback = fig[\"handle_\" + msg_type];\n",
       "        } catch (e) {\n",
       "            console.log(\"No handler for the '\" + msg_type + \"' message type: \", msg);\n",
       "            return;\n",
       "        }\n",
       "\n",
       "        if (callback) {\n",
       "            try {\n",
       "                // console.log(\"Handling '\" + msg_type + \"' message: \", msg);\n",
       "                callback(fig, msg);\n",
       "            } catch (e) {\n",
       "                console.log(\"Exception inside the 'handler_\" + msg_type + \"' callback:\", e, e.stack, msg);\n",
       "            }\n",
       "        }\n",
       "    };\n",
       "}\n",
       "\n",
       "// from http://stackoverflow.com/questions/1114465/getting-mouse-location-in-canvas\n",
       "mpl.findpos = function(e) {\n",
       "    //this section is from http://www.quirksmode.org/js/events_properties.html\n",
       "    var targ;\n",
       "    if (!e)\n",
       "        e = window.event;\n",
       "    if (e.target)\n",
       "        targ = e.target;\n",
       "    else if (e.srcElement)\n",
       "        targ = e.srcElement;\n",
       "    if (targ.nodeType == 3) // defeat Safari bug\n",
       "        targ = targ.parentNode;\n",
       "\n",
       "    // jQuery normalizes the pageX and pageY\n",
       "    // pageX,Y are the mouse positions relative to the document\n",
       "    // offset() returns the position of the element relative to the document\n",
       "    var x = e.pageX - $(targ).offset().left;\n",
       "    var y = e.pageY - $(targ).offset().top;\n",
       "\n",
       "    return {\"x\": x, \"y\": y};\n",
       "};\n",
       "\n",
       "/*\n",
       " * return a copy of an object with only non-object keys\n",
       " * we need this to avoid circular references\n",
       " * http://stackoverflow.com/a/24161582/3208463\n",
       " */\n",
       "function simpleKeys (original) {\n",
       "  return Object.keys(original).reduce(function (obj, key) {\n",
       "    if (typeof original[key] !== 'object')\n",
       "        obj[key] = original[key]\n",
       "    return obj;\n",
       "  }, {});\n",
       "}\n",
       "\n",
       "mpl.figure.prototype.mouse_event = function(event, name) {\n",
       "    var canvas_pos = mpl.findpos(event)\n",
       "\n",
       "    if (name === 'button_press')\n",
       "    {\n",
       "        this.canvas.focus();\n",
       "        this.canvas_div.focus();\n",
       "    }\n",
       "\n",
       "    var x = canvas_pos.x * mpl.ratio;\n",
       "    var y = canvas_pos.y * mpl.ratio;\n",
       "\n",
       "    this.send_message(name, {x: x, y: y, button: event.button,\n",
       "                             step: event.step,\n",
       "                             guiEvent: simpleKeys(event)});\n",
       "\n",
       "    /* This prevents the web browser from automatically changing to\n",
       "     * the text insertion cursor when the button is pressed.  We want\n",
       "     * to control all of the cursor setting manually through the\n",
       "     * 'cursor' event from matplotlib */\n",
       "    event.preventDefault();\n",
       "    return false;\n",
       "}\n",
       "\n",
       "mpl.figure.prototype._key_event_extra = function(event, name) {\n",
       "    // Handle any extra behaviour associated with a key event\n",
       "}\n",
       "\n",
       "mpl.figure.prototype.key_event = function(event, name) {\n",
       "\n",
       "    // Prevent repeat events\n",
       "    if (name == 'key_press')\n",
       "    {\n",
       "        if (event.which === this._key)\n",
       "            return;\n",
       "        else\n",
       "            this._key = event.which;\n",
       "    }\n",
       "    if (name == 'key_release')\n",
       "        this._key = null;\n",
       "\n",
       "    var value = '';\n",
       "    if (event.ctrlKey && event.which != 17)\n",
       "        value += \"ctrl+\";\n",
       "    if (event.altKey && event.which != 18)\n",
       "        value += \"alt+\";\n",
       "    if (event.shiftKey && event.which != 16)\n",
       "        value += \"shift+\";\n",
       "\n",
       "    value += 'k';\n",
       "    value += event.which.toString();\n",
       "\n",
       "    this._key_event_extra(event, name);\n",
       "\n",
       "    this.send_message(name, {key: value,\n",
       "                             guiEvent: simpleKeys(event)});\n",
       "    return false;\n",
       "}\n",
       "\n",
       "mpl.figure.prototype.toolbar_button_onclick = function(name) {\n",
       "    if (name == 'download') {\n",
       "        this.handle_save(this, null);\n",
       "    } else {\n",
       "        this.send_message(\"toolbar_button\", {name: name});\n",
       "    }\n",
       "};\n",
       "\n",
       "mpl.figure.prototype.toolbar_button_onmouseover = function(tooltip) {\n",
       "    this.message.textContent = tooltip;\n",
       "};\n",
       "mpl.toolbar_items = [[\"Home\", \"Reset original view\", \"fa fa-home icon-home\", \"home\"], [\"Back\", \"Back to  previous view\", \"fa fa-arrow-left icon-arrow-left\", \"back\"], [\"Forward\", \"Forward to next view\", \"fa fa-arrow-right icon-arrow-right\", \"forward\"], [\"\", \"\", \"\", \"\"], [\"Pan\", \"Pan axes with left mouse, zoom with right\", \"fa fa-arrows icon-move\", \"pan\"], [\"Zoom\", \"Zoom to rectangle\", \"fa fa-square-o icon-check-empty\", \"zoom\"], [\"\", \"\", \"\", \"\"], [\"Download\", \"Download plot\", \"fa fa-floppy-o icon-save\", \"download\"]];\n",
       "\n",
       "mpl.extensions = [\"eps\", \"jpeg\", \"pdf\", \"png\", \"ps\", \"raw\", \"svg\", \"tif\"];\n",
       "\n",
       "mpl.default_extension = \"png\";var comm_websocket_adapter = function(comm) {\n",
       "    // Create a \"websocket\"-like object which calls the given IPython comm\n",
       "    // object with the appropriate methods. Currently this is a non binary\n",
       "    // socket, so there is still some room for performance tuning.\n",
       "    var ws = {};\n",
       "\n",
       "    ws.close = function() {\n",
       "        comm.close()\n",
       "    };\n",
       "    ws.send = function(m) {\n",
       "        //console.log('sending', m);\n",
       "        comm.send(m);\n",
       "    };\n",
       "    // Register the callback with on_msg.\n",
       "    comm.on_msg(function(msg) {\n",
       "        //console.log('receiving', msg['content']['data'], msg);\n",
       "        // Pass the mpl event to the overridden (by mpl) onmessage function.\n",
       "        ws.onmessage(msg['content']['data'])\n",
       "    });\n",
       "    return ws;\n",
       "}\n",
       "\n",
       "mpl.mpl_figure_comm = function(comm, msg) {\n",
       "    // This is the function which gets called when the mpl process\n",
       "    // starts-up an IPython Comm through the \"matplotlib\" channel.\n",
       "\n",
       "    var id = msg.content.data.id;\n",
       "    // Get hold of the div created by the display call when the Comm\n",
       "    // socket was opened in Python.\n",
       "    var element = $(\"#\" + id);\n",
       "    var ws_proxy = comm_websocket_adapter(comm)\n",
       "\n",
       "    function ondownload(figure, format) {\n",
       "        window.open(figure.imageObj.src);\n",
       "    }\n",
       "\n",
       "    var fig = new mpl.figure(id, ws_proxy,\n",
       "                           ondownload,\n",
       "                           element.get(0));\n",
       "\n",
       "    // Call onopen now - mpl needs it, as it is assuming we've passed it a real\n",
       "    // web socket which is closed, not our websocket->open comm proxy.\n",
       "    ws_proxy.onopen();\n",
       "\n",
       "    fig.parent_element = element.get(0);\n",
       "    fig.cell_info = mpl.find_output_cell(\"<div id='\" + id + \"'></div>\");\n",
       "    if (!fig.cell_info) {\n",
       "        console.error(\"Failed to find cell for figure\", id, fig);\n",
       "        return;\n",
       "    }\n",
       "\n",
       "    var output_index = fig.cell_info[2]\n",
       "    var cell = fig.cell_info[0];\n",
       "\n",
       "};\n",
       "\n",
       "mpl.figure.prototype.handle_close = function(fig, msg) {\n",
       "    var width = fig.canvas.width/mpl.ratio\n",
       "    fig.root.unbind('remove')\n",
       "\n",
       "    // Update the output cell to use the data from the current canvas.\n",
       "    fig.push_to_output();\n",
       "    var dataURL = fig.canvas.toDataURL();\n",
       "    // Re-enable the keyboard manager in IPython - without this line, in FF,\n",
       "    // the notebook keyboard shortcuts fail.\n",
       "    IPython.keyboard_manager.enable()\n",
       "    $(fig.parent_element).html('<img src=\"' + dataURL + '\" width=\"' + width + '\">');\n",
       "    fig.close_ws(fig, msg);\n",
       "}\n",
       "\n",
       "mpl.figure.prototype.close_ws = function(fig, msg){\n",
       "    fig.send_message('closing', msg);\n",
       "    // fig.ws.close()\n",
       "}\n",
       "\n",
       "mpl.figure.prototype.push_to_output = function(remove_interactive) {\n",
       "    // Turn the data on the canvas into data in the output cell.\n",
       "    var width = this.canvas.width/mpl.ratio\n",
       "    var dataURL = this.canvas.toDataURL();\n",
       "    this.cell_info[1]['text/html'] = '<img src=\"' + dataURL + '\" width=\"' + width + '\">';\n",
       "}\n",
       "\n",
       "mpl.figure.prototype.updated_canvas_event = function() {\n",
       "    // Tell IPython that the notebook contents must change.\n",
       "    IPython.notebook.set_dirty(true);\n",
       "    this.send_message(\"ack\", {});\n",
       "    var fig = this;\n",
       "    // Wait a second, then push the new image to the DOM so\n",
       "    // that it is saved nicely (might be nice to debounce this).\n",
       "    setTimeout(function () { fig.push_to_output() }, 1000);\n",
       "}\n",
       "\n",
       "mpl.figure.prototype._init_toolbar = function() {\n",
       "    var fig = this;\n",
       "\n",
       "    var nav_element = $('<div/>')\n",
       "    nav_element.attr('style', 'width: 100%');\n",
       "    this.root.append(nav_element);\n",
       "\n",
       "    // Define a callback function for later on.\n",
       "    function toolbar_event(event) {\n",
       "        return fig.toolbar_button_onclick(event['data']);\n",
       "    }\n",
       "    function toolbar_mouse_event(event) {\n",
       "        return fig.toolbar_button_onmouseover(event['data']);\n",
       "    }\n",
       "\n",
       "    for(var toolbar_ind in mpl.toolbar_items){\n",
       "        var name = mpl.toolbar_items[toolbar_ind][0];\n",
       "        var tooltip = mpl.toolbar_items[toolbar_ind][1];\n",
       "        var image = mpl.toolbar_items[toolbar_ind][2];\n",
       "        var method_name = mpl.toolbar_items[toolbar_ind][3];\n",
       "\n",
       "        if (!name) { continue; };\n",
       "\n",
       "        var button = $('<button class=\"btn btn-default\" href=\"#\" title=\"' + name + '\"><i class=\"fa ' + image + ' fa-lg\"></i></button>');\n",
       "        button.click(method_name, toolbar_event);\n",
       "        button.mouseover(tooltip, toolbar_mouse_event);\n",
       "        nav_element.append(button);\n",
       "    }\n",
       "\n",
       "    // Add the status bar.\n",
       "    var status_bar = $('<span class=\"mpl-message\" style=\"text-align:right; float: right;\"/>');\n",
       "    nav_element.append(status_bar);\n",
       "    this.message = status_bar[0];\n",
       "\n",
       "    // Add the close button to the window.\n",
       "    var buttongrp = $('<div class=\"btn-group inline pull-right\"></div>');\n",
       "    var button = $('<button class=\"btn btn-mini btn-primary\" href=\"#\" title=\"Stop Interaction\"><i class=\"fa fa-power-off icon-remove icon-large\"></i></button>');\n",
       "    button.click(function (evt) { fig.handle_close(fig, {}); } );\n",
       "    button.mouseover('Stop Interaction', toolbar_mouse_event);\n",
       "    buttongrp.append(button);\n",
       "    var titlebar = this.root.find($('.ui-dialog-titlebar'));\n",
       "    titlebar.prepend(buttongrp);\n",
       "}\n",
       "\n",
       "mpl.figure.prototype._root_extra_style = function(el){\n",
       "    var fig = this\n",
       "    el.on(\"remove\", function(){\n",
       "\tfig.close_ws(fig, {});\n",
       "    });\n",
       "}\n",
       "\n",
       "mpl.figure.prototype._canvas_extra_style = function(el){\n",
       "    // this is important to make the div 'focusable\n",
       "    el.attr('tabindex', 0)\n",
       "    // reach out to IPython and tell the keyboard manager to turn it's self\n",
       "    // off when our div gets focus\n",
       "\n",
       "    // location in version 3\n",
       "    if (IPython.notebook.keyboard_manager) {\n",
       "        IPython.notebook.keyboard_manager.register_events(el);\n",
       "    }\n",
       "    else {\n",
       "        // location in version 2\n",
       "        IPython.keyboard_manager.register_events(el);\n",
       "    }\n",
       "\n",
       "}\n",
       "\n",
       "mpl.figure.prototype._key_event_extra = function(event, name) {\n",
       "    var manager = IPython.notebook.keyboard_manager;\n",
       "    if (!manager)\n",
       "        manager = IPython.keyboard_manager;\n",
       "\n",
       "    // Check for shift+enter\n",
       "    if (event.shiftKey && event.which == 13) {\n",
       "        this.canvas_div.blur();\n",
       "        event.shiftKey = false;\n",
       "        // Send a \"J\" for go to next cell\n",
       "        event.which = 74;\n",
       "        event.keyCode = 74;\n",
       "        manager.command_mode();\n",
       "        manager.handle_keydown(event);\n",
       "    }\n",
       "}\n",
       "\n",
       "mpl.figure.prototype.handle_save = function(fig, msg) {\n",
       "    fig.ondownload(fig, null);\n",
       "}\n",
       "\n",
       "\n",
       "mpl.find_output_cell = function(html_output) {\n",
       "    // Return the cell and output element which can be found *uniquely* in the notebook.\n",
       "    // Note - this is a bit hacky, but it is done because the \"notebook_saving.Notebook\"\n",
       "    // IPython event is triggered only after the cells have been serialised, which for\n",
       "    // our purposes (turning an active figure into a static one), is too late.\n",
       "    var cells = IPython.notebook.get_cells();\n",
       "    var ncells = cells.length;\n",
       "    for (var i=0; i<ncells; i++) {\n",
       "        var cell = cells[i];\n",
       "        if (cell.cell_type === 'code'){\n",
       "            for (var j=0; j<cell.output_area.outputs.length; j++) {\n",
       "                var data = cell.output_area.outputs[j];\n",
       "                if (data.data) {\n",
       "                    // IPython >= 3 moved mimebundle to data attribute of output\n",
       "                    data = data.data;\n",
       "                }\n",
       "                if (data['text/html'] == html_output) {\n",
       "                    return [cell, data, j];\n",
       "                }\n",
       "            }\n",
       "        }\n",
       "    }\n",
       "}\n",
       "\n",
       "// Register the function which deals with the matplotlib target/channel.\n",
       "// The kernel may be null if the page has been refreshed.\n",
       "if (IPython.notebook.kernel != null) {\n",
       "    IPython.notebook.kernel.comm_manager.register_target('matplotlib', mpl.mpl_figure_comm);\n",
       "}\n"
      ],
      "text/plain": [
       "<IPython.core.display.Javascript object>"
      ]
     },
     "metadata": {},
     "output_type": "display_data"
    },
    {
     "data": {
      "text/html": [
       "<img src=\"data:image/png;base64,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\" width=\"431.818172458775\">"
      ],
      "text/plain": [
       "<IPython.core.display.HTML object>"
      ]
     },
     "metadata": {},
     "output_type": "display_data"
    }
   ],
   "source": [
    "%matplotlib nbagg\n",
    "plt.plot(Ridge01.coef_, 's', label=\"Гребневая регрессия alpha=0.1\")\n",
    "plt.plot(Ridge1.coef_, '^', label=\"Гребневая регрессия alpha=1\")\n",
    "plt.plot(Ridge10.coef_, 'v', label=\"Гребневая регрессия alpha=10\")\n",
    "\n",
    "plt.plot(LR.coef_, 'o', label=\"Линейная регрессия\")\n",
    "\n",
    "plt.xlabel(\"Индекс коэфициента\")\n",
    "plt.ylabel('величина коэфициента')\n",
    "plt.hlines(0,0,len(LR.coef_))\n",
    "plt.legend();"
   ]
  },
  {
   "cell_type": "code",
   "execution_count": 101,
   "metadata": {},
   "outputs": [
    {
     "data": {
      "application/javascript": [
       "/* Put everything inside the global mpl namespace */\n",
       "window.mpl = {};\n",
       "\n",
       "\n",
       "mpl.get_websocket_type = function() {\n",
       "    if (typeof(WebSocket) !== 'undefined') {\n",
       "        return WebSocket;\n",
       "    } else if (typeof(MozWebSocket) !== 'undefined') {\n",
       "        return MozWebSocket;\n",
       "    } else {\n",
       "        alert('Your browser does not have WebSocket support.' +\n",
       "              'Please try Chrome, Safari or Firefox ≥ 6. ' +\n",
       "              'Firefox 4 and 5 are also supported but you ' +\n",
       "              'have to enable WebSockets in about:config.');\n",
       "    };\n",
       "}\n",
       "\n",
       "mpl.figure = function(figure_id, websocket, ondownload, parent_element) {\n",
       "    this.id = figure_id;\n",
       "\n",
       "    this.ws = websocket;\n",
       "\n",
       "    this.supports_binary = (this.ws.binaryType != undefined);\n",
       "\n",
       "    if (!this.supports_binary) {\n",
       "        var warnings = document.getElementById(\"mpl-warnings\");\n",
       "        if (warnings) {\n",
       "            warnings.style.display = 'block';\n",
       "            warnings.textContent = (\n",
       "                \"This browser does not support binary websocket messages. \" +\n",
       "                    \"Performance may be slow.\");\n",
       "        }\n",
       "    }\n",
       "\n",
       "    this.imageObj = new Image();\n",
       "\n",
       "    this.context = undefined;\n",
       "    this.message = undefined;\n",
       "    this.canvas = undefined;\n",
       "    this.rubberband_canvas = undefined;\n",
       "    this.rubberband_context = undefined;\n",
       "    this.format_dropdown = undefined;\n",
       "\n",
       "    this.image_mode = 'full';\n",
       "\n",
       "    this.root = $('<div/>');\n",
       "    this._root_extra_style(this.root)\n",
       "    this.root.attr('style', 'display: inline-block');\n",
       "\n",
       "    $(parent_element).append(this.root);\n",
       "\n",
       "    this._init_header(this);\n",
       "    this._init_canvas(this);\n",
       "    this._init_toolbar(this);\n",
       "\n",
       "    var fig = this;\n",
       "\n",
       "    this.waiting = false;\n",
       "\n",
       "    this.ws.onopen =  function () {\n",
       "            fig.send_message(\"supports_binary\", {value: fig.supports_binary});\n",
       "            fig.send_message(\"send_image_mode\", {});\n",
       "            if (mpl.ratio != 1) {\n",
       "                fig.send_message(\"set_dpi_ratio\", {'dpi_ratio': mpl.ratio});\n",
       "            }\n",
       "            fig.send_message(\"refresh\", {});\n",
       "        }\n",
       "\n",
       "    this.imageObj.onload = function() {\n",
       "            if (fig.image_mode == 'full') {\n",
       "                // Full images could contain transparency (where diff images\n",
       "                // almost always do), so we need to clear the canvas so that\n",
       "                // there is no ghosting.\n",
       "                fig.context.clearRect(0, 0, fig.canvas.width, fig.canvas.height);\n",
       "            }\n",
       "            fig.context.drawImage(fig.imageObj, 0, 0);\n",
       "        };\n",
       "\n",
       "    this.imageObj.onunload = function() {\n",
       "        fig.ws.close();\n",
       "    }\n",
       "\n",
       "    this.ws.onmessage = this._make_on_message_function(this);\n",
       "\n",
       "    this.ondownload = ondownload;\n",
       "}\n",
       "\n",
       "mpl.figure.prototype._init_header = function() {\n",
       "    var titlebar = $(\n",
       "        '<div class=\"ui-dialog-titlebar ui-widget-header ui-corner-all ' +\n",
       "        'ui-helper-clearfix\"/>');\n",
       "    var titletext = $(\n",
       "        '<div class=\"ui-dialog-title\" style=\"width: 100%; ' +\n",
       "        'text-align: center; padding: 3px;\"/>');\n",
       "    titlebar.append(titletext)\n",
       "    this.root.append(titlebar);\n",
       "    this.header = titletext[0];\n",
       "}\n",
       "\n",
       "\n",
       "\n",
       "mpl.figure.prototype._canvas_extra_style = function(canvas_div) {\n",
       "\n",
       "}\n",
       "\n",
       "\n",
       "mpl.figure.prototype._root_extra_style = function(canvas_div) {\n",
       "\n",
       "}\n",
       "\n",
       "mpl.figure.prototype._init_canvas = function() {\n",
       "    var fig = this;\n",
       "\n",
       "    var canvas_div = $('<div/>');\n",
       "\n",
       "    canvas_div.attr('style', 'position: relative; clear: both; outline: 0');\n",
       "\n",
       "    function canvas_keyboard_event(event) {\n",
       "        return fig.key_event(event, event['data']);\n",
       "    }\n",
       "\n",
       "    canvas_div.keydown('key_press', canvas_keyboard_event);\n",
       "    canvas_div.keyup('key_release', canvas_keyboard_event);\n",
       "    this.canvas_div = canvas_div\n",
       "    this._canvas_extra_style(canvas_div)\n",
       "    this.root.append(canvas_div);\n",
       "\n",
       "    var canvas = $('<canvas/>');\n",
       "    canvas.addClass('mpl-canvas');\n",
       "    canvas.attr('style', \"left: 0; top: 0; z-index: 0; outline: 0\")\n",
       "\n",
       "    this.canvas = canvas[0];\n",
       "    this.context = canvas[0].getContext(\"2d\");\n",
       "\n",
       "    var backingStore = this.context.backingStorePixelRatio ||\n",
       "\tthis.context.webkitBackingStorePixelRatio ||\n",
       "\tthis.context.mozBackingStorePixelRatio ||\n",
       "\tthis.context.msBackingStorePixelRatio ||\n",
       "\tthis.context.oBackingStorePixelRatio ||\n",
       "\tthis.context.backingStorePixelRatio || 1;\n",
       "\n",
       "    mpl.ratio = (window.devicePixelRatio || 1) / backingStore;\n",
       "\n",
       "    var rubberband = $('<canvas/>');\n",
       "    rubberband.attr('style', \"position: absolute; left: 0; top: 0; z-index: 1;\")\n",
       "\n",
       "    var pass_mouse_events = true;\n",
       "\n",
       "    canvas_div.resizable({\n",
       "        start: function(event, ui) {\n",
       "            pass_mouse_events = false;\n",
       "        },\n",
       "        resize: function(event, ui) {\n",
       "            fig.request_resize(ui.size.width, ui.size.height);\n",
       "        },\n",
       "        stop: function(event, ui) {\n",
       "            pass_mouse_events = true;\n",
       "            fig.request_resize(ui.size.width, ui.size.height);\n",
       "        },\n",
       "    });\n",
       "\n",
       "    function mouse_event_fn(event) {\n",
       "        if (pass_mouse_events)\n",
       "            return fig.mouse_event(event, event['data']);\n",
       "    }\n",
       "\n",
       "    rubberband.mousedown('button_press', mouse_event_fn);\n",
       "    rubberband.mouseup('button_release', mouse_event_fn);\n",
       "    // Throttle sequential mouse events to 1 every 20ms.\n",
       "    rubberband.mousemove('motion_notify', mouse_event_fn);\n",
       "\n",
       "    rubberband.mouseenter('figure_enter', mouse_event_fn);\n",
       "    rubberband.mouseleave('figure_leave', mouse_event_fn);\n",
       "\n",
       "    canvas_div.on(\"wheel\", function (event) {\n",
       "        event = event.originalEvent;\n",
       "        event['data'] = 'scroll'\n",
       "        if (event.deltaY < 0) {\n",
       "            event.step = 1;\n",
       "        } else {\n",
       "            event.step = -1;\n",
       "        }\n",
       "        mouse_event_fn(event);\n",
       "    });\n",
       "\n",
       "    canvas_div.append(canvas);\n",
       "    canvas_div.append(rubberband);\n",
       "\n",
       "    this.rubberband = rubberband;\n",
       "    this.rubberband_canvas = rubberband[0];\n",
       "    this.rubberband_context = rubberband[0].getContext(\"2d\");\n",
       "    this.rubberband_context.strokeStyle = \"#000000\";\n",
       "\n",
       "    this._resize_canvas = function(width, height) {\n",
       "        // Keep the size of the canvas, canvas container, and rubber band\n",
       "        // canvas in synch.\n",
       "        canvas_div.css('width', width)\n",
       "        canvas_div.css('height', height)\n",
       "\n",
       "        canvas.attr('width', width * mpl.ratio);\n",
       "        canvas.attr('height', height * mpl.ratio);\n",
       "        canvas.attr('style', 'width: ' + width + 'px; height: ' + height + 'px;');\n",
       "\n",
       "        rubberband.attr('width', width);\n",
       "        rubberband.attr('height', height);\n",
       "    }\n",
       "\n",
       "    // Set the figure to an initial 600x600px, this will subsequently be updated\n",
       "    // upon first draw.\n",
       "    this._resize_canvas(600, 600);\n",
       "\n",
       "    // Disable right mouse context menu.\n",
       "    $(this.rubberband_canvas).bind(\"contextmenu\",function(e){\n",
       "        return false;\n",
       "    });\n",
       "\n",
       "    function set_focus () {\n",
       "        canvas.focus();\n",
       "        canvas_div.focus();\n",
       "    }\n",
       "\n",
       "    window.setTimeout(set_focus, 100);\n",
       "}\n",
       "\n",
       "mpl.figure.prototype._init_toolbar = function() {\n",
       "    var fig = this;\n",
       "\n",
       "    var nav_element = $('<div/>')\n",
       "    nav_element.attr('style', 'width: 100%');\n",
       "    this.root.append(nav_element);\n",
       "\n",
       "    // Define a callback function for later on.\n",
       "    function toolbar_event(event) {\n",
       "        return fig.toolbar_button_onclick(event['data']);\n",
       "    }\n",
       "    function toolbar_mouse_event(event) {\n",
       "        return fig.toolbar_button_onmouseover(event['data']);\n",
       "    }\n",
       "\n",
       "    for(var toolbar_ind in mpl.toolbar_items) {\n",
       "        var name = mpl.toolbar_items[toolbar_ind][0];\n",
       "        var tooltip = mpl.toolbar_items[toolbar_ind][1];\n",
       "        var image = mpl.toolbar_items[toolbar_ind][2];\n",
       "        var method_name = mpl.toolbar_items[toolbar_ind][3];\n",
       "\n",
       "        if (!name) {\n",
       "            // put a spacer in here.\n",
       "            continue;\n",
       "        }\n",
       "        var button = $('<button/>');\n",
       "        button.addClass('ui-button ui-widget ui-state-default ui-corner-all ' +\n",
       "                        'ui-button-icon-only');\n",
       "        button.attr('role', 'button');\n",
       "        button.attr('aria-disabled', 'false');\n",
       "        button.click(method_name, toolbar_event);\n",
       "        button.mouseover(tooltip, toolbar_mouse_event);\n",
       "\n",
       "        var icon_img = $('<span/>');\n",
       "        icon_img.addClass('ui-button-icon-primary ui-icon');\n",
       "        icon_img.addClass(image);\n",
       "        icon_img.addClass('ui-corner-all');\n",
       "\n",
       "        var tooltip_span = $('<span/>');\n",
       "        tooltip_span.addClass('ui-button-text');\n",
       "        tooltip_span.html(tooltip);\n",
       "\n",
       "        button.append(icon_img);\n",
       "        button.append(tooltip_span);\n",
       "\n",
       "        nav_element.append(button);\n",
       "    }\n",
       "\n",
       "    var fmt_picker_span = $('<span/>');\n",
       "\n",
       "    var fmt_picker = $('<select/>');\n",
       "    fmt_picker.addClass('mpl-toolbar-option ui-widget ui-widget-content');\n",
       "    fmt_picker_span.append(fmt_picker);\n",
       "    nav_element.append(fmt_picker_span);\n",
       "    this.format_dropdown = fmt_picker[0];\n",
       "\n",
       "    for (var ind in mpl.extensions) {\n",
       "        var fmt = mpl.extensions[ind];\n",
       "        var option = $(\n",
       "            '<option/>', {selected: fmt === mpl.default_extension}).html(fmt);\n",
       "        fmt_picker.append(option)\n",
       "    }\n",
       "\n",
       "    // Add hover states to the ui-buttons\n",
       "    $( \".ui-button\" ).hover(\n",
       "        function() { $(this).addClass(\"ui-state-hover\");},\n",
       "        function() { $(this).removeClass(\"ui-state-hover\");}\n",
       "    );\n",
       "\n",
       "    var status_bar = $('<span class=\"mpl-message\"/>');\n",
       "    nav_element.append(status_bar);\n",
       "    this.message = status_bar[0];\n",
       "}\n",
       "\n",
       "mpl.figure.prototype.request_resize = function(x_pixels, y_pixels) {\n",
       "    // Request matplotlib to resize the figure. Matplotlib will then trigger a resize in the client,\n",
       "    // which will in turn request a refresh of the image.\n",
       "    this.send_message('resize', {'width': x_pixels, 'height': y_pixels});\n",
       "}\n",
       "\n",
       "mpl.figure.prototype.send_message = function(type, properties) {\n",
       "    properties['type'] = type;\n",
       "    properties['figure_id'] = this.id;\n",
       "    this.ws.send(JSON.stringify(properties));\n",
       "}\n",
       "\n",
       "mpl.figure.prototype.send_draw_message = function() {\n",
       "    if (!this.waiting) {\n",
       "        this.waiting = true;\n",
       "        this.ws.send(JSON.stringify({type: \"draw\", figure_id: this.id}));\n",
       "    }\n",
       "}\n",
       "\n",
       "\n",
       "mpl.figure.prototype.handle_save = function(fig, msg) {\n",
       "    var format_dropdown = fig.format_dropdown;\n",
       "    var format = format_dropdown.options[format_dropdown.selectedIndex].value;\n",
       "    fig.ondownload(fig, format);\n",
       "}\n",
       "\n",
       "\n",
       "mpl.figure.prototype.handle_resize = function(fig, msg) {\n",
       "    var size = msg['size'];\n",
       "    if (size[0] != fig.canvas.width || size[1] != fig.canvas.height) {\n",
       "        fig._resize_canvas(size[0], size[1]);\n",
       "        fig.send_message(\"refresh\", {});\n",
       "    };\n",
       "}\n",
       "\n",
       "mpl.figure.prototype.handle_rubberband = function(fig, msg) {\n",
       "    var x0 = msg['x0'] / mpl.ratio;\n",
       "    var y0 = (fig.canvas.height - msg['y0']) / mpl.ratio;\n",
       "    var x1 = msg['x1'] / mpl.ratio;\n",
       "    var y1 = (fig.canvas.height - msg['y1']) / mpl.ratio;\n",
       "    x0 = Math.floor(x0) + 0.5;\n",
       "    y0 = Math.floor(y0) + 0.5;\n",
       "    x1 = Math.floor(x1) + 0.5;\n",
       "    y1 = Math.floor(y1) + 0.5;\n",
       "    var min_x = Math.min(x0, x1);\n",
       "    var min_y = Math.min(y0, y1);\n",
       "    var width = Math.abs(x1 - x0);\n",
       "    var height = Math.abs(y1 - y0);\n",
       "\n",
       "    fig.rubberband_context.clearRect(\n",
       "        0, 0, fig.canvas.width, fig.canvas.height);\n",
       "\n",
       "    fig.rubberband_context.strokeRect(min_x, min_y, width, height);\n",
       "}\n",
       "\n",
       "mpl.figure.prototype.handle_figure_label = function(fig, msg) {\n",
       "    // Updates the figure title.\n",
       "    fig.header.textContent = msg['label'];\n",
       "}\n",
       "\n",
       "mpl.figure.prototype.handle_cursor = function(fig, msg) {\n",
       "    var cursor = msg['cursor'];\n",
       "    switch(cursor)\n",
       "    {\n",
       "    case 0:\n",
       "        cursor = 'pointer';\n",
       "        break;\n",
       "    case 1:\n",
       "        cursor = 'default';\n",
       "        break;\n",
       "    case 2:\n",
       "        cursor = 'crosshair';\n",
       "        break;\n",
       "    case 3:\n",
       "        cursor = 'move';\n",
       "        break;\n",
       "    }\n",
       "    fig.rubberband_canvas.style.cursor = cursor;\n",
       "}\n",
       "\n",
       "mpl.figure.prototype.handle_message = function(fig, msg) {\n",
       "    fig.message.textContent = msg['message'];\n",
       "}\n",
       "\n",
       "mpl.figure.prototype.handle_draw = function(fig, msg) {\n",
       "    // Request the server to send over a new figure.\n",
       "    fig.send_draw_message();\n",
       "}\n",
       "\n",
       "mpl.figure.prototype.handle_image_mode = function(fig, msg) {\n",
       "    fig.image_mode = msg['mode'];\n",
       "}\n",
       "\n",
       "mpl.figure.prototype.updated_canvas_event = function() {\n",
       "    // Called whenever the canvas gets updated.\n",
       "    this.send_message(\"ack\", {});\n",
       "}\n",
       "\n",
       "// A function to construct a web socket function for onmessage handling.\n",
       "// Called in the figure constructor.\n",
       "mpl.figure.prototype._make_on_message_function = function(fig) {\n",
       "    return function socket_on_message(evt) {\n",
       "        if (evt.data instanceof Blob) {\n",
       "            /* FIXME: We get \"Resource interpreted as Image but\n",
       "             * transferred with MIME type text/plain:\" errors on\n",
       "             * Chrome.  But how to set the MIME type?  It doesn't seem\n",
       "             * to be part of the websocket stream */\n",
       "            evt.data.type = \"image/png\";\n",
       "\n",
       "            /* Free the memory for the previous frames */\n",
       "            if (fig.imageObj.src) {\n",
       "                (window.URL || window.webkitURL).revokeObjectURL(\n",
       "                    fig.imageObj.src);\n",
       "            }\n",
       "\n",
       "            fig.imageObj.src = (window.URL || window.webkitURL).createObjectURL(\n",
       "                evt.data);\n",
       "            fig.updated_canvas_event();\n",
       "            fig.waiting = false;\n",
       "            return;\n",
       "        }\n",
       "        else if (typeof evt.data === 'string' && evt.data.slice(0, 21) == \"data:image/png;base64\") {\n",
       "            fig.imageObj.src = evt.data;\n",
       "            fig.updated_canvas_event();\n",
       "            fig.waiting = false;\n",
       "            return;\n",
       "        }\n",
       "\n",
       "        var msg = JSON.parse(evt.data);\n",
       "        var msg_type = msg['type'];\n",
       "\n",
       "        // Call the  \"handle_{type}\" callback, which takes\n",
       "        // the figure and JSON message as its only arguments.\n",
       "        try {\n",
       "            var callback = fig[\"handle_\" + msg_type];\n",
       "        } catch (e) {\n",
       "            console.log(\"No handler for the '\" + msg_type + \"' message type: \", msg);\n",
       "            return;\n",
       "        }\n",
       "\n",
       "        if (callback) {\n",
       "            try {\n",
       "                // console.log(\"Handling '\" + msg_type + \"' message: \", msg);\n",
       "                callback(fig, msg);\n",
       "            } catch (e) {\n",
       "                console.log(\"Exception inside the 'handler_\" + msg_type + \"' callback:\", e, e.stack, msg);\n",
       "            }\n",
       "        }\n",
       "    };\n",
       "}\n",
       "\n",
       "// from http://stackoverflow.com/questions/1114465/getting-mouse-location-in-canvas\n",
       "mpl.findpos = function(e) {\n",
       "    //this section is from http://www.quirksmode.org/js/events_properties.html\n",
       "    var targ;\n",
       "    if (!e)\n",
       "        e = window.event;\n",
       "    if (e.target)\n",
       "        targ = e.target;\n",
       "    else if (e.srcElement)\n",
       "        targ = e.srcElement;\n",
       "    if (targ.nodeType == 3) // defeat Safari bug\n",
       "        targ = targ.parentNode;\n",
       "\n",
       "    // jQuery normalizes the pageX and pageY\n",
       "    // pageX,Y are the mouse positions relative to the document\n",
       "    // offset() returns the position of the element relative to the document\n",
       "    var x = e.pageX - $(targ).offset().left;\n",
       "    var y = e.pageY - $(targ).offset().top;\n",
       "\n",
       "    return {\"x\": x, \"y\": y};\n",
       "};\n",
       "\n",
       "/*\n",
       " * return a copy of an object with only non-object keys\n",
       " * we need this to avoid circular references\n",
       " * http://stackoverflow.com/a/24161582/3208463\n",
       " */\n",
       "function simpleKeys (original) {\n",
       "  return Object.keys(original).reduce(function (obj, key) {\n",
       "    if (typeof original[key] !== 'object')\n",
       "        obj[key] = original[key]\n",
       "    return obj;\n",
       "  }, {});\n",
       "}\n",
       "\n",
       "mpl.figure.prototype.mouse_event = function(event, name) {\n",
       "    var canvas_pos = mpl.findpos(event)\n",
       "\n",
       "    if (name === 'button_press')\n",
       "    {\n",
       "        this.canvas.focus();\n",
       "        this.canvas_div.focus();\n",
       "    }\n",
       "\n",
       "    var x = canvas_pos.x * mpl.ratio;\n",
       "    var y = canvas_pos.y * mpl.ratio;\n",
       "\n",
       "    this.send_message(name, {x: x, y: y, button: event.button,\n",
       "                             step: event.step,\n",
       "                             guiEvent: simpleKeys(event)});\n",
       "\n",
       "    /* This prevents the web browser from automatically changing to\n",
       "     * the text insertion cursor when the button is pressed.  We want\n",
       "     * to control all of the cursor setting manually through the\n",
       "     * 'cursor' event from matplotlib */\n",
       "    event.preventDefault();\n",
       "    return false;\n",
       "}\n",
       "\n",
       "mpl.figure.prototype._key_event_extra = function(event, name) {\n",
       "    // Handle any extra behaviour associated with a key event\n",
       "}\n",
       "\n",
       "mpl.figure.prototype.key_event = function(event, name) {\n",
       "\n",
       "    // Prevent repeat events\n",
       "    if (name == 'key_press')\n",
       "    {\n",
       "        if (event.which === this._key)\n",
       "            return;\n",
       "        else\n",
       "            this._key = event.which;\n",
       "    }\n",
       "    if (name == 'key_release')\n",
       "        this._key = null;\n",
       "\n",
       "    var value = '';\n",
       "    if (event.ctrlKey && event.which != 17)\n",
       "        value += \"ctrl+\";\n",
       "    if (event.altKey && event.which != 18)\n",
       "        value += \"alt+\";\n",
       "    if (event.shiftKey && event.which != 16)\n",
       "        value += \"shift+\";\n",
       "\n",
       "    value += 'k';\n",
       "    value += event.which.toString();\n",
       "\n",
       "    this._key_event_extra(event, name);\n",
       "\n",
       "    this.send_message(name, {key: value,\n",
       "                             guiEvent: simpleKeys(event)});\n",
       "    return false;\n",
       "}\n",
       "\n",
       "mpl.figure.prototype.toolbar_button_onclick = function(name) {\n",
       "    if (name == 'download') {\n",
       "        this.handle_save(this, null);\n",
       "    } else {\n",
       "        this.send_message(\"toolbar_button\", {name: name});\n",
       "    }\n",
       "};\n",
       "\n",
       "mpl.figure.prototype.toolbar_button_onmouseover = function(tooltip) {\n",
       "    this.message.textContent = tooltip;\n",
       "};\n",
       "mpl.toolbar_items = [[\"Home\", \"Reset original view\", \"fa fa-home icon-home\", \"home\"], [\"Back\", \"Back to  previous view\", \"fa fa-arrow-left icon-arrow-left\", \"back\"], [\"Forward\", \"Forward to next view\", \"fa fa-arrow-right icon-arrow-right\", \"forward\"], [\"\", \"\", \"\", \"\"], [\"Pan\", \"Pan axes with left mouse, zoom with right\", \"fa fa-arrows icon-move\", \"pan\"], [\"Zoom\", \"Zoom to rectangle\", \"fa fa-square-o icon-check-empty\", \"zoom\"], [\"\", \"\", \"\", \"\"], [\"Download\", \"Download plot\", \"fa fa-floppy-o icon-save\", \"download\"]];\n",
       "\n",
       "mpl.extensions = [\"eps\", \"jpeg\", \"pdf\", \"png\", \"ps\", \"raw\", \"svg\", \"tif\"];\n",
       "\n",
       "mpl.default_extension = \"png\";var comm_websocket_adapter = function(comm) {\n",
       "    // Create a \"websocket\"-like object which calls the given IPython comm\n",
       "    // object with the appropriate methods. Currently this is a non binary\n",
       "    // socket, so there is still some room for performance tuning.\n",
       "    var ws = {};\n",
       "\n",
       "    ws.close = function() {\n",
       "        comm.close()\n",
       "    };\n",
       "    ws.send = function(m) {\n",
       "        //console.log('sending', m);\n",
       "        comm.send(m);\n",
       "    };\n",
       "    // Register the callback with on_msg.\n",
       "    comm.on_msg(function(msg) {\n",
       "        //console.log('receiving', msg['content']['data'], msg);\n",
       "        // Pass the mpl event to the overridden (by mpl) onmessage function.\n",
       "        ws.onmessage(msg['content']['data'])\n",
       "    });\n",
       "    return ws;\n",
       "}\n",
       "\n",
       "mpl.mpl_figure_comm = function(comm, msg) {\n",
       "    // This is the function which gets called when the mpl process\n",
       "    // starts-up an IPython Comm through the \"matplotlib\" channel.\n",
       "\n",
       "    var id = msg.content.data.id;\n",
       "    // Get hold of the div created by the display call when the Comm\n",
       "    // socket was opened in Python.\n",
       "    var element = $(\"#\" + id);\n",
       "    var ws_proxy = comm_websocket_adapter(comm)\n",
       "\n",
       "    function ondownload(figure, format) {\n",
       "        window.open(figure.imageObj.src);\n",
       "    }\n",
       "\n",
       "    var fig = new mpl.figure(id, ws_proxy,\n",
       "                           ondownload,\n",
       "                           element.get(0));\n",
       "\n",
       "    // Call onopen now - mpl needs it, as it is assuming we've passed it a real\n",
       "    // web socket which is closed, not our websocket->open comm proxy.\n",
       "    ws_proxy.onopen();\n",
       "\n",
       "    fig.parent_element = element.get(0);\n",
       "    fig.cell_info = mpl.find_output_cell(\"<div id='\" + id + \"'></div>\");\n",
       "    if (!fig.cell_info) {\n",
       "        console.error(\"Failed to find cell for figure\", id, fig);\n",
       "        return;\n",
       "    }\n",
       "\n",
       "    var output_index = fig.cell_info[2]\n",
       "    var cell = fig.cell_info[0];\n",
       "\n",
       "};\n",
       "\n",
       "mpl.figure.prototype.handle_close = function(fig, msg) {\n",
       "    var width = fig.canvas.width/mpl.ratio\n",
       "    fig.root.unbind('remove')\n",
       "\n",
       "    // Update the output cell to use the data from the current canvas.\n",
       "    fig.push_to_output();\n",
       "    var dataURL = fig.canvas.toDataURL();\n",
       "    // Re-enable the keyboard manager in IPython - without this line, in FF,\n",
       "    // the notebook keyboard shortcuts fail.\n",
       "    IPython.keyboard_manager.enable()\n",
       "    $(fig.parent_element).html('<img src=\"' + dataURL + '\" width=\"' + width + '\">');\n",
       "    fig.close_ws(fig, msg);\n",
       "}\n",
       "\n",
       "mpl.figure.prototype.close_ws = function(fig, msg){\n",
       "    fig.send_message('closing', msg);\n",
       "    // fig.ws.close()\n",
       "}\n",
       "\n",
       "mpl.figure.prototype.push_to_output = function(remove_interactive) {\n",
       "    // Turn the data on the canvas into data in the output cell.\n",
       "    var width = this.canvas.width/mpl.ratio\n",
       "    var dataURL = this.canvas.toDataURL();\n",
       "    this.cell_info[1]['text/html'] = '<img src=\"' + dataURL + '\" width=\"' + width + '\">';\n",
       "}\n",
       "\n",
       "mpl.figure.prototype.updated_canvas_event = function() {\n",
       "    // Tell IPython that the notebook contents must change.\n",
       "    IPython.notebook.set_dirty(true);\n",
       "    this.send_message(\"ack\", {});\n",
       "    var fig = this;\n",
       "    // Wait a second, then push the new image to the DOM so\n",
       "    // that it is saved nicely (might be nice to debounce this).\n",
       "    setTimeout(function () { fig.push_to_output() }, 1000);\n",
       "}\n",
       "\n",
       "mpl.figure.prototype._init_toolbar = function() {\n",
       "    var fig = this;\n",
       "\n",
       "    var nav_element = $('<div/>')\n",
       "    nav_element.attr('style', 'width: 100%');\n",
       "    this.root.append(nav_element);\n",
       "\n",
       "    // Define a callback function for later on.\n",
       "    function toolbar_event(event) {\n",
       "        return fig.toolbar_button_onclick(event['data']);\n",
       "    }\n",
       "    function toolbar_mouse_event(event) {\n",
       "        return fig.toolbar_button_onmouseover(event['data']);\n",
       "    }\n",
       "\n",
       "    for(var toolbar_ind in mpl.toolbar_items){\n",
       "        var name = mpl.toolbar_items[toolbar_ind][0];\n",
       "        var tooltip = mpl.toolbar_items[toolbar_ind][1];\n",
       "        var image = mpl.toolbar_items[toolbar_ind][2];\n",
       "        var method_name = mpl.toolbar_items[toolbar_ind][3];\n",
       "\n",
       "        if (!name) { continue; };\n",
       "\n",
       "        var button = $('<button class=\"btn btn-default\" href=\"#\" title=\"' + name + '\"><i class=\"fa ' + image + ' fa-lg\"></i></button>');\n",
       "        button.click(method_name, toolbar_event);\n",
       "        button.mouseover(tooltip, toolbar_mouse_event);\n",
       "        nav_element.append(button);\n",
       "    }\n",
       "\n",
       "    // Add the status bar.\n",
       "    var status_bar = $('<span class=\"mpl-message\" style=\"text-align:right; float: right;\"/>');\n",
       "    nav_element.append(status_bar);\n",
       "    this.message = status_bar[0];\n",
       "\n",
       "    // Add the close button to the window.\n",
       "    var buttongrp = $('<div class=\"btn-group inline pull-right\"></div>');\n",
       "    var button = $('<button class=\"btn btn-mini btn-primary\" href=\"#\" title=\"Stop Interaction\"><i class=\"fa fa-power-off icon-remove icon-large\"></i></button>');\n",
       "    button.click(function (evt) { fig.handle_close(fig, {}); } );\n",
       "    button.mouseover('Stop Interaction', toolbar_mouse_event);\n",
       "    buttongrp.append(button);\n",
       "    var titlebar = this.root.find($('.ui-dialog-titlebar'));\n",
       "    titlebar.prepend(buttongrp);\n",
       "}\n",
       "\n",
       "mpl.figure.prototype._root_extra_style = function(el){\n",
       "    var fig = this\n",
       "    el.on(\"remove\", function(){\n",
       "\tfig.close_ws(fig, {});\n",
       "    });\n",
       "}\n",
       "\n",
       "mpl.figure.prototype._canvas_extra_style = function(el){\n",
       "    // this is important to make the div 'focusable\n",
       "    el.attr('tabindex', 0)\n",
       "    // reach out to IPython and tell the keyboard manager to turn it's self\n",
       "    // off when our div gets focus\n",
       "\n",
       "    // location in version 3\n",
       "    if (IPython.notebook.keyboard_manager) {\n",
       "        IPython.notebook.keyboard_manager.register_events(el);\n",
       "    }\n",
       "    else {\n",
       "        // location in version 2\n",
       "        IPython.keyboard_manager.register_events(el);\n",
       "    }\n",
       "\n",
       "}\n",
       "\n",
       "mpl.figure.prototype._key_event_extra = function(event, name) {\n",
       "    var manager = IPython.notebook.keyboard_manager;\n",
       "    if (!manager)\n",
       "        manager = IPython.keyboard_manager;\n",
       "\n",
       "    // Check for shift+enter\n",
       "    if (event.shiftKey && event.which == 13) {\n",
       "        this.canvas_div.blur();\n",
       "        event.shiftKey = false;\n",
       "        // Send a \"J\" for go to next cell\n",
       "        event.which = 74;\n",
       "        event.keyCode = 74;\n",
       "        manager.command_mode();\n",
       "        manager.handle_keydown(event);\n",
       "    }\n",
       "}\n",
       "\n",
       "mpl.figure.prototype.handle_save = function(fig, msg) {\n",
       "    fig.ondownload(fig, null);\n",
       "}\n",
       "\n",
       "\n",
       "mpl.find_output_cell = function(html_output) {\n",
       "    // Return the cell and output element which can be found *uniquely* in the notebook.\n",
       "    // Note - this is a bit hacky, but it is done because the \"notebook_saving.Notebook\"\n",
       "    // IPython event is triggered only after the cells have been serialised, which for\n",
       "    // our purposes (turning an active figure into a static one), is too late.\n",
       "    var cells = IPython.notebook.get_cells();\n",
       "    var ncells = cells.length;\n",
       "    for (var i=0; i<ncells; i++) {\n",
       "        var cell = cells[i];\n",
       "        if (cell.cell_type === 'code'){\n",
       "            for (var j=0; j<cell.output_area.outputs.length; j++) {\n",
       "                var data = cell.output_area.outputs[j];\n",
       "                if (data.data) {\n",
       "                    // IPython >= 3 moved mimebundle to data attribute of output\n",
       "                    data = data.data;\n",
       "                }\n",
       "                if (data['text/html'] == html_output) {\n",
       "                    return [cell, data, j];\n",
       "                }\n",
       "            }\n",
       "        }\n",
       "    }\n",
       "}\n",
       "\n",
       "// Register the function which deals with the matplotlib target/channel.\n",
       "// The kernel may be null if the page has been refreshed.\n",
       "if (IPython.notebook.kernel != null) {\n",
       "    IPython.notebook.kernel.comm_manager.register_target('matplotlib', mpl.mpl_figure_comm);\n",
       "}\n"
      ],
      "text/plain": [
       "<IPython.core.display.Javascript object>"
      ]
     },
     "metadata": {},
     "output_type": "display_data"
    },
    {
     "data": {
      "text/html": [
       "<img src=\"data:image/png;base64,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\" width=\"431.818172458775\">"
      ],
      "text/plain": [
       "<IPython.core.display.HTML object>"
      ]
     },
     "metadata": {},
     "output_type": "display_data"
    }
   ],
   "source": [
    "%matplotlib nbagg\n",
    "plt.plot(Lasso01.coef_, 's', label=\"Lasso регрессия alpha=0.1\")\n",
    "plt.plot(Lasso1.coef_, '^', label=\"Lasso регрессия alpha=1\")\n",
    "plt.plot(Lasso10.coef_, 'v', label=\"Lasso регрессия alpha=10\")\n",
    "\n",
    "plt.plot(LR.coef_, 'o', label=\"Линейная регрессия\")\n",
    "\n",
    "plt.xlabel(\"Индекс коэфициента\")\n",
    "plt.ylabel('величина коэфициента')\n",
    "plt.hlines(0,0,len(LR.coef_))\n",
    "plt.legend();"
   ]
  },
  {
   "cell_type": "code",
   "execution_count": 102,
   "metadata": {},
   "outputs": [],
   "source": [
    "import mglearn\n",
    "import numpy as np"
   ]
  },
  {
   "cell_type": "code",
   "execution_count": 105,
   "metadata": {},
   "outputs": [
    {
     "data": {
      "image/png": "[encoded data removed]",
      "text/plain": [
       "<Figure size 432x288 with 1 Axes>"
      ]
     },
     "metadata": {
      "needs_background": "light"
     },
     "output_type": "display_data"
    }
   ],
   "source": [
    "%matplotlib inline\n",
    "mglearn.plots.plot_ridge_n_samples() #load_bostan"
   ]
  },
  {
   "cell_type": "code",
   "execution_count": 106,
   "metadata": {},
   "outputs": [],
   "source": [
    "from math import cos"
   ]
  },
  {
   "cell_type": "code",
   "execution_count": 107,
   "metadata": {},
   "outputs": [
    {
     "data": {
      "image/png": "[encoded data removed]",
      "text/plain": [
       "<Figure size 432x288 with 1 Axes>"
      ]
     },
     "metadata": {
      "needs_background": "light"
     },
     "output_type": "display_data"
    }
   ],
   "source": [
    "xs = np.linspace(-10,10,100)\n",
    "ys = np.array([cos(i) for i in xs])\n",
    "plt.plot(xs,ys);"
   ]
  },
  {
   "cell_type": "code",
   "execution_count": 108,
   "metadata": {},
   "outputs": [],
   "source": [
    "from ipywidgets import interact, RadioButtons, IntSlider, FloatSlider, Dropdown, BoundedFloatText"
   ]
  },
  {
   "cell_type": "code",
   "execution_count": 109,
   "metadata": {},
   "outputs": [
    {
     "data": {
      "application/vnd.jupyter.widget-view+json": {
       "model_id": "c5cc7d2fdada448abab0a9f48176d584",
       "version_major": 2,
       "version_minor": 0
      },
      "text/plain": [
       "interactive(children=(IntSlider(value=2, continuous_update=False, description='count_polinom', max=30, min=2),…"
      ]
     },
     "metadata": {},
     "output_type": "display_data"
    }
   ],
   "source": [
    "%matplotlib inline\n",
    "@interact(count_polinom = IntSlider(min=2, max=30, value=2,continuous_update=False),\n",
    "          alpha = FloatSlider(min=0.001, max=60, value=1, continuous_update=False))\n",
    "def studycos(count_polinom, alpha):\n",
    "    X = np.vstack([(xs**i).reshape((1, -1)) for i in range(1, count_polinom+1)]).T\n",
    "    LR = LinearRegression().fit(X, ys)\n",
    "    Lasso_ = Lasso(alpha=alpha).fit(X, ys)\n",
    "    Ridge_ = Ridge(alpha=alpha).fit(X, ys)\n",
    "    plt.plot(xs, LR.predict(X), label=\"LinearRegression\")\n",
    "    plt.plot(xs, Lasso_.predict(X), label=\"Lasso\")\n",
    "    plt.plot(xs, Ridge_.predict(X), label=\"Ridge\")\n",
    "    plt.legend()\n",
    "    plt.grid(True)\n",
    "    plt.show()"
   ]
  },
  {
   "cell_type": "code",
   "execution_count": null,
   "metadata": {},
   "outputs": [],
   "source": []
  }
 ],
 "metadata": {
  "kernelspec": {
   "display_name": "Python 3",
   "language": "python",
   "name": "python3"
  },
  "language_info": {
   "codemirror_mode": {
    "name": "ipython",
    "version": 3
   },
   "file_extension": ".py",
   "mimetype": "text/x-python",
   "name": "python",
   "nbconvert_exporter": "python",
   "pygments_lexer": "ipython3",
   "version": "3.7.3"
  }
 },
 "nbformat": 4,
 "nbformat_minor": 2
}

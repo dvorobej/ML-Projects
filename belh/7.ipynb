{
 "cells": [
  {
   "cell_type": "code",
   "execution_count": 1,
   "metadata": {},
   "outputs": [],
   "source": [
    "import pandas as pd\n",
    "from os import listdir\n",
    "from collections import defaultdict, Counter\n",
    "from tqdm import tqdm\n",
    "import re"
   ]
  },
  {
   "cell_type": "code",
   "execution_count": 2,
   "metadata": {},
   "outputs": [],
   "source": [
    "texttr_pos = listdir('./aclImdb/train/pos/')"
   ]
  },
  {
   "cell_type": "code",
   "execution_count": 3,
   "metadata": {},
   "outputs": [],
   "source": [
    "texttr_neg = listdir('./aclImdb/train/neg/')"
   ]
  },
  {
   "cell_type": "code",
   "execution_count": 4,
   "metadata": {},
   "outputs": [
    {
     "name": "stderr",
     "output_type": "stream",
     "text": [
      "100%|███████████████████████████████████████████████████████████████████████████| 12500/12500 [00:58<00:00, 212.38it/s]\n",
      "100%|███████████████████████████████████████████████████████████████████████████| 12500/12500 [00:41<00:00, 298.84it/s]\n"
     ]
    }
   ],
   "source": [
    "response = defaultdict(list)\n",
    "v_dict = defaultdict(lambda : 0)\n",
    "\n",
    "error_files = []\n",
    "for filename in tqdm(texttr_pos):\n",
    "    with open('./aclImdb/train/pos/' + filename) as file:\n",
    "        try:\n",
    "            content = \" \".join(re.findall('\\w+', file.read().lower()))\n",
    "            for word in content.split():\n",
    "                v_dict[word] += 1\n",
    "            response['feedback'].append(content)\n",
    "            response['flag'].append(True)\n",
    "        except:\n",
    "            error_files.append(filename)\n",
    "\n",
    "for filename in tqdm(texttr_neg):\n",
    "    with open('./aclImdb/train/neg/' + filename) as file:\n",
    "        try:\n",
    "            content = \" \".join(re.findall('\\w+', file.read().lower()))\n",
    "            for word in content.split():\n",
    "                v_dict[word] += 1\n",
    "            response['feedback'].append(content)\n",
    "            response['flag'].append(False)\n",
    "        except:\n",
    "            error_files.append(filename)"
   ]
  },
  {
   "cell_type": "code",
   "execution_count": 11,
   "metadata": {},
   "outputs": [],
   "source": [
    "dellwords = [i[0] for i in v_dict.items() if i[1] < 25]"
   ]
  },
  {
   "cell_type": "code",
   "execution_count": 12,
   "metadata": {},
   "outputs": [],
   "source": [
    "data_train = pd.DataFrame(data=response)"
   ]
  },
  {
   "cell_type": "code",
   "execution_count": 13,
   "metadata": {},
   "outputs": [
    {
     "data": {
      "text/plain": [
       "24994"
      ]
     },
     "execution_count": 13,
     "metadata": {},
     "output_type": "execute_result"
    }
   ],
   "source": [
    "len(data_train)"
   ]
  },
  {
   "cell_type": "code",
   "execution_count": 14,
   "metadata": {},
   "outputs": [
    {
     "name": "stderr",
     "output_type": "stream",
     "text": [
      "100%|██████████████████████████████████████████████████████████████████████████| 24994/24994 [00:04<00:00, 5390.98it/s]\n"
     ]
    }
   ],
   "source": [
    "uniq_word = set()\n",
    "for dat in tqdm(data_train['feedback']):\n",
    "    for word in dat.split():\n",
    "        uniq_word.add(word)"
   ]
  },
  {
   "cell_type": "code",
   "execution_count": 15,
   "metadata": {},
   "outputs": [],
   "source": [
    "for word in dellwords:\n",
    "    uniq_word.remove(word)"
   ]
  },
  {
   "cell_type": "code",
   "execution_count": 16,
   "metadata": {},
   "outputs": [
    {
     "data": {
      "text/plain": [
       "11565"
      ]
     },
     "execution_count": 16,
     "metadata": {},
     "output_type": "execute_result"
    }
   ],
   "source": [
    "len(uniq_word)"
   ]
  },
  {
   "cell_type": "code",
   "execution_count": 17,
   "metadata": {},
   "outputs": [],
   "source": [
    "uniq_word_list = list(uniq_word)"
   ]
  },
  {
   "cell_type": "code",
   "execution_count": 18,
   "metadata": {},
   "outputs": [],
   "source": [
    "word2index = {key:value for value, key in enumerate(uniq_word)}"
   ]
  },
  {
   "cell_type": "code",
   "execution_count": 19,
   "metadata": {},
   "outputs": [
    {
     "name": "stderr",
     "output_type": "stream",
     "text": [
      "100%|███████████████████████████████████████████████████████████████████████████| 24994/24994 [03:54<00:00, 106.73it/s]\n"
     ]
    }
   ],
   "source": [
    "l = len(uniq_word)\n",
    "for  dat in tqdm(data_train['feedback']):\n",
    "    counter = Counter(dat.split())\n",
    "    row = [counter[uniq_word_list[i]] if uniq_word_list[i] in counter else 0 for i in range(l)]\n",
    "    response['predate'].append(row)"
   ]
  },
  {
   "cell_type": "code",
   "execution_count": 20,
   "metadata": {},
   "outputs": [],
   "source": [
    "data_train = pd.DataFrame(data=response)"
   ]
  },
  {
   "cell_type": "code",
   "execution_count": 21,
   "metadata": {},
   "outputs": [],
   "source": [
    "data_train.to_csv('pain.csv')"
   ]
  },
  {
   "cell_type": "code",
   "execution_count": 23,
   "metadata": {},
   "outputs": [],
   "source": [
    "from sklearn.model_selection import train_test_split\n",
    "from sklearn.linear_model import LogisticRegression"
   ]
  },
  {
   "cell_type": "code",
   "execution_count": 50,
   "metadata": {},
   "outputs": [],
   "source": [
    "x_train,x_test,y_train,y_test = train_test_split(data_train['predate'], data_train['flag'])"
   ]
  },
  {
   "cell_type": "code",
   "execution_count": 51,
   "metadata": {},
   "outputs": [],
   "source": [
    "model = LogisticRegression()"
   ]
  },
  {
   "cell_type": "code",
   "execution_count": 52,
   "metadata": {},
   "outputs": [],
   "source": [
    "y_train = [1 if i else 0 for i in y_train]"
   ]
  },
  {
   "cell_type": "code",
   "execution_count": 53,
   "metadata": {},
   "outputs": [],
   "source": [
    "import numpy as np"
   ]
  },
  {
   "cell_type": "code",
   "execution_count": 54,
   "metadata": {},
   "outputs": [],
   "source": [
    "x_train = np.array([np.array(i) for i in x_train])"
   ]
  },
  {
   "cell_type": "code",
   "execution_count": 55,
   "metadata": {},
   "outputs": [
    {
     "data": {
      "text/plain": [
       "(18745, 11565)"
      ]
     },
     "execution_count": 55,
     "metadata": {},
     "output_type": "execute_result"
    }
   ],
   "source": [
    "x_train.shape"
   ]
  },
  {
   "cell_type": "code",
   "execution_count": 56,
   "metadata": {},
   "outputs": [
    {
     "name": "stderr",
     "output_type": "stream",
     "text": [
      "C:\\ProgramData\\Anaconda3\\lib\\site-packages\\sklearn\\linear_model\\logistic.py:433: FutureWarning: Default solver will be changed to 'lbfgs' in 0.22. Specify a solver to silence this warning.\n",
      "  FutureWarning)\n"
     ]
    },
    {
     "data": {
      "text/plain": [
       "LogisticRegression(C=1.0, class_weight=None, dual=False, fit_intercept=True,\n",
       "          intercept_scaling=1, max_iter=100, multi_class='warn',\n",
       "          n_jobs=None, penalty='l2', random_state=None, solver='warn',\n",
       "          tol=0.0001, verbose=0, warm_start=False)"
      ]
     },
     "execution_count": 56,
     "metadata": {},
     "output_type": "execute_result"
    }
   ],
   "source": [
    "model.fit(x_train, y_train, verbose=True)"
   ]
  },
  {
   "cell_type": "code",
   "execution_count": 57,
   "metadata": {},
   "outputs": [],
   "source": [
    "x_test = np.array([np.array(i) for i in x_test])"
   ]
  },
  {
   "cell_type": "code",
   "execution_count": 58,
   "metadata": {},
   "outputs": [],
   "source": [
    "y_test = [1 if i else 0 for i in y_test]"
   ]
  },
  {
   "cell_type": "code",
   "execution_count": 59,
   "metadata": {},
   "outputs": [
    {
     "data": {
      "text/plain": [
       "0.8724595935349656"
      ]
     },
     "execution_count": 59,
     "metadata": {},
     "output_type": "execute_result"
    }
   ],
   "source": [
    "model.score(x_test,y_test)"
   ]
  },
  {
   "cell_type": "code",
   "execution_count": 62,
   "metadata": {},
   "outputs": [],
   "source": [
    "import pickle"
   ]
  },
  {
   "cell_type": "code",
   "execution_count": 67,
   "metadata": {},
   "outputs": [],
   "source": [
    "file = open('model', 'wb')\n",
    "pickle.dump(model, file)\n",
    "file.close()"
   ]
  },
  {
   "cell_type": "code",
   "execution_count": 79,
   "metadata": {},
   "outputs": [
    {
     "name": "stdout",
     "output_type": "stream",
     "text": [
      "enter the messageThis was a decent movie for the first half. Too many cheap BOO! moments but the tension builds, the bad guys are creepy and everything seems to be setting itself up nicely. The kids are not particularly deep but hey, that works for teens. <br /><br />Then it just gets ridiculous and tries way too hard- the \"why in the world would he/they do that?\" moments overwhelm anyone's capacity for suspension of disbelief, the twist involves too many ridiculous coincidences, and the title comes from a late attempt to philosophize some meaning into the film that goes nowhere and is quickly dropped. There was laughter in the theater at moments that were in no way supposed to be funny. <br /><br />Great premise but just badly written and doesn't hold together. Some very nice shots but they're hard to enjoy while you're rolling your eyes.\n",
      "neg\n"
     ]
    }
   ],
   "source": [
    "dd = \" \".join(re.findall('\\w+', input('enter the message').lower()))\n",
    "counter = Counter(dd.split())\n",
    "row = [counter[uniq_word_list[i]] if uniq_word_list[i] in counter else 0 for i in range(l)]\n",
    "\n",
    "if model.predict(np.array(row).reshape((1, -1)))[0]:\n",
    "    print('pos')\n",
    "else:\n",
    "    print('neg')"
   ]
  }
 ],
 "metadata": {
  "kernelspec": {
   "display_name": "Python 3",
   "language": "python",
   "name": "python3"
  },
  "language_info": {
   "codemirror_mode": {
    "name": "ipython",
    "version": 3
   },
   "file_extension": ".py",
   "mimetype": "text/x-python",
   "name": "python",
   "nbconvert_exporter": "python",
   "pygments_lexer": "ipython3",
   "version": "3.7.3"
  }
 },
 "nbformat": 4,
 "nbformat_minor": 2
}

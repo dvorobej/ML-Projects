{
 "cells": [
  {
   "cell_type": "code",
   "execution_count": null,
   "metadata": {},
   "outputs": [],
   "source": []
  },
  {
   "cell_type": "markdown",
   "metadata": {},
   "source": [
    "[upscale1](https://letsenhance.io/ru/boost)"
   ]
  },
  {
   "cell_type": "markdown",
   "metadata": {},
   "source": [
    "[upscale2](http://bigjpg.com/)"
   ]
  },
  {
   "cell_type": "markdown",
   "metadata": {},
   "source": [
    "Поможет раскрыть преступление))"
   ]
  },
  {
   "cell_type": "markdown",
   "metadata": {},
   "source": [
    "[removebg](https://www.remove.bg/)"
   ]
  },
  {
   "cell_type": "markdown",
   "metadata": {},
   "source": [
    "Удаления BG на фото"
   ]
  },
  {
   "cell_type": "markdown",
   "metadata": {},
   "source": [
    "[anime](https://make.girls.moe/#/)"
   ]
  },
  {
   "cell_type": "markdown",
   "metadata": {},
   "source": [
    "гинерация анимэ лиц"
   ]
  },
  {
   "cell_type": "markdown",
   "metadata": {},
   "source": [
    "[fortnight in pubg](https://www.youtube.com/watch?v=xkLtgwWxrec)"
   ]
  },
  {
   "cell_type": "markdown",
   "metadata": {},
   "source": [
    "[статья про fortnight&pubg на русском](https://neurohive.io/ru/vidy-nejrosetej/cyclegan/)"
   ]
  },
  {
   "cell_type": "markdown",
   "metadata": {},
   "source": [
    "[место для обучения своего агента](https://gym.openai.com/)"
   ]
  },
  {
   "cell_type": "markdown",
   "metadata": {},
   "source": [
    "набор виртуадьных миров где можно обучить своею модель"
   ]
  },
  {
   "cell_type": "markdown",
   "metadata": {},
   "source": [
    "[AI in game](https://www.youtube.com/watch?v=bqsfkGbBU6k)"
   ]
  },
  {
   "cell_type": "markdown",
   "metadata": {},
   "source": [
    "использование ИИ в unity"
   ]
  },
  {
   "cell_type": "markdown",
   "metadata": {},
   "source": [
    "[кухонный помощник](https://bridge.ai/kitchen/)"
   ]
  },
  {
   "cell_type": "markdown",
   "metadata": {},
   "source": [
    "Bridge Kitchen дает вам пошаговые инструкции для кухни - и она достаточно умна, чтобы отвечать на вопросы по пути."
   ]
  },
  {
   "cell_type": "markdown",
   "metadata": {},
   "source": [
    "[удостоверение личности по стилю письма и др](https://unify.id/use-cases/)"
   ]
  },
  {
   "cell_type": "markdown",
   "metadata": {},
   "source": [
    "[ИИ подберет вам пару](http://dating.ai/)"
   ]
  },
  {
   "cell_type": "markdown",
   "metadata": {},
   "source": [
    "есть теория что мы лучше подходим тем людям на кого мы похожи лицом"
   ]
  },
  {
   "cell_type": "markdown",
   "metadata": {},
   "source": [
    "[сервис способный подобрать развлечения на вечер](https://eezy.ai/)"
   ]
  },
  {
   "cell_type": "markdown",
   "metadata": {},
   "source": [
    "[хочешь узнать на сколько ты красивый/красивая?](http://hotness.ai/)"
   ]
  },
  {
   "cell_type": "markdown",
   "metadata": {},
   "source": [
    "[помочь решить математику школьнику](http://thirdleap.ai/)"
   ]
  },
  {
   "cell_type": "markdown",
   "metadata": {},
   "source": [
    "[подсчитать колличество каллорий по фото](https://getbitesnap.com/)"
   ]
  },
  {
   "cell_type": "markdown",
   "metadata": {},
   "source": [
    "[диагностировать храп](https://sleep.ai/)"
   ]
  },
  {
   "cell_type": "markdown",
   "metadata": {},
   "source": [
    "[голосовой помощьник с открытым исходным кодом](https://mycroft.ai/)"
   ]
  },
  {
   "cell_type": "markdown",
   "metadata": {},
   "source": [
    "[прекрасный чат бот который способен побороть стресс и прочие недуги](https://my.replika.ai/)"
   ]
  },
  {
   "cell_type": "markdown",
   "metadata": {},
   "source": [
    "[сервис для создания чат ботов](https://chatfuel.com/)"
   ]
  },
  {
   "cell_type": "markdown",
   "metadata": {},
   "source": [
    "[гинерация музыки](https://aiva.ai/)"
   ]
  },
  {
   "cell_type": "markdown",
   "metadata": {},
   "source": [
    "[помогает найти дизайнерскую одежду по фото](http://gofind.ai/)"
   ]
  },
  {
   "cell_type": "markdown",
   "metadata": {},
   "source": [
    "[создать дизайн вебсайта](https://firedrop.ai/)"
   ]
  },
  {
   "cell_type": "markdown",
   "metadata": {},
   "source": [
    "[описание того что на фото](https://www.captionbot.ai/)"
   ]
  },
  {
   "cell_type": "code",
   "execution_count": 5,
   "metadata": {},
   "outputs": [
    {
     "name": "stderr",
     "output_type": "stream",
     "text": [
      "100%|██████████████████████████████████████████████████████████████████| 50000000/50000000 [01:14<00:00, 667951.01it/s]\n"
     ]
    },
    {
     "name": "stdout",
     "output_type": "stream",
     "text": [
      "375003284\n"
     ]
    }
   ],
   "source": [
    "from tqdm import tqdm\n",
    "import random\n",
    "n=50000000\n",
    "l=sum([random.randint(5,10) for i in tqdm(range(n))])\n",
    "print(l)"
   ]
  }
 ],
 "metadata": {
  "kernelspec": {
   "display_name": "Python 3",
   "language": "python",
   "name": "python3"
  },
  "language_info": {
   "codemirror_mode": {
    "name": "ipython",
    "version": 3
   },
   "file_extension": ".py",
   "mimetype": "text/x-python",
   "name": "python",
   "nbconvert_exporter": "python",
   "pygments_lexer": "ipython3",
   "version": "3.7.3"
  }
 },
 "nbformat": 4,
 "nbformat_minor": 2
}

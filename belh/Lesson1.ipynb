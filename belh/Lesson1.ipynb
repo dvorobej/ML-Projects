{
 "cells": [
  {
   "cell_type": "code",
   "execution_count": 1,
   "metadata": {},
   "outputs": [],
   "source": [
    "import math\n",
    "def entropy(class_probabilities):\n",
    "    \"\"\"при заданном списке вероятностей классов вычеслить энтропию\"\"\"\n",
    "    return sum(-p * math.log(p, 2) for p in class_probabilities if p)"
   ]
  },
  {
   "cell_type": "code",
   "execution_count": 2,
   "metadata": {},
   "outputs": [],
   "source": [
    "from collections import Counter, defaultdict\n",
    "def class_probabilities(labels):\n",
    "    \"\"\"вероятности класов\"\"\"\n",
    "    total_count = len(labels)   #суммарное число\n",
    "    return [count / total_count for count in Counter(labels).values()]"
   ]
  },
  {
   "cell_type": "code",
   "execution_count": 3,
   "metadata": {},
   "outputs": [],
   "source": [
    "def data_entropy(labeled_data):\n",
    "    \"\"\"Энтропя маркированных данных\"\"\"\n",
    "    labels = [label for _, label in labeled_data]#({'level':'Senior','lang':'Java','tweets':'no','php':'no'},False),\n",
    "    probabilities = class_probabilities(labels)\n",
    "    return entropy(probabilities)"
   ]
  },
  {
   "cell_type": "code",
   "execution_count": 4,
   "metadata": {},
   "outputs": [],
   "source": [
    "def partition_entropy(subsets):\n",
    "    \"\"\"Найти энтропию исходя из разбиения данных на подгруппы представляющие собой\n",
    "    список списков\"\"\"\n",
    "    total_count = sum(len(subset) for subset in subsets)\n",
    "    return sum(data_entropy(subset) * len(subset) / total_count \\\n",
    "               for subset in subsets)"
   ]
  },
  {
   "cell_type": "code",
   "execution_count": 5,
   "metadata": {},
   "outputs": [],
   "source": [
    "def partition_by(inputs, attribute):\n",
    "    \"\"\"каждый элемент в inputs представляет собой пару (словарь, метка). Возвращает словарь,\n",
    "    где key = знаение атрибута\n",
    "    values = inputs\"\"\"\n",
    "    groups = defaultdict(list)\n",
    "    for input_ in inputs:\n",
    "        key = input_[0][attribute]  #взять значение атрибута и добавить\n",
    "        groups[key].append(input_)  #входящую пару к сотведствующему списку\n",
    "    return groups"
   ]
  },
  {
   "cell_type": "code",
   "execution_count": 6,
   "metadata": {},
   "outputs": [],
   "source": [
    "def partition_entropy_by(inputs, attribute):\n",
    "    \"\"\"вычеслить энтропию, соотведствующую заданаму разбиению\"\"\"\n",
    "    partitions = partition_by(inputs, attribute)\n",
    "    return partition_entropy(partitions.values())"
   ]
  },
  {
   "cell_type": "code",
   "execution_count": 7,
   "metadata": {},
   "outputs": [],
   "source": [
    "inputs = [\n",
    "    ({'level':'Senior', 'lang':'Java', 'tweets':'no', 'php':'no'}, False),\n",
    "    ({'level':'Senior', 'lang':'Java', 'tweets':'no', 'php':'yes'}, False),\n",
    "    ({'level':'Mid', 'lang':'Python', 'tweets':'no', 'php':'no'}, True),\n",
    "    ({'level':'Junior', 'lang':'Python', 'tweets':'no', 'php':'no'}, True),\n",
    "    ({'level':'Junior', 'lang':'R', 'tweets':'yes', 'php':'no'}, True),\n",
    "    ({'level':'Junior', 'lang':'R', 'tweets':'yes', 'php':'yes'}, False),\n",
    "    ({'level':'Mid', 'lang':'R', 'tweets':'yes', 'php':'yes'}, True),\n",
    "    ({'level':'Senior', 'lang':'Python', 'tweets':'no', 'php':'no'}, False),\n",
    "    ({'level':'Senior', 'lang':'R', 'tweets':'yes', 'php':'no'}, True),\n",
    "    ({'level':'Junior', 'lang':'Python', 'tweets':'yes', 'php':'no'}, True),\n",
    "    ({'level':'Senior', 'lang':'Python', 'tweets':'yes', 'php':'yes'}, True),\n",
    "    ({'level':'Mid', 'lang':'Python', 'tweets':'no', 'php':'yes'}, True),\n",
    "    ({'level':'Mid', 'lang':'Java', 'tweets':'yes', 'php':'no'}, True),\n",
    "    ({'level':'Junior', 'lang':'Python', 'tweets':'no', 'php':'yes'}, False)\n",
    "]"
   ]
  },
  {
   "cell_type": "code",
   "execution_count": 8,
   "metadata": {},
   "outputs": [
    {
     "name": "stdout",
     "output_type": "stream",
     "text": [
      "level 0.6935361388961919\n",
      "lang 0.8601317128547441\n",
      "tweets 0.7884504573082896\n",
      "php 0.8921589282623617\n"
     ]
    }
   ],
   "source": [
    "for key in ['level','lang','tweets','php']:\n",
    "    print(key, partition_entropy_by(inputs, key))"
   ]
  },
  {
   "cell_type": "code",
   "execution_count": 10,
   "metadata": {},
   "outputs": [],
   "source": [
    "senior_inputs = [(input_, label) for input_, label in inputs if input_['level'] == 'Senior']"
   ]
  },
  {
   "cell_type": "code",
   "execution_count": 11,
   "metadata": {},
   "outputs": [
    {
     "name": "stdout",
     "output_type": "stream",
     "text": [
      "lang 0.4\n",
      "tweets 0.0\n",
      "php 0.9509775004326938\n"
     ]
    }
   ],
   "source": [
    "for key in ['lang', 'tweets', 'php']:\n",
    "    print(key, partition_entropy_by(senior_inputs, key))"
   ]
  },
  {
   "cell_type": "code",
   "execution_count": 12,
   "metadata": {},
   "outputs": [],
   "source": [
    "junior_inputs = [(input_, label) for input_, label in inputs if input_['level'] == 'Junior']"
   ]
  },
  {
   "cell_type": "code",
   "execution_count": 13,
   "metadata": {},
   "outputs": [
    {
     "name": "stdout",
     "output_type": "stream",
     "text": [
      "lang 0.9509775004326938\n",
      "tweets 0.9509775004326938\n",
      "php 0.0\n"
     ]
    }
   ],
   "source": [
    "for key in ['lang', 'tweets', 'php']:\n",
    "    print(key, partition_entropy_by(junior_inputs, key))"
   ]
  },
  {
   "cell_type": "code",
   "execution_count": 15,
   "metadata": {},
   "outputs": [],
   "source": [
    "mid_inputs = [(input_, label) for input_, label in inputs if input_['level'] == 'Mid']"
   ]
  },
  {
   "cell_type": "code",
   "execution_count": 16,
   "metadata": {},
   "outputs": [
    {
     "name": "stdout",
     "output_type": "stream",
     "text": [
      "lang 0.0\n",
      "tweets 0.0\n",
      "php 0.0\n"
     ]
    }
   ],
   "source": [
    "for key in ['lang', 'tweets', 'php']:\n",
    "    print(key, partition_entropy_by(mid_inputs, key))"
   ]
  },
  {
   "cell_type": "code",
   "execution_count": 118,
   "metadata": {},
   "outputs": [],
   "source": [
    "def classify(tree, input_):\n",
    "    \"\"\"Класифицировать входящее значение, используя заданное дерево\"\"\"\n",
    "    #если это листовой узел, вернть его значение\n",
    "    if tree in [True, False]:\n",
    "        return tree\n",
    "    #иначе дерево состоит из атрибута по которому пройдет расщепление\n",
    "    #и словаря, где ключи - это значение этого атрибута, а\n",
    "    #значения - это поддеревья, подлежащие рассмотрению в следующую очередь\n",
    "    attribute, subtree_dict = tree\n",
    "    subtree_key = input_.get(attribute)  #None если на входе отсудствует атрибут\n",
    "    if subtree_key not in subtree_dict:  #если для ключа нет поддерева, использовать поддерево None\n",
    "        subtree_key = None\n",
    "    subtree = subtree_dict[subtree_key]  #выбрать соответствующее поддерево и использовать для классфикации\n",
    "    return classify(subtree, input_)"
   ]
  },
  {
   "cell_type": "code",
   "execution_count": 119,
   "metadata": {},
   "outputs": [],
   "source": [
    "from functools import partial"
   ]
  },
  {
   "cell_type": "code",
   "execution_count": 120,
   "metadata": {},
   "outputs": [],
   "source": [
    "def build_tree(inputs, split_candodates=None):\n",
    "    #если это первый проход, то\n",
    "    #все ключи первоначальных входящих данных - это выделенные претенденты\n",
    "    if split_candidates is None:\n",
    "        split_candidates = inputs[0][0].keys()\n",
    "    #подсчитать число True and False во входящих значениях\n",
    "    num_inputs = len(inputs)\n",
    "    num_trues = len([label for item, label in inputs if label])\n",
    "    num_falses = num_inputs - num_trues\n",
    "    if num_trues == 0: return False   #если True отсутствует, вернуть False\n",
    "    if num_falses == 0: return True   #если False отсутствует, вернуть True\n",
    "    if not split_candidates:          #если больше нет кандидатов, вернуть лист большинства\n",
    "        return num_trues >= num_falses\n",
    "    # в противном случае выполнить расщепление по лучшему атрибуту\n",
    "    best_attribute = min(split_candidates,\\\n",
    "                         key=partial(partition_entropy_by,inputs))\n",
    "    partitions = partition_by(inputs, best_attribute)\n",
    "    new_candidates = [a for a in split_candidates if a != best_attribute]\n",
    "    # рекурсивно создать поддерево\n",
    "    subtrees = {attribute_value : build_tree(subset, new_candidates)\\\n",
    "               for attribute_value, subset in partitions.items()}\n",
    "    subtrees[None] = num_trues > num_falses   #случай по умолчанию\n",
    "    return (best_attribute, subtrees)"
   ]
  },
  {
   "cell_type": "code",
   "execution_count": 121,
   "metadata": {},
   "outputs": [],
   "source": [
    "tree = build_tree(inputs)"
   ]
  },
  {
   "cell_type": "code",
   "execution_count": 122,
   "metadata": {},
   "outputs": [
    {
     "data": {
      "text/plain": [
       "('level',\n",
       " {'Senior': ('tweets', {'no': False, 'yes': True, None: False}),\n",
       "  'Mid': True,\n",
       "  'Junior': ('php', {'no': True, 'yes': False, None: True}),\n",
       "  None: True})"
      ]
     },
     "execution_count": 122,
     "metadata": {},
     "output_type": "execute_result"
    }
   ],
   "source": [
    "tree"
   ]
  },
  {
   "cell_type": "code",
   "execution_count": 29,
   "metadata": {},
   "outputs": [
    {
     "data": {
      "text/plain": [
       "True"
      ]
     },
     "execution_count": 29,
     "metadata": {},
     "output_type": "execute_result"
    }
   ],
   "source": [
    "classify(tree, {'level':'Junior','lang':'Java','tweets':'yes','php':'no'})"
   ]
  },
  {
   "cell_type": "code",
   "execution_count": 30,
   "metadata": {},
   "outputs": [
    {
     "data": {
      "text/plain": [
       "False"
      ]
     },
     "execution_count": 30,
     "metadata": {},
     "output_type": "execute_result"
    }
   ],
   "source": [
    "classify(tree, {'level':'Junior','lang':'Java','tweets':'yes','php':'yes'})"
   ]
  },
  {
   "cell_type": "markdown",
   "metadata": {},
   "source": [
    "For example\n",
    "==="
   ]
  },
  {
   "cell_type": "code",
   "execution_count": 3,
   "metadata": {},
   "outputs": [],
   "source": [
    "from sklearn.tree import DecisionTreeClassifier\n",
    "from sklearn.datasets import load_wine\n",
    "from sklearn.model_selection import train_test_split\n",
    "data = load_wine()"
   ]
  },
  {
   "cell_type": "code",
   "execution_count": 10,
   "metadata": {},
   "outputs": [
    {
     "name": "stdout",
     "output_type": "stream",
     "text": [
      "правильность на обучающем наборе 100.0 %\n",
      "правильность на теством наборе 88.88888888888889 %\n"
     ]
    }
   ],
   "source": [
    "x_train, x_test, y_train, y_test = train_test_split(data['data'], data['target'])\n",
    "tree = DecisionTreeClassifier(random_state=0)\n",
    "clf = tree.fit(x_train, y_train)\n",
    "print(f\"правильность на обучающем наборе {tree.score(x_train, y_train) * 100} %\")\n",
    "print(f\"правильность на теством наборе {tree.score(x_test, y_test) * 100} %\")"
   ]
  },
  {
   "cell_type": "code",
   "execution_count": 11,
   "metadata": {},
   "outputs": [
    {
     "name": "stdout",
     "output_type": "stream",
     "text": [
      "правильность на обучающем наборе 100.0 %\n",
      "правильность на теством наборе 93.33333333333333 %\n"
     ]
    }
   ],
   "source": [
    "tree = DecisionTreeClassifier(max_depth=9)\n",
    "tree.fit(x_train, y_train)\n",
    "print(f\"правильность на обучающем наборе {tree.score(x_train, y_train) * 100} %\")\n",
    "print(f\"правильность на теством наборе {tree.score(x_test, y_test) * 100} %\")"
   ]
  },
  {
   "cell_type": "markdown",
   "metadata": {},
   "source": [
    "Draw a tree\n",
    "==="
   ]
  },
  {
   "cell_type": "code",
   "execution_count": 12,
   "metadata": {},
   "outputs": [],
   "source": [
    "from sklearn.tree import export_graphviz\n",
    "import graphviz"
   ]
  },
  {
   "cell_type": "code",
   "execution_count": 13,
   "metadata": {},
   "outputs": [],
   "source": [
    "dot_data = export_graphviz(clf, out_file=None, feature_names=data['feature_names'])"
   ]
  },
  {
   "cell_type": "code",
   "execution_count": 14,
   "metadata": {
    "scrolled": false
   },
   "outputs": [],
   "source": [
    "_ = graphviz.Source(dot_data)"
   ]
  },
  {
   "cell_type": "code",
   "execution_count": 15,
   "metadata": {},
   "outputs": [],
   "source": [
    "import pydotplus\n",
    "graph = pydotplus.graph_from_dot_data(dot_data)"
   ]
  },
  {
   "cell_type": "code",
   "execution_count": 17,
   "metadata": {},
   "outputs": [
    {
     "data": {
      "text/plain": [
       "True"
      ]
     },
     "execution_count": 17,
     "metadata": {},
     "output_type": "execute_result"
    }
   ],
   "source": [
    "graph.write_pdf('graph.pdf')"
   ]
  },
  {
   "cell_type": "markdown",
   "metadata": {},
   "source": [
    "Важность признаков\n",
    "==="
   ]
  },
  {
   "cell_type": "code",
   "execution_count": 18,
   "metadata": {},
   "outputs": [
    {
     "name": "stdout",
     "output_type": "stream",
     "text": [
      "важность признаков \n",
      "[0.         0.         0.         0.02230359 0.         0.\n",
      " 0.40483891 0.         0.         0.40295666 0.         0.\n",
      " 0.16990085]\n"
     ]
    }
   ],
   "source": [
    "from matplotlib import pyplot as plt\n",
    "%matplotlib inline\n",
    "import numpy as np\n",
    "print(f'важность признаков \\n{tree.feature_importances_}')"
   ]
  },
  {
   "cell_type": "code",
   "execution_count": 42,
   "metadata": {},
   "outputs": [
    {
     "name": "stdout",
     "output_type": "stream",
     "text": [
      "alcohol                        -        0.021063\n",
      "malic_acid                     -        0.017201\n",
      "ash                            -        0.000000\n",
      "alcalinity_of_ash              -        0.000000\n",
      "magnesium                      -        0.043998\n",
      "total_phenols                  -        0.087662\n",
      "flavanoids                     -        0.084413\n",
      "nonflavanoid_phenols           -        0.000000\n",
      "proanthocyanins                -        0.000000\n",
      "color_intensity                -        0.329142\n",
      "hue                            -        0.000000\n",
      "od280/od315_of_diluted_wines   -        0.000000\n",
      "proline                        -        0.416521\n"
     ]
    }
   ],
   "source": [
    "for name, score in zip(data['feature_names'], tree.feature_importances_):\n",
    "    print(\"{:30s} - {:15f}\".format(name, score))"
   ]
  },
  {
   "cell_type": "code",
   "execution_count": 1,
   "metadata": {},
   "outputs": [],
   "source": [
    "def plot_feature_importances_cancer(model):\n",
    "    n_features = data['data'].shape[1]\n",
    "    plt.barh(range(n_features), model.feature_importances_, align='center')\n",
    "    plt.yticks(np.arange(n_features), data['feature_names'])\n",
    "    plt.xlabel('Важность признаков')\n",
    "    plt.ylabel('Признаки')"
   ]
  },
  {
   "cell_type": "code",
   "execution_count": 50,
   "metadata": {},
   "outputs": [
    {
     "data": {
      "image/png": "[encoded data removed]",
      "text/plain": [
       "<Figure size 432x288 with 1 Axes>"
      ]
     },
     "metadata": {
      "needs_background": "light"
     },
     "output_type": "display_data"
    }
   ],
   "source": [
    "plot_feature_importances_cancer(tree)"
   ]
  },
  {
   "cell_type": "markdown",
   "metadata": {},
   "source": [
    "Random Forest\n",
    "==="
   ]
  },
  {
   "cell_type": "code",
   "execution_count": 2,
   "metadata": {},
   "outputs": [
    {
     "name": "stderr",
     "output_type": "stream",
     "text": [
      "C:\\Users\\Bogdan\\Anaconda3\\lib\\site-packages\\sklearn\\ensemble\\weight_boosting.py:29: DeprecationWarning: numpy.core.umath_tests is an internal NumPy module and should not be imported. It will be removed in a future NumPy release.\n",
      "  from numpy.core.umath_tests import inner1d\n"
     ]
    }
   ],
   "source": [
    "from sklearn.ensemble import RandomForestClassifier\n",
    "import mglearn\n",
    "from sklearn.datasets import make_moons"
   ]
  },
  {
   "cell_type": "code",
   "execution_count": 67,
   "metadata": {},
   "outputs": [],
   "source": [
    "x, y = make_moons(n_samples=100, noise=0.25, random_state=0)\n",
    "x_train, x_test, y_train, y_test = train_test_split(x, y, random_state=0)"
   ]
  },
  {
   "cell_type": "code",
   "execution_count": 68,
   "metadata": {},
   "outputs": [
    {
     "data": {
      "text/plain": [
       "RandomForestClassifier(bootstrap=True, class_weight=None, criterion='gini',\n",
       "            max_depth=None, max_features='auto', max_leaf_nodes=None,\n",
       "            min_impurity_decrease=0.0, min_impurity_split=None,\n",
       "            min_samples_leaf=1, min_samples_split=2,\n",
       "            min_weight_fraction_leaf=0.0, n_estimators=5, n_jobs=1,\n",
       "            oob_score=False, random_state=0, verbose=0, warm_start=False)"
      ]
     },
     "execution_count": 68,
     "metadata": {},
     "output_type": "execute_result"
    }
   ],
   "source": [
    "forest = RandomForestClassifier(n_estimators=5, random_state=0)\n",
    "forest.fit(x_train, y_train)"
   ]
  },
  {
   "cell_type": "code",
   "execution_count": 79,
   "metadata": {},
   "outputs": [
    {
     "data": {
      "text/plain": [
       "[<matplotlib.lines.Line2D at 0x1eeaf1f5be0>,\n",
       " <matplotlib.lines.Line2D at 0x1eeaf7f9438>]"
      ]
     },
     "execution_count": 79,
     "metadata": {},
     "output_type": "execute_result"
    },
    {
     "data": {
      "image/png": "[encoded data removed]",
      "text/plain": [
       "<Figure size 1440x720 with 6 Axes>"
      ]
     },
     "metadata": {},
     "output_type": "display_data"
    }
   ],
   "source": [
    "fig, axes = plt.subplots(2, 3)\n",
    "fig.set_figheight(10)\n",
    "fig.set_figwidth(20)\n",
    "for i, (ax, tree) in enumerate(zip(axes.ravel(), forest.estimators_)):\n",
    "    ax.set_title(f'Дерево {i}')\n",
    "    mglearn.plots.plot_tree_partition(x_train, y_train, tree, ax=ax)\n",
    "mglearn.plots.plot_2d_separator(forest, x_train, fill=True, ax=axes[-1, -1], alpha=0.4)\n",
    "axes[-1, -1].set_title('Случайный лес')\n",
    "mglearn.discrete_scatter(x_train[:, 0], x_train[:, 1], y_train)"
   ]
  },
  {
   "cell_type": "code",
   "execution_count": 4,
   "metadata": {},
   "outputs": [
    {
     "name": "stdout",
     "output_type": "stream",
     "text": [
      "Правильность на обучающем наборе: 1.0\n",
      "Правильность на тестовом наборе: 0.9555555555555556\n"
     ]
    }
   ],
   "source": [
    "data = load_wine()\n",
    "x_train, x_test, y_train, y_test = train_test_split(data['data'], data['target'])\n",
    "forest = RandomForestClassifier(n_estimators=5, random_state=0)\n",
    "forest.fit(x_train, y_train)\n",
    "print(f\"Правильность на обучающем наборе: {forest.score(x_train, y_train)}\")\n",
    "print(f\"Правильность на тестовом наборе: {forest.score(x_test, y_test)}\")"
   ]
  },
  {
   "cell_type": "code",
   "execution_count": 19,
   "metadata": {},
   "outputs": [
    {
     "data": {
      "image/png": "[encoded data removed]",
      "text/plain": [
       "<Figure size 432x288 with 1 Axes>"
      ]
     },
     "metadata": {
      "needs_background": "light"
     },
     "output_type": "display_data"
    }
   ],
   "source": [
    "plot_feature_importances_cancer(forest)"
   ]
  }
 ],
 "metadata": {
  "kernelspec": {
   "display_name": "Python 3",
   "language": "python",
   "name": "python3"
  },
  "language_info": {
   "codemirror_mode": {
    "name": "ipython",
    "version": 3
   },
   "file_extension": ".py",
   "mimetype": "text/x-python",
   "name": "python",
   "nbconvert_exporter": "python",
   "pygments_lexer": "ipython3",
   "version": "3.7.3"
  }
 },
 "nbformat": 4,
 "nbformat_minor": 2
}

{
 "cells": [
  {
   "cell_type": "code",
   "execution_count": 481,
   "metadata": {},
   "outputs": [],
   "source": [
    "import numpy as np\n",
    "import pandas as pd\n",
    "import matplotlib.pyplot as plt\n",
    "import seaborn as sns\n",
    "from sklearn.preprocessing import StandardScaler, MinMaxScaler, LabelEncoder, PolynomialFeatures\n",
    "from sklearn.model_selection import train_test_split, cross_val_score\n",
    "from sklearn.linear_model import Lasso, Ridge , LinearRegression\n",
    "from sklearn.metrics import mean_squared_error, mean_absolute_error, r2_score\n",
    "from sklearn.ensemble import RandomForestRegressor\n",
    "from xgboost import XGBRegressor\n",
    "np.random.seed(1)\n",
    "%matplotlib inline"
   ]
  },
  {
   "cell_type": "code",
   "execution_count": 405,
   "metadata": {},
   "outputs": [],
   "source": [
    "df = pd.read_csv('insurance.csv')"
   ]
  },
  {
   "cell_type": "code",
   "execution_count": 406,
   "metadata": {},
   "outputs": [
    {
     "data": {
      "text/html": [
       "<div>\n",
       "<style scoped>\n",
       "    .dataframe tbody tr th:only-of-type {\n",
       "        vertical-align: middle;\n",
       "    }\n",
       "\n",
       "    .dataframe tbody tr th {\n",
       "        vertical-align: top;\n",
       "    }\n",
       "\n",
       "    .dataframe thead th {\n",
       "        text-align: right;\n",
       "    }\n",
       "</style>\n",
       "<table border=\"1\" class=\"dataframe\">\n",
       "  <thead>\n",
       "    <tr style=\"text-align: right;\">\n",
       "      <th></th>\n",
       "      <th>age</th>\n",
       "      <th>sex</th>\n",
       "      <th>bmi</th>\n",
       "      <th>children</th>\n",
       "      <th>smoker</th>\n",
       "      <th>region</th>\n",
       "      <th>charges</th>\n",
       "    </tr>\n",
       "  </thead>\n",
       "  <tbody>\n",
       "    <tr>\n",
       "      <th>0</th>\n",
       "      <td>19</td>\n",
       "      <td>female</td>\n",
       "      <td>27.900</td>\n",
       "      <td>0</td>\n",
       "      <td>yes</td>\n",
       "      <td>southwest</td>\n",
       "      <td>16884.92400</td>\n",
       "    </tr>\n",
       "    <tr>\n",
       "      <th>1</th>\n",
       "      <td>18</td>\n",
       "      <td>male</td>\n",
       "      <td>33.770</td>\n",
       "      <td>1</td>\n",
       "      <td>no</td>\n",
       "      <td>southeast</td>\n",
       "      <td>1725.55230</td>\n",
       "    </tr>\n",
       "    <tr>\n",
       "      <th>2</th>\n",
       "      <td>28</td>\n",
       "      <td>male</td>\n",
       "      <td>33.000</td>\n",
       "      <td>3</td>\n",
       "      <td>no</td>\n",
       "      <td>southeast</td>\n",
       "      <td>4449.46200</td>\n",
       "    </tr>\n",
       "    <tr>\n",
       "      <th>3</th>\n",
       "      <td>33</td>\n",
       "      <td>male</td>\n",
       "      <td>22.705</td>\n",
       "      <td>0</td>\n",
       "      <td>no</td>\n",
       "      <td>northwest</td>\n",
       "      <td>21984.47061</td>\n",
       "    </tr>\n",
       "    <tr>\n",
       "      <th>4</th>\n",
       "      <td>32</td>\n",
       "      <td>male</td>\n",
       "      <td>28.880</td>\n",
       "      <td>0</td>\n",
       "      <td>no</td>\n",
       "      <td>northwest</td>\n",
       "      <td>3866.85520</td>\n",
       "    </tr>\n",
       "  </tbody>\n",
       "</table>\n",
       "</div>"
      ],
      "text/plain": [
       "   age     sex     bmi  children smoker     region      charges\n",
       "0   19  female  27.900         0    yes  southwest  16884.92400\n",
       "1   18    male  33.770         1     no  southeast   1725.55230\n",
       "2   28    male  33.000         3     no  southeast   4449.46200\n",
       "3   33    male  22.705         0     no  northwest  21984.47061\n",
       "4   32    male  28.880         0     no  northwest   3866.85520"
      ]
     },
     "execution_count": 406,
     "metadata": {},
     "output_type": "execute_result"
    }
   ],
   "source": [
    "df.head()"
   ]
  },
  {
   "cell_type": "markdown",
   "metadata": {},
   "source": [
    "# Data preprocessing"
   ]
  },
  {
   "cell_type": "code",
   "execution_count": 407,
   "metadata": {},
   "outputs": [
    {
     "name": "stdout",
     "output_type": "stream",
     "text": [
      "<class 'pandas.core.frame.DataFrame'>\n",
      "RangeIndex: 1338 entries, 0 to 1337\n",
      "Data columns (total 7 columns):\n",
      " #   Column    Non-Null Count  Dtype  \n",
      "---  ------    --------------  -----  \n",
      " 0   age       1338 non-null   int64  \n",
      " 1   sex       1338 non-null   object \n",
      " 2   bmi       1338 non-null   float64\n",
      " 3   children  1338 non-null   int64  \n",
      " 4   smoker    1338 non-null   object \n",
      " 5   region    1338 non-null   object \n",
      " 6   charges   1338 non-null   float64\n",
      "dtypes: float64(2), int64(2), object(3)\n",
      "memory usage: 73.3+ KB\n"
     ]
    }
   ],
   "source": [
    "df.info()"
   ]
  },
  {
   "cell_type": "code",
   "execution_count": 408,
   "metadata": {},
   "outputs": [
    {
     "data": {
      "text/html": [
       "<div>\n",
       "<style scoped>\n",
       "    .dataframe tbody tr th:only-of-type {\n",
       "        vertical-align: middle;\n",
       "    }\n",
       "\n",
       "    .dataframe tbody tr th {\n",
       "        vertical-align: top;\n",
       "    }\n",
       "\n",
       "    .dataframe thead th {\n",
       "        text-align: right;\n",
       "    }\n",
       "</style>\n",
       "<table border=\"1\" class=\"dataframe\">\n",
       "  <thead>\n",
       "    <tr style=\"text-align: right;\">\n",
       "      <th></th>\n",
       "      <th>age</th>\n",
       "      <th>bmi</th>\n",
       "      <th>children</th>\n",
       "      <th>charges</th>\n",
       "    </tr>\n",
       "  </thead>\n",
       "  <tbody>\n",
       "    <tr>\n",
       "      <th>count</th>\n",
       "      <td>1338.000000</td>\n",
       "      <td>1338.000000</td>\n",
       "      <td>1338.000000</td>\n",
       "      <td>1338.000000</td>\n",
       "    </tr>\n",
       "    <tr>\n",
       "      <th>mean</th>\n",
       "      <td>39.207025</td>\n",
       "      <td>30.663397</td>\n",
       "      <td>1.094918</td>\n",
       "      <td>13270.422265</td>\n",
       "    </tr>\n",
       "    <tr>\n",
       "      <th>std</th>\n",
       "      <td>14.049960</td>\n",
       "      <td>6.098187</td>\n",
       "      <td>1.205493</td>\n",
       "      <td>12110.011237</td>\n",
       "    </tr>\n",
       "    <tr>\n",
       "      <th>min</th>\n",
       "      <td>18.000000</td>\n",
       "      <td>15.960000</td>\n",
       "      <td>0.000000</td>\n",
       "      <td>1121.873900</td>\n",
       "    </tr>\n",
       "    <tr>\n",
       "      <th>25%</th>\n",
       "      <td>27.000000</td>\n",
       "      <td>26.296250</td>\n",
       "      <td>0.000000</td>\n",
       "      <td>4740.287150</td>\n",
       "    </tr>\n",
       "    <tr>\n",
       "      <th>50%</th>\n",
       "      <td>39.000000</td>\n",
       "      <td>30.400000</td>\n",
       "      <td>1.000000</td>\n",
       "      <td>9382.033000</td>\n",
       "    </tr>\n",
       "    <tr>\n",
       "      <th>75%</th>\n",
       "      <td>51.000000</td>\n",
       "      <td>34.693750</td>\n",
       "      <td>2.000000</td>\n",
       "      <td>16639.912515</td>\n",
       "    </tr>\n",
       "    <tr>\n",
       "      <th>max</th>\n",
       "      <td>64.000000</td>\n",
       "      <td>53.130000</td>\n",
       "      <td>5.000000</td>\n",
       "      <td>63770.428010</td>\n",
       "    </tr>\n",
       "  </tbody>\n",
       "</table>\n",
       "</div>"
      ],
      "text/plain": [
       "               age          bmi     children       charges\n",
       "count  1338.000000  1338.000000  1338.000000   1338.000000\n",
       "mean     39.207025    30.663397     1.094918  13270.422265\n",
       "std      14.049960     6.098187     1.205493  12110.011237\n",
       "min      18.000000    15.960000     0.000000   1121.873900\n",
       "25%      27.000000    26.296250     0.000000   4740.287150\n",
       "50%      39.000000    30.400000     1.000000   9382.033000\n",
       "75%      51.000000    34.693750     2.000000  16639.912515\n",
       "max      64.000000    53.130000     5.000000  63770.428010"
      ]
     },
     "execution_count": 408,
     "metadata": {},
     "output_type": "execute_result"
    }
   ],
   "source": [
    "df.describe()"
   ]
  },
  {
   "cell_type": "markdown",
   "metadata": {},
   "source": [
    "Check missed data"
   ]
  },
  {
   "cell_type": "code",
   "execution_count": 409,
   "metadata": {},
   "outputs": [
    {
     "data": {
      "text/plain": [
       "age         0\n",
       "sex         0\n",
       "bmi         0\n",
       "children    0\n",
       "smoker      0\n",
       "region      0\n",
       "charges     0\n",
       "dtype: int64"
      ]
     },
     "execution_count": 409,
     "metadata": {},
     "output_type": "execute_result"
    }
   ],
   "source": [
    "df.isna().sum() #no missed data"
   ]
  },
  {
   "cell_type": "markdown",
   "metadata": {},
   "source": [
    "Check unique values of sex and its distribution"
   ]
  },
  {
   "cell_type": "code",
   "execution_count": 410,
   "metadata": {},
   "outputs": [
    {
     "data": {
      "text/plain": [
       "male      676\n",
       "female    662\n",
       "Name: sex, dtype: int64"
      ]
     },
     "execution_count": 410,
     "metadata": {},
     "output_type": "execute_result"
    }
   ],
   "source": [
    "df['sex'].value_counts() #"
   ]
  },
  {
   "cell_type": "code",
   "execution_count": 411,
   "metadata": {},
   "outputs": [
    {
     "data": {
      "image/png": "[encoded data removed]",
      "text/plain": [
       "<Figure size 432x288 with 1 Axes>"
      ]
     },
     "metadata": {
      "needs_background": "light"
     },
     "output_type": "display_data"
    }
   ],
   "source": [
    "plt.barh(['male','female'],df['sex'].value_counts().values,height=0.4,color=['red','grey']);\n",
    "plt.title('Number of men and women in our data');"
   ]
  },
  {
   "cell_type": "markdown",
   "metadata": {},
   "source": [
    "Check number of children (it's impossible to have <0 or some high value) and its distribution. We can see that we have just a few rows with 4 and 5. So we can combine them with 3 and make it categorical feture (0,1,2,3+)."
   ]
  },
  {
   "cell_type": "code",
   "execution_count": 412,
   "metadata": {},
   "outputs": [
    {
     "data": {
      "text/plain": [
       "0    574\n",
       "1    324\n",
       "2    240\n",
       "3    157\n",
       "4     25\n",
       "5     18\n",
       "Name: children, dtype: int64"
      ]
     },
     "execution_count": 412,
     "metadata": {},
     "output_type": "execute_result"
    }
   ],
   "source": [
    "df['children'].value_counts()"
   ]
  },
  {
   "cell_type": "code",
   "execution_count": 413,
   "metadata": {},
   "outputs": [
    {
     "data": {
      "image/png": "[encoded data removed]",
      "text/plain": [
       "<Figure size 432x288 with 1 Axes>"
      ]
     },
     "metadata": {
      "needs_background": "light"
     },
     "output_type": "display_data"
    }
   ],
   "source": [
    "children = ['no children','1 child','2 children','3 children','4 children','5 children']\n",
    "colors = ['grey']*6\n",
    "colors[0] = 'r'\n",
    "plt.barh(children,df['children'].value_counts().values,color=colors)\n",
    "plt.title('Distribution of number of children ');"
   ]
  },
  {
   "cell_type": "markdown",
   "metadata": {},
   "source": [
    "Check unique values of smoker and its distribution"
   ]
  },
  {
   "cell_type": "code",
   "execution_count": 414,
   "metadata": {},
   "outputs": [
    {
     "data": {
      "text/plain": [
       "no     1064\n",
       "yes     274\n",
       "Name: smoker, dtype: int64"
      ]
     },
     "execution_count": 414,
     "metadata": {},
     "output_type": "execute_result"
    }
   ],
   "source": [
    "df['smoker'].value_counts()"
   ]
  },
  {
   "cell_type": "code",
   "execution_count": 415,
   "metadata": {},
   "outputs": [
    {
     "data": {
      "image/png": "[encoded data removed]",
      "text/plain": [
       "<Figure size 432x288 with 1 Axes>"
      ]
     },
     "metadata": {
      "needs_background": "light"
     },
     "output_type": "display_data"
    }
   ],
   "source": [
    "plt.barh(['Don\\'t smoke','Smoke'],df['smoker'].value_counts().values,height=0.4,color=['red','grey'])\n",
    "plt.title('Distribution of smokers');"
   ]
  },
  {
   "cell_type": "markdown",
   "metadata": {},
   "source": [
    "Check unique values of region and its distribution"
   ]
  },
  {
   "cell_type": "code",
   "execution_count": 416,
   "metadata": {},
   "outputs": [
    {
     "data": {
      "text/plain": [
       "southeast    364\n",
       "northwest    325\n",
       "southwest    325\n",
       "northeast    324\n",
       "Name: region, dtype: int64"
      ]
     },
     "execution_count": 416,
     "metadata": {},
     "output_type": "execute_result"
    }
   ],
   "source": [
    "df['region'].value_counts()"
   ]
  },
  {
   "cell_type": "code",
   "execution_count": 417,
   "metadata": {},
   "outputs": [
    {
     "data": {
      "image/png": "[encoded data removed]",
      "text/plain": [
       "<Figure size 432x288 with 1 Axes>"
      ]
     },
     "metadata": {},
     "output_type": "display_data"
    }
   ],
   "source": [
    "plt.pie(df['region'].value_counts().values, \n",
    "        labels=df['region'].value_counts().index,\n",
    "        autopct='%1.2f%%',\n",
    "        shadow=True,\n",
    "        explode=(0.1,0,0,0));\n",
    "plt.title('Distribution of regions');"
   ]
  },
  {
   "cell_type": "markdown",
   "metadata": {},
   "source": [
    "Check some statistics in bmi and age and look for outliers"
   ]
  },
  {
   "cell_type": "code",
   "execution_count": 418,
   "metadata": {},
   "outputs": [
    {
     "data": {
      "text/plain": [
       "count    1338.000000\n",
       "mean       30.663397\n",
       "std         6.098187\n",
       "min        15.960000\n",
       "25%        26.296250\n",
       "50%        30.400000\n",
       "75%        34.693750\n",
       "max        53.130000\n",
       "Name: bmi, dtype: float64"
      ]
     },
     "execution_count": 418,
     "metadata": {},
     "output_type": "execute_result"
    }
   ],
   "source": [
    "df['bmi'].describe()"
   ]
  },
  {
   "cell_type": "code",
   "execution_count": 419,
   "metadata": {},
   "outputs": [
    {
     "data": {
      "text/plain": [
       "count    1338.000000\n",
       "mean       39.207025\n",
       "std        14.049960\n",
       "min        18.000000\n",
       "25%        27.000000\n",
       "50%        39.000000\n",
       "75%        51.000000\n",
       "max        64.000000\n",
       "Name: age, dtype: float64"
      ]
     },
     "execution_count": 419,
     "metadata": {},
     "output_type": "execute_result"
    }
   ],
   "source": [
    "df['age'].describe()"
   ]
  },
  {
   "cell_type": "markdown",
   "metadata": {},
   "source": [
    "Look at bmi and age statistics"
   ]
  },
  {
   "cell_type": "code",
   "execution_count": 420,
   "metadata": {},
   "outputs": [
    {
     "data": {
      "image/png": "[encoded data removed]",
      "text/plain": [
       "<Figure size 432x288 with 1 Axes>"
      ]
     },
     "metadata": {
      "needs_background": "light"
     },
     "output_type": "display_data"
    }
   ],
   "source": [
    "plt.boxplot([df['bmi'].values,df['age'].values],labels=['bmi','age']);\n",
    "plt.title('Boxplots for bmi and age');"
   ]
  },
  {
   "cell_type": "markdown",
   "metadata": {},
   "source": [
    "Based on our boxplot and hist for bmi we can see outliers with values more than 47. "
   ]
  },
  {
   "cell_type": "code",
   "execution_count": 421,
   "metadata": {},
   "outputs": [
    {
     "data": {
      "image/png": "[encoded data removed]",
      "text/plain": [
       "<Figure size 432x288 with 1 Axes>"
      ]
     },
     "metadata": {
      "needs_background": "light"
     },
     "output_type": "display_data"
    }
   ],
   "source": [
    "plt.hist(df['bmi'],bins=20);\n",
    "plt.title('Histogram for bmi');"
   ]
  },
  {
   "cell_type": "markdown",
   "metadata": {},
   "source": [
    "Look at the distribution of charges. We can see right skew here with heavy right tail."
   ]
  },
  {
   "cell_type": "code",
   "execution_count": 422,
   "metadata": {},
   "outputs": [
    {
     "data": {
      "image/png": "[encoded data removed]",
      "text/plain": [
       "<Figure size 432x288 with 1 Axes>"
      ]
     },
     "metadata": {
      "needs_background": "light"
     },
     "output_type": "display_data"
    }
   ],
   "source": [
    "plt.hist(df['charges'],bins=20,histtype='bar',rwidth=0.8)\n",
    "plt.title('Charges distribution');"
   ]
  },
  {
   "cell_type": "markdown",
   "metadata": {},
   "source": [
    "In the plots below we can see that smokers in general have greater charges. Also we see age/bmi and charges are correlated."
   ]
  },
  {
   "cell_type": "code",
   "execution_count": 423,
   "metadata": {},
   "outputs": [
    {
     "data": {
      "image/png": "[encoded data removed]",
      "text/plain": [
       "<Figure size 1080x180 with 6 Axes>"
      ]
     },
     "metadata": {
      "needs_background": "light"
     },
     "output_type": "display_data"
    }
   ],
   "source": [
    "sns.pairplot(df,x_vars=['age','sex','bmi','children','smoker','region'],y_vars='charges',aspect=1);"
   ]
  },
  {
   "cell_type": "markdown",
   "metadata": {},
   "source": [
    "From the correlation table we can see that number of children and sex are not correlated with other features but smoke, age and bmi are correlated with our target variable. So let's look closer at this correlation."
   ]
  },
  {
   "cell_type": "code",
   "execution_count": 424,
   "metadata": {},
   "outputs": [
    {
     "data": {
      "image/png": "[encoded data removed]",
      "text/plain": [
       "<Figure size 432x288 with 2 Axes>"
      ]
     },
     "metadata": {
      "needs_background": "light"
     },
     "output_type": "display_data"
    }
   ],
   "source": [
    "df['smoker'] = pd.get_dummies(df['smoker'],drop_first=True)\n",
    "df['sex'] = pd.get_dummies(df['sex'],drop_first=True)\n",
    "sns.heatmap(df.corr());"
   ]
  },
  {
   "cell_type": "markdown",
   "metadata": {},
   "source": [
    "There are 2 plots. On the first we have boxplots for female and male who smokes and on the second one for not smokers. We can see that in general smokers median charges are higher than for people who doesn't smoke and there are no big difference between males and females have similar min/max values and interquartile range. Also we can see that people who doesn't smoke have charges more than 22 000 only in outliers."
   ]
  },
  {
   "cell_type": "code",
   "execution_count": 425,
   "metadata": {},
   "outputs": [
    {
     "data": {
      "image/png": "[encoded data removed]",
      "text/plain": [
       "<Figure size 432x288 with 2 Axes>"
      ]
     },
     "metadata": {
      "needs_background": "light"
     },
     "output_type": "display_data"
    }
   ],
   "source": [
    "fig,axes = plt.subplots(nrows=1, ncols=2)\n",
    "plt.tight_layout()\n",
    "\n",
    "axes[0].boxplot([df.loc[(df['sex'] == 0) & (df['smoker']==1)]['charges'],\n",
    "                 df.loc[(df['sex'] == 1) & (df['smoker']==1) ]['charges']],\n",
    "                    labels=['female','male'])\n",
    "axes[0].set_title('Smokers')\n",
    "axes[0].set_ylabel('Charges');\n",
    "\n",
    "axes[1].boxplot([df.loc[(df['sex'] == 0) & (df['smoker']==0)]['charges'],\n",
    "                 df.loc[(df['sex'] == 1) & (df['smoker']==0) ]['charges']],\n",
    "                    labels=['female','male'])\n",
    "axes[1].set_title('Don\\'t smoke')\n",
    "axes[0].set_ylabel('Charges');"
   ]
  },
  {
   "cell_type": "markdown",
   "metadata": {},
   "source": [
    "Here we can see dependency between age and charges. Also we can see that people who smoke has higher charges than people who doesn't smoke with the same age. We can say that the equation that describes this dependency has higher intersept for people who smokes but they have the same slope."
   ]
  },
  {
   "cell_type": "code",
   "execution_count": 426,
   "metadata": {},
   "outputs": [
    {
     "data": {
      "image/png": "[encoded data removed]",
      "text/plain": [
       "<Figure size 432x288 with 1 Axes>"
      ]
     },
     "metadata": {
      "needs_background": "light"
     },
     "output_type": "display_data"
    }
   ],
   "source": [
    "plt.scatter([],[],c='yellow',label='Smoke')\n",
    "plt.scatter([],[],c='purple',label='Don\\'t smoke')\n",
    "plt.scatter(df['age'],df['charges'],c=df['smoker'])\n",
    "plt.xlabel('Age')\n",
    "plt.ylabel('Charges')\n",
    "plt.legend();"
   ]
  },
  {
   "cell_type": "markdown",
   "metadata": {},
   "source": [
    "Here we can see dependency between bmi for smokers and charges but we can't see high dependency  between bmi for not smokers and charges."
   ]
  },
  {
   "cell_type": "code",
   "execution_count": 427,
   "metadata": {},
   "outputs": [
    {
     "data": {
      "image/png": "[encoded data removed]",
      "text/plain": [
       "<Figure size 432x288 with 1 Axes>"
      ]
     },
     "metadata": {
      "needs_background": "light"
     },
     "output_type": "display_data"
    }
   ],
   "source": [
    "plt.scatter([],[],c='yellow',label='Smoke')\n",
    "plt.scatter([],[],c='purple',label='Don\\'t smoke')\n",
    "plt.scatter(df['bmi'],df['charges'],c=df['smoker'])\n",
    "plt.legend();\n",
    "plt.xlabel('BMI')\n",
    "plt.ylabel('Charges');"
   ]
  },
  {
   "cell_type": "markdown",
   "metadata": {},
   "source": [
    "# Feature engineering"
   ]
  },
  {
   "cell_type": "code",
   "execution_count": 452,
   "metadata": {},
   "outputs": [
    {
     "data": {
      "text/html": [
       "<div>\n",
       "<style scoped>\n",
       "    .dataframe tbody tr th:only-of-type {\n",
       "        vertical-align: middle;\n",
       "    }\n",
       "\n",
       "    .dataframe tbody tr th {\n",
       "        vertical-align: top;\n",
       "    }\n",
       "\n",
       "    .dataframe thead th {\n",
       "        text-align: right;\n",
       "    }\n",
       "</style>\n",
       "<table border=\"1\" class=\"dataframe\">\n",
       "  <thead>\n",
       "    <tr style=\"text-align: right;\">\n",
       "      <th></th>\n",
       "      <th>age</th>\n",
       "      <th>sex</th>\n",
       "      <th>bmi</th>\n",
       "      <th>smoker</th>\n",
       "      <th>charges</th>\n",
       "      <th>northwest</th>\n",
       "      <th>southeast</th>\n",
       "      <th>southwest</th>\n",
       "      <th>1</th>\n",
       "      <th>2</th>\n",
       "      <th>3</th>\n",
       "    </tr>\n",
       "  </thead>\n",
       "  <tbody>\n",
       "    <tr>\n",
       "      <th>0</th>\n",
       "      <td>19</td>\n",
       "      <td>0</td>\n",
       "      <td>27.900</td>\n",
       "      <td>1</td>\n",
       "      <td>16884.92400</td>\n",
       "      <td>0</td>\n",
       "      <td>0</td>\n",
       "      <td>1</td>\n",
       "      <td>0</td>\n",
       "      <td>0</td>\n",
       "      <td>0</td>\n",
       "    </tr>\n",
       "    <tr>\n",
       "      <th>1</th>\n",
       "      <td>18</td>\n",
       "      <td>1</td>\n",
       "      <td>33.770</td>\n",
       "      <td>0</td>\n",
       "      <td>1725.55230</td>\n",
       "      <td>0</td>\n",
       "      <td>1</td>\n",
       "      <td>0</td>\n",
       "      <td>1</td>\n",
       "      <td>0</td>\n",
       "      <td>0</td>\n",
       "    </tr>\n",
       "    <tr>\n",
       "      <th>2</th>\n",
       "      <td>28</td>\n",
       "      <td>1</td>\n",
       "      <td>33.000</td>\n",
       "      <td>0</td>\n",
       "      <td>4449.46200</td>\n",
       "      <td>0</td>\n",
       "      <td>1</td>\n",
       "      <td>0</td>\n",
       "      <td>0</td>\n",
       "      <td>0</td>\n",
       "      <td>1</td>\n",
       "    </tr>\n",
       "    <tr>\n",
       "      <th>3</th>\n",
       "      <td>33</td>\n",
       "      <td>1</td>\n",
       "      <td>22.705</td>\n",
       "      <td>0</td>\n",
       "      <td>21984.47061</td>\n",
       "      <td>1</td>\n",
       "      <td>0</td>\n",
       "      <td>0</td>\n",
       "      <td>0</td>\n",
       "      <td>0</td>\n",
       "      <td>0</td>\n",
       "    </tr>\n",
       "    <tr>\n",
       "      <th>4</th>\n",
       "      <td>32</td>\n",
       "      <td>1</td>\n",
       "      <td>28.880</td>\n",
       "      <td>0</td>\n",
       "      <td>3866.85520</td>\n",
       "      <td>1</td>\n",
       "      <td>0</td>\n",
       "      <td>0</td>\n",
       "      <td>0</td>\n",
       "      <td>0</td>\n",
       "      <td>0</td>\n",
       "    </tr>\n",
       "    <tr>\n",
       "      <th>5</th>\n",
       "      <td>31</td>\n",
       "      <td>0</td>\n",
       "      <td>25.740</td>\n",
       "      <td>0</td>\n",
       "      <td>3756.62160</td>\n",
       "      <td>0</td>\n",
       "      <td>1</td>\n",
       "      <td>0</td>\n",
       "      <td>0</td>\n",
       "      <td>0</td>\n",
       "      <td>0</td>\n",
       "    </tr>\n",
       "    <tr>\n",
       "      <th>6</th>\n",
       "      <td>46</td>\n",
       "      <td>0</td>\n",
       "      <td>33.440</td>\n",
       "      <td>0</td>\n",
       "      <td>8240.58960</td>\n",
       "      <td>0</td>\n",
       "      <td>1</td>\n",
       "      <td>0</td>\n",
       "      <td>1</td>\n",
       "      <td>0</td>\n",
       "      <td>0</td>\n",
       "    </tr>\n",
       "    <tr>\n",
       "      <th>7</th>\n",
       "      <td>37</td>\n",
       "      <td>0</td>\n",
       "      <td>27.740</td>\n",
       "      <td>0</td>\n",
       "      <td>7281.50560</td>\n",
       "      <td>1</td>\n",
       "      <td>0</td>\n",
       "      <td>0</td>\n",
       "      <td>0</td>\n",
       "      <td>0</td>\n",
       "      <td>1</td>\n",
       "    </tr>\n",
       "    <tr>\n",
       "      <th>8</th>\n",
       "      <td>37</td>\n",
       "      <td>1</td>\n",
       "      <td>29.830</td>\n",
       "      <td>0</td>\n",
       "      <td>6406.41070</td>\n",
       "      <td>0</td>\n",
       "      <td>0</td>\n",
       "      <td>0</td>\n",
       "      <td>0</td>\n",
       "      <td>1</td>\n",
       "      <td>0</td>\n",
       "    </tr>\n",
       "    <tr>\n",
       "      <th>9</th>\n",
       "      <td>60</td>\n",
       "      <td>0</td>\n",
       "      <td>25.840</td>\n",
       "      <td>0</td>\n",
       "      <td>28923.13692</td>\n",
       "      <td>1</td>\n",
       "      <td>0</td>\n",
       "      <td>0</td>\n",
       "      <td>0</td>\n",
       "      <td>0</td>\n",
       "      <td>0</td>\n",
       "    </tr>\n",
       "    <tr>\n",
       "      <th>10</th>\n",
       "      <td>25</td>\n",
       "      <td>1</td>\n",
       "      <td>26.220</td>\n",
       "      <td>0</td>\n",
       "      <td>2721.32080</td>\n",
       "      <td>0</td>\n",
       "      <td>0</td>\n",
       "      <td>0</td>\n",
       "      <td>0</td>\n",
       "      <td>0</td>\n",
       "      <td>0</td>\n",
       "    </tr>\n",
       "    <tr>\n",
       "      <th>11</th>\n",
       "      <td>62</td>\n",
       "      <td>0</td>\n",
       "      <td>26.290</td>\n",
       "      <td>1</td>\n",
       "      <td>27808.72510</td>\n",
       "      <td>0</td>\n",
       "      <td>1</td>\n",
       "      <td>0</td>\n",
       "      <td>0</td>\n",
       "      <td>0</td>\n",
       "      <td>0</td>\n",
       "    </tr>\n",
       "    <tr>\n",
       "      <th>12</th>\n",
       "      <td>23</td>\n",
       "      <td>1</td>\n",
       "      <td>34.400</td>\n",
       "      <td>0</td>\n",
       "      <td>1826.84300</td>\n",
       "      <td>0</td>\n",
       "      <td>0</td>\n",
       "      <td>1</td>\n",
       "      <td>0</td>\n",
       "      <td>0</td>\n",
       "      <td>0</td>\n",
       "    </tr>\n",
       "    <tr>\n",
       "      <th>13</th>\n",
       "      <td>56</td>\n",
       "      <td>0</td>\n",
       "      <td>39.820</td>\n",
       "      <td>0</td>\n",
       "      <td>11090.71780</td>\n",
       "      <td>0</td>\n",
       "      <td>1</td>\n",
       "      <td>0</td>\n",
       "      <td>0</td>\n",
       "      <td>0</td>\n",
       "      <td>0</td>\n",
       "    </tr>\n",
       "    <tr>\n",
       "      <th>14</th>\n",
       "      <td>27</td>\n",
       "      <td>1</td>\n",
       "      <td>42.130</td>\n",
       "      <td>1</td>\n",
       "      <td>39611.75770</td>\n",
       "      <td>0</td>\n",
       "      <td>1</td>\n",
       "      <td>0</td>\n",
       "      <td>0</td>\n",
       "      <td>0</td>\n",
       "      <td>0</td>\n",
       "    </tr>\n",
       "  </tbody>\n",
       "</table>\n",
       "</div>"
      ],
      "text/plain": [
       "    age  sex     bmi  smoker      charges  northwest  southeast  southwest  1  \\\n",
       "0    19    0  27.900       1  16884.92400          0          0          1  0   \n",
       "1    18    1  33.770       0   1725.55230          0          1          0  1   \n",
       "2    28    1  33.000       0   4449.46200          0          1          0  0   \n",
       "3    33    1  22.705       0  21984.47061          1          0          0  0   \n",
       "4    32    1  28.880       0   3866.85520          1          0          0  0   \n",
       "5    31    0  25.740       0   3756.62160          0          1          0  0   \n",
       "6    46    0  33.440       0   8240.58960          0          1          0  1   \n",
       "7    37    0  27.740       0   7281.50560          1          0          0  0   \n",
       "8    37    1  29.830       0   6406.41070          0          0          0  0   \n",
       "9    60    0  25.840       0  28923.13692          1          0          0  0   \n",
       "10   25    1  26.220       0   2721.32080          0          0          0  0   \n",
       "11   62    0  26.290       1  27808.72510          0          1          0  0   \n",
       "12   23    1  34.400       0   1826.84300          0          0          1  0   \n",
       "13   56    0  39.820       0  11090.71780          0          1          0  0   \n",
       "14   27    1  42.130       1  39611.75770          0          1          0  0   \n",
       "\n",
       "    2  3  \n",
       "0   0  0  \n",
       "1   0  0  \n",
       "2   0  1  \n",
       "3   0  0  \n",
       "4   0  0  \n",
       "5   0  0  \n",
       "6   0  0  \n",
       "7   0  1  \n",
       "8   1  0  \n",
       "9   0  0  \n",
       "10  0  0  \n",
       "11  0  0  \n",
       "12  0  0  \n",
       "13  0  0  \n",
       "14  0  0  "
      ]
     },
     "execution_count": 452,
     "metadata": {},
     "output_type": "execute_result"
    }
   ],
   "source": [
    "data = df.copy()\n",
    "\n",
    "region = pd.get_dummies(data['region'],drop_first=True)\n",
    "data = pd.concat([data,region],axis=1)\n",
    "data.drop('region',axis=1,inplace=True)\n",
    "\n",
    "data.loc[data['children']>=3,'children'] = 3\n",
    "children = pd.get_dummies(data['children'],drop_first=True)\n",
    "data = pd.concat([data,children],axis=1)\n",
    "data.drop('children',axis=1,inplace=True)\n",
    "data.head(15)"
   ]
  },
  {
   "cell_type": "code",
   "execution_count": 453,
   "metadata": {},
   "outputs": [],
   "source": [
    "scale = MinMaxScaler()\n",
    "polynom = PolynomialFeatures(degree=2)"
   ]
  },
  {
   "cell_type": "markdown",
   "metadata": {},
   "source": [
    "Split our data into train (for feating) and test (for evaluating) sets "
   ]
  },
  {
   "cell_type": "code",
   "execution_count": 454,
   "metadata": {},
   "outputs": [],
   "source": [
    "X_train, X_test, y_train, y_test = train_test_split(data.drop(['charges'],axis=1),\n",
    "                                                    data[['charges']],\n",
    "                                                    test_size=0.20, \n",
    "                                                    random_state=0)"
   ]
  },
  {
   "cell_type": "markdown",
   "metadata": {},
   "source": [
    "Use MinMaxScaler on our numerical features (age,bmi,smoker) cause we want them to be in one distribution. As a result all values will lie between 0 and 1 "
   ]
  },
  {
   "cell_type": "code",
   "execution_count": 455,
   "metadata": {},
   "outputs": [],
   "source": [
    "X_train[['age','bmi','smoker']] = scale.fit_transform(X_train[['age','bmi','smoker']])"
   ]
  },
  {
   "cell_type": "code",
   "execution_count": 456,
   "metadata": {},
   "outputs": [],
   "source": [
    "X_test[['age','bmi','smoker']] = scale.transform(X_test[['age','bmi','smoker']])"
   ]
  },
  {
   "cell_type": "code",
   "execution_count": 457,
   "metadata": {},
   "outputs": [],
   "source": [
    "import statsmodels.regression.linear_model as lr"
   ]
  },
  {
   "cell_type": "markdown",
   "metadata": {},
   "source": [
    "Make model using statsmodels to answer the question of importance of different features"
   ]
  },
  {
   "cell_type": "code",
   "execution_count": 458,
   "metadata": {},
   "outputs": [],
   "source": [
    "ols_model = lr.OLS(endog=y_train, exog=X_train).fit()"
   ]
  },
  {
   "cell_type": "code",
   "execution_count": 459,
   "metadata": {
    "scrolled": false
   },
   "outputs": [
    {
     "data": {
      "text/html": [
       "<table class=\"simpletable\">\n",
       "<caption>OLS Regression Results</caption>\n",
       "<tr>\n",
       "  <th>Dep. Variable:</th>         <td>charges</td>     <th>  R-squared (uncentered):</th>      <td>   0.881</td> \n",
       "</tr>\n",
       "<tr>\n",
       "  <th>Model:</th>                   <td>OLS</td>       <th>  Adj. R-squared (uncentered):</th> <td>   0.880</td> \n",
       "</tr>\n",
       "<tr>\n",
       "  <th>Method:</th>             <td>Least Squares</td>  <th>  F-statistic:       </th>          <td>   783.5</td> \n",
       "</tr>\n",
       "<tr>\n",
       "  <th>Date:</th>             <td>Thu, 04 Jun 2020</td> <th>  Prob (F-statistic):</th>           <td>  0.00</td>  \n",
       "</tr>\n",
       "<tr>\n",
       "  <th>Time:</th>                 <td>19:52:23</td>     <th>  Log-Likelihood:    </th>          <td> -10854.</td> \n",
       "</tr>\n",
       "<tr>\n",
       "  <th>No. Observations:</th>      <td>  1070</td>      <th>  AIC:               </th>          <td>2.173e+04</td>\n",
       "</tr>\n",
       "<tr>\n",
       "  <th>Df Residuals:</th>          <td>  1060</td>      <th>  BIC:               </th>          <td>2.178e+04</td>\n",
       "</tr>\n",
       "<tr>\n",
       "  <th>Df Model:</th>              <td>    10</td>      <th>                     </th>              <td> </td>    \n",
       "</tr>\n",
       "<tr>\n",
       "  <th>Covariance Type:</th>      <td>nonrobust</td>    <th>                     </th>              <td> </td>    \n",
       "</tr>\n",
       "</table>\n",
       "<table class=\"simpletable\">\n",
       "<tr>\n",
       "      <td></td>         <th>coef</th>     <th>std err</th>      <th>t</th>      <th>P>|t|</th>  <th>[0.025</th>    <th>0.975]</th>  \n",
       "</tr>\n",
       "<tr>\n",
       "  <th>age</th>       <td> 1.105e+04</td> <td>  584.021</td> <td>   18.915</td> <td> 0.000</td> <td> 9900.983</td> <td> 1.22e+04</td>\n",
       "</tr>\n",
       "<tr>\n",
       "  <th>sex</th>       <td> -281.8766</td> <td>  367.605</td> <td>   -0.767</td> <td> 0.443</td> <td>-1003.193</td> <td>  439.440</td>\n",
       "</tr>\n",
       "<tr>\n",
       "  <th>bmi</th>       <td> 1.047e+04</td> <td>  989.145</td> <td>   10.580</td> <td> 0.000</td> <td> 8524.444</td> <td> 1.24e+04</td>\n",
       "</tr>\n",
       "<tr>\n",
       "  <th>smoker</th>    <td> 2.333e+04</td> <td>  465.756</td> <td>   50.095</td> <td> 0.000</td> <td> 2.24e+04</td> <td> 2.42e+04</td>\n",
       "</tr>\n",
       "<tr>\n",
       "  <th>northwest</th> <td> -955.6289</td> <td>  499.197</td> <td>   -1.914</td> <td> 0.056</td> <td>-1935.156</td> <td>   23.898</td>\n",
       "</tr>\n",
       "<tr>\n",
       "  <th>southeast</th> <td>-1313.6935</td> <td>  533.501</td> <td>   -2.462</td> <td> 0.014</td> <td>-2360.531</td> <td> -266.856</td>\n",
       "</tr>\n",
       "<tr>\n",
       "  <th>southwest</th> <td>-1340.9390</td> <td>  503.263</td> <td>   -2.664</td> <td> 0.008</td> <td>-2328.443</td> <td> -353.435</td>\n",
       "</tr>\n",
       "<tr>\n",
       "  <th>1</th>         <td>  173.8392</td> <td>  467.039</td> <td>    0.372</td> <td> 0.710</td> <td> -742.588</td> <td> 1090.266</td>\n",
       "</tr>\n",
       "<tr>\n",
       "  <th>2</th>         <td> 1482.4128</td> <td>  525.008</td> <td>    2.824</td> <td> 0.005</td> <td>  452.240</td> <td> 2512.585</td>\n",
       "</tr>\n",
       "<tr>\n",
       "  <th>3</th>         <td>  780.1586</td> <td>  570.690</td> <td>    1.367</td> <td> 0.172</td> <td> -339.652</td> <td> 1899.970</td>\n",
       "</tr>\n",
       "</table>\n",
       "<table class=\"simpletable\">\n",
       "<tr>\n",
       "  <th>Omnibus:</th>       <td>261.797</td> <th>  Durbin-Watson:     </th> <td>   1.996</td> \n",
       "</tr>\n",
       "<tr>\n",
       "  <th>Prob(Omnibus):</th> <td> 0.000</td>  <th>  Jarque-Bera (JB):  </th> <td> 644.765</td> \n",
       "</tr>\n",
       "<tr>\n",
       "  <th>Skew:</th>          <td> 1.294</td>  <th>  Prob(JB):          </th> <td>9.79e-141</td>\n",
       "</tr>\n",
       "<tr>\n",
       "  <th>Kurtosis:</th>      <td> 5.786</td>  <th>  Cond. No.          </th> <td>    6.12</td> \n",
       "</tr>\n",
       "</table><br/><br/>Warnings:<br/>[1] Standard Errors assume that the covariance matrix of the errors is correctly specified."
      ],
      "text/plain": [
       "<class 'statsmodels.iolib.summary.Summary'>\n",
       "\"\"\"\n",
       "                                 OLS Regression Results                                \n",
       "=======================================================================================\n",
       "Dep. Variable:                charges   R-squared (uncentered):                   0.881\n",
       "Model:                            OLS   Adj. R-squared (uncentered):              0.880\n",
       "Method:                 Least Squares   F-statistic:                              783.5\n",
       "Date:                Thu, 04 Jun 2020   Prob (F-statistic):                        0.00\n",
       "Time:                        19:52:23   Log-Likelihood:                         -10854.\n",
       "No. Observations:                1070   AIC:                                  2.173e+04\n",
       "Df Residuals:                    1060   BIC:                                  2.178e+04\n",
       "Df Model:                          10                                                  \n",
       "Covariance Type:            nonrobust                                                  \n",
       "==============================================================================\n",
       "                 coef    std err          t      P>|t|      [0.025      0.975]\n",
       "------------------------------------------------------------------------------\n",
       "age         1.105e+04    584.021     18.915      0.000    9900.983    1.22e+04\n",
       "sex         -281.8766    367.605     -0.767      0.443   -1003.193     439.440\n",
       "bmi         1.047e+04    989.145     10.580      0.000    8524.444    1.24e+04\n",
       "smoker      2.333e+04    465.756     50.095      0.000    2.24e+04    2.42e+04\n",
       "northwest   -955.6289    499.197     -1.914      0.056   -1935.156      23.898\n",
       "southeast  -1313.6935    533.501     -2.462      0.014   -2360.531    -266.856\n",
       "southwest  -1340.9390    503.263     -2.664      0.008   -2328.443    -353.435\n",
       "1            173.8392    467.039      0.372      0.710    -742.588    1090.266\n",
       "2           1482.4128    525.008      2.824      0.005     452.240    2512.585\n",
       "3            780.1586    570.690      1.367      0.172    -339.652    1899.970\n",
       "==============================================================================\n",
       "Omnibus:                      261.797   Durbin-Watson:                   1.996\n",
       "Prob(Omnibus):                  0.000   Jarque-Bera (JB):              644.765\n",
       "Skew:                           1.294   Prob(JB):                    9.79e-141\n",
       "Kurtosis:                       5.786   Cond. No.                         6.12\n",
       "==============================================================================\n",
       "\n",
       "Warnings:\n",
       "[1] Standard Errors assume that the covariance matrix of the errors is correctly specified.\n",
       "\"\"\""
      ]
     },
     "execution_count": 459,
     "metadata": {},
     "output_type": "execute_result"
    }
   ],
   "source": [
    "ols_model.summary()"
   ]
  },
  {
   "cell_type": "markdown",
   "metadata": {},
   "source": [
    "### Predictor that has a low p-value is likely to be a meaningful  because changes in the predictor's value are related to changes in the response variable. So below we can see p-values of our predictors and can make conclusion that smoker,age and bmi have strong impact on the results we get. "
   ]
  },
  {
   "cell_type": "code",
   "execution_count": 460,
   "metadata": {},
   "outputs": [
    {
     "data": {
      "text/plain": [
       "smoker       9.911550e-282\n",
       "age           5.556900e-69\n",
       "bmi           6.130485e-25\n",
       "2             4.837659e-03\n",
       "southwest     7.827544e-03\n",
       "southeast     1.395916e-02\n",
       "northwest     5.584684e-02\n",
       "3             1.719014e-01\n",
       "sex           4.433763e-01\n",
       "1             7.098069e-01\n",
       "dtype: float64"
      ]
     },
     "execution_count": 460,
     "metadata": {},
     "output_type": "execute_result"
    }
   ],
   "source": [
    "ols_model.pvalues.sort_values()"
   ]
  },
  {
   "cell_type": "markdown",
   "metadata": {},
   "source": [
    "### Predictors with higher absolute coefficients have higher impact on the result of our model. So we can see again that smoker, age and bmi are the most important features and they have the highest impact in our model."
   ]
  },
  {
   "cell_type": "code",
   "execution_count": 479,
   "metadata": {},
   "outputs": [
    {
     "data": {
      "text/plain": [
       "smoker       23331.969423\n",
       "age          11046.951676\n",
       "bmi          10465.347822\n",
       "2             1482.412753\n",
       "southwest     1340.939013\n",
       "southeast     1313.693516\n",
       "northwest      955.628926\n",
       "3              780.158567\n",
       "sex            281.876577\n",
       "1              173.839213\n",
       "dtype: float64"
      ]
     },
     "execution_count": 479,
     "metadata": {},
     "output_type": "execute_result"
    }
   ],
   "source": [
    "np.abs(ols_model.params).sort_values(ascending=False)"
   ]
  },
  {
   "cell_type": "markdown",
   "metadata": {},
   "source": [
    "### The R-2 score of the model above. It's 0.80 and if to take into account that good results lie between 0 and 1, we have good results and how to explain it. One of the way of interpretation of R-2 score is the part of the variety our model explains in the whole variety of answers so we can say this model explains 80% of variety of our data. "
   ]
  },
  {
   "cell_type": "code",
   "execution_count": 461,
   "metadata": {},
   "outputs": [
    {
     "data": {
      "text/plain": [
       "0.7973631353742893"
      ]
     },
     "execution_count": 461,
     "metadata": {},
     "output_type": "execute_result"
    }
   ],
   "source": [
    "r2_score(y_test, ols_model.predict(X_test))"
   ]
  },
  {
   "cell_type": "markdown",
   "metadata": {},
   "source": [
    "### The MAE of the model above. It's 4000 and we can interprete as a mistake +- 4000 in general for object"
   ]
  },
  {
   "cell_type": "code",
   "execution_count": 462,
   "metadata": {},
   "outputs": [
    {
     "data": {
      "text/plain": [
       "3946.6325282672988"
      ]
     },
     "execution_count": 462,
     "metadata": {},
     "output_type": "execute_result"
    }
   ],
   "source": [
    "mean_absolute_error(y_test, ols_model.predict(X_test))"
   ]
  },
  {
   "cell_type": "markdown",
   "metadata": {},
   "source": [
    "Let's make some new features to add nonlinearity to obtain better results."
   ]
  },
  {
   "cell_type": "code",
   "execution_count": 463,
   "metadata": {},
   "outputs": [],
   "source": [
    "X_tr = polynom.fit_transform(X_train[['age','bmi','smoker']])\n",
    "X_ts = polynom.fit_transform(X_test[['age','bmi','smoker']])"
   ]
  },
  {
   "cell_type": "code",
   "execution_count": 464,
   "metadata": {},
   "outputs": [],
   "source": [
    "X_train = np.concatenate((X_train.drop(['age','bmi','smoker'],axis=1).values,X_tr),axis=1)\n",
    "X_test = np.concatenate((X_test.drop(['age','bmi','smoker'],axis=1).values,X_ts),axis=1)"
   ]
  },
  {
   "cell_type": "code",
   "execution_count": 465,
   "metadata": {},
   "outputs": [],
   "source": [
    "new_ols_model = lr.OLS(endog=y_train, exog=X_train).fit()"
   ]
  },
  {
   "cell_type": "code",
   "execution_count": 466,
   "metadata": {},
   "outputs": [
    {
     "data": {
      "text/html": [
       "<table class=\"simpletable\">\n",
       "<caption>OLS Regression Results</caption>\n",
       "<tr>\n",
       "  <th>Dep. Variable:</th>         <td>charges</td>     <th>  R-squared:         </th> <td>   0.834</td> \n",
       "</tr>\n",
       "<tr>\n",
       "  <th>Model:</th>                   <td>OLS</td>       <th>  Adj. R-squared:    </th> <td>   0.832</td> \n",
       "</tr>\n",
       "<tr>\n",
       "  <th>Method:</th>             <td>Least Squares</td>  <th>  F-statistic:       </th> <td>   352.9</td> \n",
       "</tr>\n",
       "<tr>\n",
       "  <th>Date:</th>             <td>Thu, 04 Jun 2020</td> <th>  Prob (F-statistic):</th>  <td>  0.00</td>  \n",
       "</tr>\n",
       "<tr>\n",
       "  <th>Time:</th>                 <td>19:52:33</td>     <th>  Log-Likelihood:    </th> <td> -10606.</td> \n",
       "</tr>\n",
       "<tr>\n",
       "  <th>No. Observations:</th>      <td>  1070</td>      <th>  AIC:               </th> <td>2.124e+04</td>\n",
       "</tr>\n",
       "<tr>\n",
       "  <th>Df Residuals:</th>          <td>  1054</td>      <th>  BIC:               </th> <td>2.132e+04</td>\n",
       "</tr>\n",
       "<tr>\n",
       "  <th>Df Model:</th>              <td>    15</td>      <th>                     </th>     <td> </td>    \n",
       "</tr>\n",
       "<tr>\n",
       "  <th>Covariance Type:</th>      <td>nonrobust</td>    <th>                     </th>     <td> </td>    \n",
       "</tr>\n",
       "</table>\n",
       "<table class=\"simpletable\">\n",
       "<tr>\n",
       "    <td></td>       <th>coef</th>     <th>std err</th>      <th>t</th>      <th>P>|t|</th>  <th>[0.025</th>    <th>0.975]</th>  \n",
       "</tr>\n",
       "<tr>\n",
       "  <th>x1</th>    <td> -422.9960</td> <td>  302.237</td> <td>   -1.400</td> <td> 0.162</td> <td>-1016.050</td> <td>  170.058</td>\n",
       "</tr>\n",
       "<tr>\n",
       "  <th>x2</th>    <td> -601.9672</td> <td>  439.866</td> <td>   -1.369</td> <td> 0.171</td> <td>-1465.080</td> <td>  261.146</td>\n",
       "</tr>\n",
       "<tr>\n",
       "  <th>x3</th>    <td>-1006.0623</td> <td>  439.767</td> <td>   -2.288</td> <td> 0.022</td> <td>-1868.981</td> <td> -143.143</td>\n",
       "</tr>\n",
       "<tr>\n",
       "  <th>x4</th>    <td>-1224.8920</td> <td>  434.193</td> <td>   -2.821</td> <td> 0.005</td> <td>-2076.873</td> <td> -372.911</td>\n",
       "</tr>\n",
       "<tr>\n",
       "  <th>x5</th>    <td>  890.0390</td> <td>  399.967</td> <td>    2.225</td> <td> 0.026</td> <td>  105.216</td> <td> 1674.862</td>\n",
       "</tr>\n",
       "<tr>\n",
       "  <th>x6</th>    <td> 2091.2305</td> <td>  443.402</td> <td>    4.716</td> <td> 0.000</td> <td> 1221.180</td> <td> 2961.281</td>\n",
       "</tr>\n",
       "<tr>\n",
       "  <th>x7</th>    <td> 1767.0796</td> <td>  473.044</td> <td>    3.736</td> <td> 0.000</td> <td>  838.865</td> <td> 2695.294</td>\n",
       "</tr>\n",
       "<tr>\n",
       "  <th>const</th> <td> 2072.4039</td> <td>  957.238</td> <td>    2.165</td> <td> 0.031</td> <td>  194.095</td> <td> 3950.712</td>\n",
       "</tr>\n",
       "<tr>\n",
       "  <th>x8</th>    <td> 4547.8186</td> <td> 2210.832</td> <td>    2.057</td> <td> 0.040</td> <td>  209.686</td> <td> 8885.951</td>\n",
       "</tr>\n",
       "<tr>\n",
       "  <th>x9</th>    <td> 1.067e+04</td> <td> 3668.573</td> <td>    2.910</td> <td> 0.004</td> <td> 3475.974</td> <td> 1.79e+04</td>\n",
       "</tr>\n",
       "<tr>\n",
       "  <th>x10</th>   <td> 1443.2300</td> <td>  529.503</td> <td>    2.726</td> <td> 0.007</td> <td>  404.230</td> <td> 2482.230</td>\n",
       "</tr>\n",
       "<tr>\n",
       "  <th>x11</th>   <td> 6503.1664</td> <td> 1997.894</td> <td>    3.255</td> <td> 0.001</td> <td> 2582.864</td> <td> 1.04e+04</td>\n",
       "</tr>\n",
       "<tr>\n",
       "  <th>x12</th>   <td> 3432.7139</td> <td> 2993.400</td> <td>    1.147</td> <td> 0.252</td> <td>-2440.986</td> <td> 9306.414</td>\n",
       "</tr>\n",
       "<tr>\n",
       "  <th>x13</th>   <td>   85.6372</td> <td> 1246.916</td> <td>    0.069</td> <td> 0.945</td> <td>-2361.084</td> <td> 2532.358</td>\n",
       "</tr>\n",
       "<tr>\n",
       "  <th>x14</th>   <td>-1.368e+04</td> <td> 4000.695</td> <td>   -3.420</td> <td> 0.001</td> <td>-2.15e+04</td> <td>-5830.522</td>\n",
       "</tr>\n",
       "<tr>\n",
       "  <th>x15</th>   <td> 5.274e+04</td> <td> 2194.739</td> <td>   24.029</td> <td> 0.000</td> <td> 4.84e+04</td> <td>  5.7e+04</td>\n",
       "</tr>\n",
       "<tr>\n",
       "  <th>x16</th>   <td> 1443.2300</td> <td>  529.503</td> <td>    2.726</td> <td> 0.007</td> <td>  404.230</td> <td> 2482.230</td>\n",
       "</tr>\n",
       "</table>\n",
       "<table class=\"simpletable\">\n",
       "<tr>\n",
       "  <th>Omnibus:</th>       <td>588.708</td> <th>  Durbin-Watson:     </th> <td>   2.032</td>\n",
       "</tr>\n",
       "<tr>\n",
       "  <th>Prob(Omnibus):</th> <td> 0.000</td>  <th>  Jarque-Bera (JB):  </th> <td>3643.528</td>\n",
       "</tr>\n",
       "<tr>\n",
       "  <th>Skew:</th>          <td> 2.569</td>  <th>  Prob(JB):          </th> <td>    0.00</td>\n",
       "</tr>\n",
       "<tr>\n",
       "  <th>Kurtosis:</th>      <td>10.439</td>  <th>  Cond. No.          </th> <td>1.80e+16</td>\n",
       "</tr>\n",
       "</table><br/><br/>Warnings:<br/>[1] Standard Errors assume that the covariance matrix of the errors is correctly specified.<br/>[2] The smallest eigenvalue is 7.55e-30. This might indicate that there are<br/>strong multicollinearity problems or that the design matrix is singular."
      ],
      "text/plain": [
       "<class 'statsmodels.iolib.summary.Summary'>\n",
       "\"\"\"\n",
       "                            OLS Regression Results                            \n",
       "==============================================================================\n",
       "Dep. Variable:                charges   R-squared:                       0.834\n",
       "Model:                            OLS   Adj. R-squared:                  0.832\n",
       "Method:                 Least Squares   F-statistic:                     352.9\n",
       "Date:                Thu, 04 Jun 2020   Prob (F-statistic):               0.00\n",
       "Time:                        19:52:33   Log-Likelihood:                -10606.\n",
       "No. Observations:                1070   AIC:                         2.124e+04\n",
       "Df Residuals:                    1054   BIC:                         2.132e+04\n",
       "Df Model:                          15                                         \n",
       "Covariance Type:            nonrobust                                         \n",
       "==============================================================================\n",
       "                 coef    std err          t      P>|t|      [0.025      0.975]\n",
       "------------------------------------------------------------------------------\n",
       "x1          -422.9960    302.237     -1.400      0.162   -1016.050     170.058\n",
       "x2          -601.9672    439.866     -1.369      0.171   -1465.080     261.146\n",
       "x3         -1006.0623    439.767     -2.288      0.022   -1868.981    -143.143\n",
       "x4         -1224.8920    434.193     -2.821      0.005   -2076.873    -372.911\n",
       "x5           890.0390    399.967      2.225      0.026     105.216    1674.862\n",
       "x6          2091.2305    443.402      4.716      0.000    1221.180    2961.281\n",
       "x7          1767.0796    473.044      3.736      0.000     838.865    2695.294\n",
       "const       2072.4039    957.238      2.165      0.031     194.095    3950.712\n",
       "x8          4547.8186   2210.832      2.057      0.040     209.686    8885.951\n",
       "x9          1.067e+04   3668.573      2.910      0.004    3475.974    1.79e+04\n",
       "x10         1443.2300    529.503      2.726      0.007     404.230    2482.230\n",
       "x11         6503.1664   1997.894      3.255      0.001    2582.864    1.04e+04\n",
       "x12         3432.7139   2993.400      1.147      0.252   -2440.986    9306.414\n",
       "x13           85.6372   1246.916      0.069      0.945   -2361.084    2532.358\n",
       "x14        -1.368e+04   4000.695     -3.420      0.001   -2.15e+04   -5830.522\n",
       "x15         5.274e+04   2194.739     24.029      0.000    4.84e+04     5.7e+04\n",
       "x16         1443.2300    529.503      2.726      0.007     404.230    2482.230\n",
       "==============================================================================\n",
       "Omnibus:                      588.708   Durbin-Watson:                   2.032\n",
       "Prob(Omnibus):                  0.000   Jarque-Bera (JB):             3643.528\n",
       "Skew:                           2.569   Prob(JB):                         0.00\n",
       "Kurtosis:                      10.439   Cond. No.                     1.80e+16\n",
       "==============================================================================\n",
       "\n",
       "Warnings:\n",
       "[1] Standard Errors assume that the covariance matrix of the errors is correctly specified.\n",
       "[2] The smallest eigenvalue is 7.55e-30. This might indicate that there are\n",
       "strong multicollinearity problems or that the design matrix is singular.\n",
       "\"\"\""
      ]
     },
     "execution_count": 466,
     "metadata": {},
     "output_type": "execute_result"
    }
   ],
   "source": [
    "new_ols_model.summary()"
   ]
  },
  {
   "cell_type": "code",
   "execution_count": 467,
   "metadata": {},
   "outputs": [
    {
     "data": {
      "text/plain": [
       "x15      4.275387e-102\n",
       "x6        2.723796e-06\n",
       "x7        1.973426e-04\n",
       "x14       6.511590e-04\n",
       "x11       1.169954e-03\n",
       "x9        3.693573e-03\n",
       "x4        4.876115e-03\n",
       "x10       6.524211e-03\n",
       "x16       6.524211e-03\n",
       "x3        2.235147e-02\n",
       "x5        2.627345e-02\n",
       "const     3.061282e-02\n",
       "x8        3.992590e-02\n",
       "x1        1.619420e-01\n",
       "x2        1.714400e-01\n",
       "x12       2.517407e-01\n",
       "x13       9.452580e-01\n",
       "dtype: float64"
      ]
     },
     "execution_count": 467,
     "metadata": {},
     "output_type": "execute_result"
    }
   ],
   "source": [
    "new_ols_model.pvalues.sort_values()"
   ]
  },
  {
   "cell_type": "code",
   "execution_count": 478,
   "metadata": {},
   "outputs": [
    {
     "data": {
      "text/plain": [
       "x15      52738.322950\n",
       "x14      13680.755569\n",
       "x9       10674.510838\n",
       "x11       6503.166373\n",
       "x8        4547.818593\n",
       "x12       3432.713862\n",
       "x6        2091.230542\n",
       "const     2072.403912\n",
       "x7        1767.079609\n",
       "x10       1443.230015\n",
       "x16       1443.230015\n",
       "x4        1224.891981\n",
       "x3        1006.062287\n",
       "x5         890.038970\n",
       "x2         601.967172\n",
       "x1         422.995971\n",
       "x13         85.637223\n",
       "dtype: float64"
      ]
     },
     "execution_count": 478,
     "metadata": {},
     "output_type": "execute_result"
    }
   ],
   "source": [
    "np.abs(new_ols_model.params).sort_values(ascending=False)"
   ]
  },
  {
   "cell_type": "markdown",
   "metadata": {},
   "source": [
    "### Here we can see that we improved our results from 0.8 to 0.88"
   ]
  },
  {
   "cell_type": "code",
   "execution_count": 468,
   "metadata": {},
   "outputs": [
    {
     "data": {
      "text/plain": [
       "0.8855189858726291"
      ]
     },
     "execution_count": 468,
     "metadata": {},
     "output_type": "execute_result"
    }
   ],
   "source": [
    "r2_score(y_test, new_ols_model.predict(X_test))"
   ]
  },
  {
   "cell_type": "markdown",
   "metadata": {},
   "source": [
    "### And MAE was improved from 4000 to 2800"
   ]
  },
  {
   "cell_type": "code",
   "execution_count": 469,
   "metadata": {},
   "outputs": [
    {
     "data": {
      "text/plain": [
       "2815.1934345532645"
      ]
     },
     "execution_count": 469,
     "metadata": {},
     "output_type": "execute_result"
    }
   ],
   "source": [
    "mean_absolute_error(y_test, new_ols_model.predict(X_test))"
   ]
  },
  {
   "cell_type": "markdown",
   "metadata": {},
   "source": [
    "# Random Forest"
   ]
  },
  {
   "cell_type": "code",
   "execution_count": 508,
   "metadata": {},
   "outputs": [
    {
     "name": "stderr",
     "output_type": "stream",
     "text": [
      "C:\\Users\\Windows10x64\\anaconda3\\lib\\site-packages\\ipykernel_launcher.py:2: DataConversionWarning: A column-vector y was passed when a 1d array was expected. Please change the shape of y to (n_samples,), for example using ravel().\n",
      "  \n"
     ]
    },
    {
     "name": "stdout",
     "output_type": "stream",
     "text": [
      "R2 score for test data 0.8961816761789606\n",
      "R2 score for train data 0.8882686790474139\n",
      "Mean absolute error for test data 2378.473899683231\n",
      "Mean absolute error for train data 2201.4971510685955\n"
     ]
    }
   ],
   "source": [
    "forest = RandomForestRegressor(n_estimators=150,random_state=1,max_depth=6)\n",
    "forest.fit(X_train,y_train)\n",
    "print('R2 score for test data {}'.format(forest.score(X_test,y_test)))\n",
    "print('R2 score for train data {}'.format(forest.score(X_train,y_train)))\n",
    "print('Mean absolute error for test data {}'.format(mean_absolute_error(y_test,forest.predict(X_test))))\n",
    "print('Mean absolute error for train data {}'.format(mean_absolute_error(y_train,forest.predict(X_train))))"
   ]
  },
  {
   "cell_type": "code",
   "execution_count": 511,
   "metadata": {},
   "outputs": [
    {
     "data": {
      "image/png": "[encoded data removed]",
      "text/plain": [
       "<Figure size 432x288 with 1 Axes>"
      ]
     },
     "metadata": {
      "needs_background": "light"
     },
     "output_type": "display_data"
    }
   ],
   "source": [
    "plt.scatter(np.arange(len(y_test)), y_test,alpha=0.4);\n",
    "plt.scatter(np.arange(len(y_test)), forest.predict(X_test),alpha=0.4);\n",
    "plt.title('Charges');"
   ]
  },
  {
   "cell_type": "markdown",
   "metadata": {},
   "source": [
    "# XGBRegressor model"
   ]
  },
  {
   "cell_type": "code",
   "execution_count": 520,
   "metadata": {},
   "outputs": [
    {
     "name": "stdout",
     "output_type": "stream",
     "text": [
      "R2 score for test data 0.8784510711426791\n",
      "R2 score for train data 0.8842222648561235\n",
      "Mean absolute error for test data 2428.7349771735658\n",
      "Mean absolute error for train data 2082.8225227224375\n"
     ]
    }
   ],
   "source": [
    "xgb_model = XGBRegressor(n_estimators=8)\n",
    "xgb_model.fit(X_train, y_train)\n",
    "print('R2 score for test data {}'.format(xgb_model.score(X_test,y_test)))\n",
    "print('R2 score for train data {}'.format(xgb_model.score(X_train,y_train)))\n",
    "print('Mean absolute error for test data {}'.format(mean_absolute_error(y_test,xgb_model.predict(X_test))))\n",
    "print('Mean absolute error for train data {}'.format(mean_absolute_error(y_train,xgb_model.predict(X_train))))"
   ]
  },
  {
   "cell_type": "markdown",
   "metadata": {},
   "source": [
    "The best result was obtained with random forest it's r2 score equals 0.89 also it was not overfitted because the scores for train and test data are similar."
   ]
  },
  {
   "cell_type": "markdown",
   "metadata": {},
   "source": [
    "# Conclusion"
   ]
  },
  {
   "cell_type": "markdown",
   "metadata": {},
   "source": [
    "Our model gives us good results (R2 score = 0.89 and MAE = 2400) if to take into account that we have only 1338 rows and several features which are not highly correlated with the target feature. To obtain better results in predicting the charges we need more features (like alcholol, drugs, sugar level and etc) and more data. Also one of the main features (BMI) could cause some problems for our model because it uses only weight and height and we don't know anything about the percent of fat and muscles in the body. "
   ]
  },
  {
   "cell_type": "code",
   "execution_count": null,
   "metadata": {},
   "outputs": [],
   "source": []
  }
 ],
 "metadata": {
  "kernelspec": {
   "display_name": "Python 3",
   "language": "python",
   "name": "python3"
  },
  "language_info": {
   "codemirror_mode": {
    "name": "ipython",
    "version": 3
   },
   "file_extension": ".py",
   "mimetype": "text/x-python",
   "name": "python",
   "nbconvert_exporter": "python",
   "pygments_lexer": "ipython3",
   "version": "3.7.6"
  }
 },
 "nbformat": 4,
 "nbformat_minor": 4
}
